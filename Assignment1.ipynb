{
 "cells": [
  {
   "cell_type": "code",
   "execution_count": 1,
   "metadata": {},
   "outputs": [
    {
     "name": "stdout",
     "output_type": "stream",
     "text": [
      "The last element is 4\n"
     ]
    }
   ],
   "source": [
    "def last_element(l):\n",
    "    \n",
    " print(\"The last element is \" + str(l[-1]))  \n",
    "\n",
    "last_element([1, 2, 3, 4])\n"
   ]
  },
  {
   "cell_type": "code",
   "execution_count": 2,
   "metadata": {},
   "outputs": [
    {
     "data": {
      "text/plain": [
       "3"
      ]
     },
     "execution_count": 2,
     "metadata": {},
     "output_type": "execute_result"
    }
   ],
   "source": [
    "def num_elements(l):\n",
    " num = 0\n",
    " for item in l:\n",
    "        num += 1\n",
    " return num\n",
    " print(num)\n",
    "    \n",
    "num_elements([2, 3, 4])    "
   ]
  },
  {
   "cell_type": "code",
   "execution_count": 3,
   "metadata": {},
   "outputs": [
    {
     "name": "stdout",
     "output_type": "stream",
     "text": [
      "[4, 3, 2]\n"
     ]
    }
   ],
   "source": [
    "def reverse_list(l):\n",
    "    l.sort(reverse=True)\n",
    "    print(l)\n",
    "    \n",
    "reverse_list([2, 3, 4])    "
   ]
  },
  {
   "cell_type": "code",
   "execution_count": 1,
   "metadata": {},
   "outputs": [
    {
     "ename": "SyntaxError",
     "evalue": "invalid syntax (<ipython-input-1-d77237306194>, line 7)",
     "output_type": "error",
     "traceback": [
      "\u001b[1;36m  File \u001b[1;32m\"<ipython-input-1-d77237306194>\"\u001b[1;36m, line \u001b[1;32m7\u001b[0m\n\u001b[1;33m    else:\u001b[0m\n\u001b[1;37m    ^\u001b[0m\n\u001b[1;31mSyntaxError\u001b[0m\u001b[1;31m:\u001b[0m invalid syntax\n"
     ]
    }
   ],
   "source": [
    "def compress(l):\n",
    "    i = 0\n",
    "    while i <(len(l)-1):\n",
    "        if l[i]!=l[i+1]:\n",
    "                   print(l[i])\n",
    "        i = i + 1        \n",
    "        else:\n",
    "            continue\n",
    "\n",
    "compress([1, 2, 2])         \n",
    "    "
   ]
  },
  {
   "cell_type": "code",
   "execution_count": 2,
   "metadata": {},
   "outputs": [
    {
     "name": "stdout",
     "output_type": "stream",
     "text": [
      "[3, 8]\n"
     ]
    }
   ],
   "source": [
    "def slice(l, i, k):\n",
    "    print(l[i:k])\n",
    "slice([1, 3, 8, 9, 7], 1, 3)    "
   ]
  },
  {
   "cell_type": "code",
   "execution_count": 15,
   "metadata": {},
   "outputs": [],
   "source": [
    "def insert_element(l, i, elem):\n",
    "    if i>len(l):\n",
    "        l.append(elem)\n",
    "        print(l)\n",
    "        \n",
    "    else:\n",
    "        l.insert(i,elem)\n",
    "        print(l)\n",
    "    \n",
    "\n",
    "    insert_element([1, 5, ], 3, 5)        \n",
    "        "
   ]
  },
  {
   "cell_type": "code",
   "execution_count": null,
   "metadata": {},
   "outputs": [],
   "source": []
  }
 ],
 "metadata": {
  "kernelspec": {
   "display_name": "Python 3",
   "language": "python",
   "name": "python3"
  },
  "language_info": {
   "codemirror_mode": {
    "name": "ipython",
    "version": 3
   },
   "file_extension": ".py",
   "mimetype": "text/x-python",
   "name": "python",
   "nbconvert_exporter": "python",
   "pygments_lexer": "ipython3",
   "version": "3.8.3"
  }
 },
 "nbformat": 4,
 "nbformat_minor": 4
}
