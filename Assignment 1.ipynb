{
  "nbformat": 4,
  "nbformat_minor": 0,
  "metadata": {
    "colab": {
      "name": "Untitled0.ipynb",
      "provenance": []
    },
    "kernelspec": {
      "name": "python3",
      "display_name": "Python 3"
    }
  },
  "cells": [
    {
      "cell_type": "markdown",
      "metadata": {
        "id": "wekOU5gBmgFa"
      },
      "source": [
        "ASSIGNMENT 1:"
      ]
    },
    {
      "cell_type": "markdown",
      "metadata": {
        "id": "DzWO09Eumk5r"
      },
      "source": [
        "QUESTION NO. 1:"
      ]
    },
    {
      "cell_type": "code",
      "metadata": {
        "colab": {
          "base_uri": "https://localhost:8080/"
        },
        "id": "2fO7UxzbmqXU",
        "outputId": "cc221782-e601-4dd4-fcf0-cb55491192a0"
      },
      "source": [
        "def last_element(l):\r\n",
        "    \"\"\"\r\n",
        "    Returns last element of list l\r\n",
        "    \"\"\"\r\n",
        "    last=len(l)\r\n",
        "    lastElement = l[last-1]\r\n",
        "    return lastElement\r\n",
        "\r\n",
        "print(last_element([\"Hello\", \"World\"]))\r\n"
      ],
      "execution_count": 2,
      "outputs": [
        {
          "output_type": "stream",
          "text": [
            "World\n"
          ],
          "name": "stdout"
        }
      ]
    },
    {
      "cell_type": "markdown",
      "metadata": {
        "id": "fwoov5gDn_Pt"
      },
      "source": [
        "QUESTION 2:"
      ]
    },
    {
      "cell_type": "code",
      "metadata": {
        "colab": {
          "base_uri": "https://localhost:8080/"
        },
        "id": "us6bm8mVoCPC",
        "outputId": "e957f4fb-7ada-4d78-e17d-bd6cc2ec2512"
      },
      "source": [
        "def num_elements(l):\r\n",
        "    \"\"\"\r\n",
        "    Returns number of elements in the list l\r\n",
        "    \"\"\"\r\n",
        "    num = len(l)\r\n",
        "    return num\r\n",
        "\r\n",
        "num_elements([2, 3, 4])==3"
      ],
      "execution_count": 3,
      "outputs": [
        {
          "output_type": "execute_result",
          "data": {
            "text/plain": [
              "True"
            ]
          },
          "metadata": {
            "tags": []
          },
          "execution_count": 3
        }
      ]
    },
    {
      "cell_type": "markdown",
      "metadata": {
        "id": "k2LJSs3MoT9q"
      },
      "source": [
        "QUESTION 3:"
      ]
    },
    {
      "cell_type": "code",
      "metadata": {
        "colab": {
          "base_uri": "https://localhost:8080/"
        },
        "id": "OjInOb5WoYLK",
        "outputId": "7c895856-5192-4761-d6a2-7662234ae470"
      },
      "source": [
        "def reverse_list(l):\r\n",
        "    \"\"\"\r\n",
        "    Returns the reverse of a list l\r\n",
        "    \"\"\"\r\n",
        "    l.reverse()\r\n",
        "    return l\r\n",
        "\r\n",
        "reverse_list([2, 3, 4])== [4, 3, 2]\r\n",
        "\r\n"
      ],
      "execution_count": 5,
      "outputs": [
        {
          "output_type": "execute_result",
          "data": {
            "text/plain": [
              "True"
            ]
          },
          "metadata": {
            "tags": []
          },
          "execution_count": 5
        }
      ]
    },
    {
      "cell_type": "markdown",
      "metadata": {
        "id": "DzhbwUAGo9op"
      },
      "source": [
        "QUESTION 4:"
      ]
    },
    {
      "cell_type": "code",
      "metadata": {
        "colab": {
          "base_uri": "https://localhost:8080/"
        },
        "id": "CR-XWBjvpATq",
        "outputId": "87f3ed3c-88f3-433e-8e5b-a78e339b0a82"
      },
      "source": [
        "def is_palindrome(l):\r\n",
        "    \"\"\"\r\n",
        "    Returns True if l is a palindrome, False otherwise\r\n",
        "    \"\"\"\r\n",
        "    lst1 = l\r\n",
        "    l.reverse()\r\n",
        "    if lst1 == l:\r\n",
        "      return True\r\n",
        "    else: return False\r\n",
        "\r\n",
        "(is_palindrome([1, 2, 1])) == True\r\n",
        "(is_palindrome([1, 2, 3, 2, 1])) == True\r\n",
        "\r\n"
      ],
      "execution_count": 28,
      "outputs": [
        {
          "output_type": "execute_result",
          "data": {
            "text/plain": [
              "True"
            ]
          },
          "metadata": {
            "tags": []
          },
          "execution_count": 28
        }
      ]
    },
    {
      "cell_type": "markdown",
      "metadata": {
        "id": "74EoFK9dqWas"
      },
      "source": [
        "Question 5:"
      ]
    },
    {
      "cell_type": "code",
      "metadata": {
        "colab": {
          "base_uri": "https://localhost:8080/"
        },
        "id": "fzqEPG-cqX97",
        "outputId": "a032b7cf-458c-4ddd-c171-111c95295ab2"
      },
      "source": [
        "def compress(l):\r\n",
        "    \"\"\"\r\n",
        "    Returns a list with consecutive duplicate elements replaced by a single element\r\n",
        "    \"\"\"\r\n",
        "    previous_ele = None\r\n",
        "    lst = list()\r\n",
        "    for i in l:\r\n",
        "     if i!= previous_ele:\r\n",
        "       lst.append(i)\r\n",
        "       previous_ele = i\r\n",
        "    return lst\r\n",
        "\r\n",
        "(compress([1, 2, 2, 2, 1, 1, 3, 'x', 'x', 'x'])) == [1, 2, 1, 3, 'x']"
      ],
      "execution_count": 25,
      "outputs": [
        {
          "output_type": "execute_result",
          "data": {
            "text/plain": [
              "True"
            ]
          },
          "metadata": {
            "tags": []
          },
          "execution_count": 25
        }
      ]
    },
    {
      "cell_type": "markdown",
      "metadata": {
        "id": "SmSrhYVi6XrD"
      },
      "source": [
        "QUESTION 6:"
      ]
    },
    {
      "cell_type": "code",
      "metadata": {
        "colab": {
          "base_uri": "https://localhost:8080/"
        },
        "id": "scdRzBlr6aVi",
        "outputId": "b6b44ad8-f222-4956-f50b-8d7ea8ba9414"
      },
      "source": [
        "def pack(l):\r\n",
        "    \"\"\"\r\n",
        "    Returns a list with consecutive duplicate elements packed into sublists\r\n",
        "    \"\"\"\r\n",
        "    global lst_sub\r\n",
        "    prev_ele = None\r\n",
        "    lst_main = list()\r\n",
        "    for i in l:\r\n",
        "      if i!= prev_ele:\r\n",
        "        lst_sub = list()\r\n",
        "        lst_main.append(lst_sub)\r\n",
        "        lst_sub.append(i)\r\n",
        "        prev_ele=i\r\n",
        "      else :\r\n",
        "         lst_sub.append(i)\r\n",
        "    return lst_main\r\n",
        "\r\n",
        "(pack([1, 1, 1, 2, 1, 1, 3, 3, 3])) == [[1, 1, 1], [2], [1, 1], [3, 3, 3]]\r\n",
        "(pack([1, 1, 1, 2]) == [[1, 1, 1], [2]])\r\n"
      ],
      "execution_count": 27,
      "outputs": [
        {
          "output_type": "execute_result",
          "data": {
            "text/plain": [
              "True"
            ]
          },
          "metadata": {
            "tags": []
          },
          "execution_count": 27
        }
      ]
    },
    {
      "cell_type": "markdown",
      "metadata": {
        "id": "TKf_rSdstgRZ"
      },
      "source": [
        "QUESTION 7:\r\n"
      ]
    },
    {
      "cell_type": "code",
      "metadata": {
        "colab": {
          "base_uri": "https://localhost:8080/"
        },
        "id": "vJcjTrx9tkb3",
        "outputId": "515a5419-9b06-4a40-8896-3aa6b2367d32"
      },
      "source": [
        "def slice(l, i, k):\r\n",
        "    \"\"\"\r\n",
        "    Returns a list containing the elements between i'th and k'th elements of original list l.\r\n",
        "    \"\"\"  \r\n",
        "    lst = l[i:k]\r\n",
        "    return lst\r\n",
        "\r\n",
        "(slice([1, 3, 8, 9, 7], 1, 3)) == [3,8]\r\n",
        "(slice([1, 4, 6, 'x', 9, 0], 2, 10)) == [6, 'x', 9, 0]"
      ],
      "execution_count": 13,
      "outputs": [
        {
          "output_type": "execute_result",
          "data": {
            "text/plain": [
              "True"
            ]
          },
          "metadata": {
            "tags": []
          },
          "execution_count": 13
        }
      ]
    },
    {
      "cell_type": "markdown",
      "metadata": {
        "id": "yRxFHpbpu1oD"
      },
      "source": [
        "QUESTION 8:"
      ]
    },
    {
      "cell_type": "code",
      "metadata": {
        "colab": {
          "base_uri": "https://localhost:8080/"
        },
        "id": "YCgNmdHVu30H",
        "outputId": "fc95c442-1c84-4f33-e87e-aa96a97381dd"
      },
      "source": [
        "def insert_element(l, i, elem):\r\n",
        "    \"\"\"\r\n",
        "    Returns a new list containing elem at index i. If i > len (l), insert element at the end of the list\r\n",
        "    \"\"\"      \r\n",
        "    l.insert(i,elem)\r\n",
        "    return l\r\n",
        "\r\n",
        "(insert_element([1, 2, 3, 4,], 2, 5)[2]) == 5\r\n",
        "(insert_element([1, 5, ], 3, 5)) == [1, 5, 5]"
      ],
      "execution_count": 18,
      "outputs": [
        {
          "output_type": "execute_result",
          "data": {
            "text/plain": [
              "True"
            ]
          },
          "metadata": {
            "tags": []
          },
          "execution_count": 18
        }
      ]
    }
  ]
}