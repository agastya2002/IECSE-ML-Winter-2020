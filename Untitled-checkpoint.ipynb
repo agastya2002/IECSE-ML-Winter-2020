{
 "cells": [
  {
   "cell_type": "code",
   "execution_count": null,
   "id": "searching-portal",
   "metadata": {},
   "outputs": [],
   "source": [
    "#Assignment 1 - Basic Python"
   ]
  },
  {
   "cell_type": "code",
   "execution_count": 1,
   "id": "manual-portugal",
   "metadata": {},
   "outputs": [
    {
     "name": "stdout",
     "output_type": "stream",
     "text": [
      "4\n"
     ]
    }
   ],
   "source": [
    "#1\n",
    "\n",
    "def last_element(l):\n",
    "    return l[len(l)-1]\n",
    "print(last_element([1, 2, 3, 4]))\n",
    "assert last_element([1]) == 1\n",
    "assert last_element([\"Hello\", \"World\"]) == \"World\""
   ]
  },
  {
   "cell_type": "code",
   "execution_count": 6,
   "id": "civil-power",
   "metadata": {},
   "outputs": [
    {
     "name": "stdout",
     "output_type": "stream",
     "text": [
      "3\n"
     ]
    }
   ],
   "source": [
    "#2\n",
    "\n",
    "def num_elements(l):\n",
    "    return len(l)\n",
    "print(num_elements([1,2,3,4]))\n",
    "assert num_elements([2, 3, 4])==3"
   ]
  },
  {
   "cell_type": "code",
   "execution_count": 8,
   "id": "little-drunk",
   "metadata": {},
   "outputs": [
    {
     "name": "stdout",
     "output_type": "stream",
     "text": [
      "[4, 3, 2, 1]\n"
     ]
    }
   ],
   "source": [
    "#3\n",
    "\n",
    "def reverse_list(l):\n",
    "    l.reverse()\n",
    "    return l\n",
    "print(reverse_list([1,2,3,4]))\n",
    "assert reverse_list([2, 3, 4])== [4, 3, 2]"
   ]
  },
  {
   "cell_type": "code",
   "execution_count": 13,
   "id": "norwegian-swift",
   "metadata": {},
   "outputs": [
    {
     "name": "stdout",
     "output_type": "stream",
     "text": [
      "True\n"
     ]
    }
   ],
   "source": [
    "#4\n",
    "\n",
    "def reverse_list1(l):\n",
    "    return l[::-1]\n",
    "    \n",
    "def is_palindrome(l):\n",
    "    reverse_list(l)\n",
    "    if l==reverse_list1(l):\n",
    "        return True\n",
    "    else:\n",
    "        return False\n",
    "    \n",
    "print(is_palindrome([1,2,2,1]))\n",
    "assert(is_palindrome([1, 2, 1])) == True\n",
    "assert(is_palindrome([1, 2, 3, 2, 1])) == True\n",
    "assert(is_palindrome([1, 2, 3, 4])) == False"
   ]
  },
  {
   "cell_type": "code",
   "execution_count": 28,
   "id": "exciting-bubble",
   "metadata": {
    "scrolled": true
   },
   "outputs": [
    {
     "name": "stdout",
     "output_type": "stream",
     "text": [
      "['a', 'b', 'c', 'a', 'd', 'x']\n"
     ]
    }
   ],
   "source": [
    "#5\n",
    "\n",
    "def compress(l):\n",
    "    l1=[]\n",
    "    for i in range(len(l)-1):\n",
    "        if l[i]==l[i+1]:\n",
    "            continue\n",
    "        else:\n",
    "            l1.append(l[i])\n",
    "    l1.append(l[len(l)-1])\n",
    "    return l1\n",
    "                  \n",
    "print(compress(['a','a','a','b','b','c','a','a','d','d','d','x','x']))\n",
    "assert(compress([1, 2, 2])) == [1, 2]\n",
    "assert(compress([1, 2, 2, 2, 1, 1, 3, 'x', 'x', 'x'])) == [1, 2, 1, 3, 'x']    "
   ]
  },
  {
   "cell_type": "code",
   "execution_count": null,
   "id": "charitable-month",
   "metadata": {},
   "outputs": [],
   "source": []
  }
 ],
 "metadata": {
  "kernelspec": {
   "display_name": "Python 3",
   "language": "python",
   "name": "python3"
  },
  "language_info": {
   "codemirror_mode": {
    "name": "ipython",
    "version": 3
   },
   "file_extension": ".py",
   "mimetype": "text/x-python",
   "name": "python",
   "nbconvert_exporter": "python",
   "pygments_lexer": "ipython3",
   "version": "3.7.9"
  }
 },
 "nbformat": 4,
 "nbformat_minor": 5
}
