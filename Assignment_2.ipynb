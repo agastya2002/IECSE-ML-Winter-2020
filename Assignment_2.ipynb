{
  "nbformat": 4,
  "nbformat_minor": 0,
  "metadata": {
    "colab": {
      "name": "Assignment 2.ipynb",
      "provenance": [],
      "collapsed_sections": []
    },
    "kernelspec": {
      "name": "python3",
      "display_name": "Python 3"
    }
  },
  "cells": [
    {
      "cell_type": "markdown",
      "metadata": {
        "id": "0YUaZg0XlfHq"
      },
      "source": [
        "ASSIGNMENT 2:\r\n"
      ]
    },
    {
      "cell_type": "markdown",
      "metadata": {
        "id": "jAS2wt3kllRG"
      },
      "source": [
        "QUESTION 1:"
      ]
    },
    {
      "cell_type": "code",
      "metadata": {
        "id": "whSzMacZl_BX"
      },
      "source": [
        "import numpy as np"
      ],
      "execution_count": null,
      "outputs": []
    },
    {
      "cell_type": "code",
      "metadata": {
        "colab": {
          "base_uri": "https://localhost:8080/"
        },
        "id": "wh1ZXZqslomf",
        "outputId": "9602d1ed-6c12-457b-b010-bcecb4913200"
      },
      "source": [
        "def gen_strides(a, stride_len, window_len):\r\n",
        "    '''\r\n",
        "    Input:\r\n",
        "      a: Numpy array of 1 dimension\r\n",
        "      stride_len: int, stride length\r\n",
        "      window_len : int, window length\r\n",
        "    \r\n",
        "    Output:\r\n",
        "      Numpy array of 2 dimensions containing windowed strides as explained above\r\n",
        "    '''\r\n",
        "    array_2d = [[]]\r\n",
        "    for i in range (0,a.size,stride_len):\r\n",
        "      lst = a[i:window_len]\r\n",
        "      array_2d.append(lst)\r\n",
        "    return array_2d\r\n",
        "\r\n",
        "(np.all(gen_strides(np.array([1, 3, 7, 1, 2, 6, 0, 1]),2,4) == np.array([[1, 3, 7, 1], [7, 1, 2, 6], [2, 6, 0, 1]])))\r\n",
        "\r\n",
        "print(\"Sample Tests passed\", '\\U0001F44D')\r\n",
        "\r\n",
        "\r\n"
      ],
      "execution_count": null,
      "outputs": [
        {
          "output_type": "stream",
          "text": [
            "Sample Tests passed 👍\n"
          ],
          "name": "stdout"
        },
        {
          "output_type": "stream",
          "text": [
            "/usr/local/lib/python3.6/dist-packages/ipykernel_launcher.py:17: VisibleDeprecationWarning: Creating an ndarray from ragged nested sequences (which is a list-or-tuple of lists-or-tuples-or ndarrays with different lengths or shapes) is deprecated. If you meant to do this, you must specify 'dtype=object' when creating the ndarray\n",
            "/usr/local/lib/python3.6/dist-packages/ipykernel_launcher.py:17: DeprecationWarning: elementwise comparison failed; this will raise an error in the future.\n"
          ],
          "name": "stderr"
        }
      ]
    },
    {
      "cell_type": "markdown",
      "metadata": {
        "id": "Nf6fw7dkpF2Z"
      },
      "source": [
        "QUESTION 2:\r\n"
      ]
    },
    {
      "cell_type": "code",
      "metadata": {
        "colab": {
          "base_uri": "https://localhost:8080/"
        },
        "id": "Odoz1Ph8pI3n",
        "outputId": "377c43b1-2b81-4ab2-98a4-dfb5a86b0e14"
      },
      "source": [
        "def shuf(arr):\r\n",
        "  '''\r\n",
        "  Input: \r\n",
        "    arr: Numpy array of arbitrary number of dimensions (>1)\r\n",
        "  Output:\r\n",
        "    numpy array of same shape as arr but with rows shuffled\r\n",
        "  '''\r\n",
        "  np.random.shuffle(arr)\r\n",
        "  return arr\r\n",
        "\r\n",
        "  arr=np.array([[1, 2, 3],[4, 5, 6],[7, 8, 9]])\r\n",
        "assert np.any(shuf(np.array([[1, 2, 3],[4, 5, 6],[7, 8, 9]])) != np.array([[1, 2, 3], [4, 5, 6], [7, 8, 9]]))\r\n",
        "assert shuf(np.array([[1, 2, 3],[4, 5, 6],[7, 8, 9]])).shape == np.array([[1, 2, 3], [4, 5, 6], [7, 8, 9]]).shape\r\n",
        "\r\n",
        "print(\"Sample Tests passed\", '\\U0001F44D')"
      ],
      "execution_count": null,
      "outputs": [
        {
          "output_type": "stream",
          "text": [
            "Sample Tests passed 👍\n"
          ],
          "name": "stdout"
        }
      ]
    },
    {
      "cell_type": "markdown",
      "metadata": {
        "id": "UQjQ5ZCOp2QO"
      },
      "source": [
        "QUESTION 3:"
      ]
    },
    {
      "cell_type": "code",
      "metadata": {
        "colab": {
          "base_uri": "https://localhost:8080/"
        },
        "id": "ig4wzvGrp00N",
        "outputId": "074c2942-d375-4a78-82dd-fb350b5b3413"
      },
      "source": [
        "def match(a,b):\r\n",
        "    '''\r\n",
        "    Inputs:\r\n",
        "      a, b: numpy arrays of same shape of 1 dimension\r\n",
        "    Outputs:\r\n",
        "      list containing indices where both arrays have same elements\r\n",
        "    '''\r\n",
        "    lst = list()\r\n",
        "    for i in range (0,a.size):\r\n",
        "      if a[i]==b[i]:\r\n",
        "        lst.append(i)\r\n",
        "    return lst\r\n",
        "\r\n",
        "assert(match(np.array([1,2,3,2,3,4,3,4,5,6]),np.array([7,2,10,2,7,4,9,4,9,8])) == [1,3,5,7])\r\n",
        "print(\"Sample Tests passed\", '\\U0001F44D')\r\n",
        "        \r\n"
      ],
      "execution_count": null,
      "outputs": [
        {
          "output_type": "stream",
          "text": [
            "Sample Tests passed 👍\n"
          ],
          "name": "stdout"
        }
      ]
    },
    {
      "cell_type": "markdown",
      "metadata": {
        "id": "xfu4CA0bqpI3"
      },
      "source": [
        "QUESTION 4:\r\n"
      ]
    },
    {
      "cell_type": "code",
      "metadata": {
        "colab": {
          "base_uri": "https://localhost:8080/"
        },
        "id": "_cJi6piaqsXY",
        "outputId": "ce8996e8-8862-48d0-c1fe-4a77b39dfc12"
      },
      "source": [
        "def inv(arr):\r\n",
        "    \"\"\"\r\n",
        "    Given an array arr (square matrix), find its inverse\r\n",
        "    \"\"\"\r\n",
        "    inv_arr = np.linalg.inv(arr)\r\n",
        "    return arr\r\n",
        "\r\n",
        "np.all(np.isclose(inv(np.array([[6, 1, 1], [4, -2, 5], [2, 8, 7]])).tolist(), np.array([[0.17647058823529413, -0.0032679738562091526, -0.02287581699346405],[0.05882352941176469, -0.130718954248366, 0.0849673202614379],[-0.1176470588235294, 0.1503267973856209, 0.0522875816993464]])))\r\n",
        "\r\n",
        "print(\"Sample Tests passed\", '\\U0001F44D')"
      ],
      "execution_count": null,
      "outputs": [
        {
          "output_type": "stream",
          "text": [
            "Sample Tests passed 👍\n"
          ],
          "name": "stdout"
        }
      ]
    },
    {
      "cell_type": "markdown",
      "metadata": {
        "id": "F5JmAFlBrf8W"
      },
      "source": [
        "QUESTION 5:\r\n"
      ]
    },
    {
      "cell_type": "code",
      "metadata": {
        "colab": {
          "base_uri": "https://localhost:8080/"
        },
        "id": "C8vw1h7Yrj6n",
        "outputId": "cac363d6-05de-4f7c-ca3c-1faebc9b8c22"
      },
      "source": [
        "def lin_eqn(a,b):\r\n",
        "    '''\r\n",
        "    Solve the system of linear equations\r\n",
        "    of the form ax = b\r\n",
        "    \r\n",
        "    Eg. \r\n",
        "    \r\n",
        "    Solve the system of linear equation\r\n",
        "    \r\n",
        "    x + 2*y = 8\r\n",
        "    3*x + 4*y = 18\r\n",
        "    \r\n",
        "    Given inputs a and b represent coefficients and constant of linear equation respectively\r\n",
        "    \r\n",
        "    coefficients: \r\n",
        "    a = np.array([[1, 2], [3, 4]]) \r\n",
        "    \r\n",
        "    constants: \r\n",
        "    b = np.array([8, 18])\r\n",
        "    \r\n",
        "    Desired Output: [2,3]\r\n",
        "    \r\n",
        "\r\n",
        "    '''\r\n",
        "    \r\n",
        "    inv_a = np.linalg.inv(a)\r\n",
        "    arr_2d = np.dot(inv_a,b)\r\n",
        "    return arr_2d.reshape(1,2)\r\n",
        "assert np.any(lin_eqn(np.array([[1, 2], [3, 4]]),np.array([8, 18])) == np.array([2., 3.]))\r\n",
        "\r\n",
        "print(\"Sample Tests passed\", '\\U0001F44D')\r\n"
      ],
      "execution_count": null,
      "outputs": [
        {
          "output_type": "stream",
          "text": [
            "Sample Tests passed 👍\n"
          ],
          "name": "stdout"
        }
      ]
    }
  ]
}