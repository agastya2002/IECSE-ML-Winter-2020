{
  "nbformat": 4,
  "nbformat_minor": 0,
  "metadata": {
    "colab": {
      "name": "Week 2.ipynb",
      "provenance": [],
      "collapsed_sections": []
    },
    "kernelspec": {
      "name": "python3",
      "display_name": "Python 3"
    }
  },
  "cells": [
    {
      "cell_type": "code",
      "metadata": {
        "id": "Ls79qon0p262"
      },
      "source": [
        "###Importing Required Libraries\r\n",
        "\r\n",
        "import numpy as np\r\n",
        "import pandas as pd\r\n",
        "import matplotlib.pyplot as plt\r\n",
        "\r\n",
        "%matplotlib inline"
      ],
      "execution_count": 1,
      "outputs": []
    },
    {
      "cell_type": "code",
      "metadata": {
        "colab": {
          "base_uri": "https://localhost:8080/",
          "height": 195
        },
        "id": "xsniNDYqqA7u",
        "outputId": "f2bee659-958f-43c9-be17-443cfd1c7bc5"
      },
      "source": [
        "boston = pd.read_csv('/BostonHousing.csv')\r\n",
        "boston.head()"
      ],
      "execution_count": 12,
      "outputs": [
        {
          "output_type": "execute_result",
          "data": {
            "text/html": [
              "<div>\n",
              "<style scoped>\n",
              "    .dataframe tbody tr th:only-of-type {\n",
              "        vertical-align: middle;\n",
              "    }\n",
              "\n",
              "    .dataframe tbody tr th {\n",
              "        vertical-align: top;\n",
              "    }\n",
              "\n",
              "    .dataframe thead th {\n",
              "        text-align: right;\n",
              "    }\n",
              "</style>\n",
              "<table border=\"1\" class=\"dataframe\">\n",
              "  <thead>\n",
              "    <tr style=\"text-align: right;\">\n",
              "      <th></th>\n",
              "      <th>crim</th>\n",
              "      <th>zn</th>\n",
              "      <th>indus</th>\n",
              "      <th>chas</th>\n",
              "      <th>nox</th>\n",
              "      <th>rm</th>\n",
              "      <th>age</th>\n",
              "      <th>dis</th>\n",
              "      <th>rad</th>\n",
              "      <th>tax</th>\n",
              "      <th>ptratio</th>\n",
              "      <th>b</th>\n",
              "      <th>lstat</th>\n",
              "      <th>medv</th>\n",
              "    </tr>\n",
              "  </thead>\n",
              "  <tbody>\n",
              "    <tr>\n",
              "      <th>0</th>\n",
              "      <td>0.00632</td>\n",
              "      <td>18.0</td>\n",
              "      <td>2.31</td>\n",
              "      <td>0</td>\n",
              "      <td>0.538</td>\n",
              "      <td>6.575</td>\n",
              "      <td>65.2</td>\n",
              "      <td>4.0900</td>\n",
              "      <td>1</td>\n",
              "      <td>296</td>\n",
              "      <td>15.3</td>\n",
              "      <td>396.90</td>\n",
              "      <td>4.98</td>\n",
              "      <td>24.0</td>\n",
              "    </tr>\n",
              "    <tr>\n",
              "      <th>1</th>\n",
              "      <td>0.02731</td>\n",
              "      <td>0.0</td>\n",
              "      <td>7.07</td>\n",
              "      <td>0</td>\n",
              "      <td>0.469</td>\n",
              "      <td>6.421</td>\n",
              "      <td>78.9</td>\n",
              "      <td>4.9671</td>\n",
              "      <td>2</td>\n",
              "      <td>242</td>\n",
              "      <td>17.8</td>\n",
              "      <td>396.90</td>\n",
              "      <td>9.14</td>\n",
              "      <td>21.6</td>\n",
              "    </tr>\n",
              "    <tr>\n",
              "      <th>2</th>\n",
              "      <td>0.02729</td>\n",
              "      <td>0.0</td>\n",
              "      <td>7.07</td>\n",
              "      <td>0</td>\n",
              "      <td>0.469</td>\n",
              "      <td>7.185</td>\n",
              "      <td>61.1</td>\n",
              "      <td>4.9671</td>\n",
              "      <td>2</td>\n",
              "      <td>242</td>\n",
              "      <td>17.8</td>\n",
              "      <td>392.83</td>\n",
              "      <td>4.03</td>\n",
              "      <td>34.7</td>\n",
              "    </tr>\n",
              "    <tr>\n",
              "      <th>3</th>\n",
              "      <td>0.03237</td>\n",
              "      <td>0.0</td>\n",
              "      <td>2.18</td>\n",
              "      <td>0</td>\n",
              "      <td>0.458</td>\n",
              "      <td>6.998</td>\n",
              "      <td>45.8</td>\n",
              "      <td>6.0622</td>\n",
              "      <td>3</td>\n",
              "      <td>222</td>\n",
              "      <td>18.7</td>\n",
              "      <td>394.63</td>\n",
              "      <td>2.94</td>\n",
              "      <td>33.4</td>\n",
              "    </tr>\n",
              "    <tr>\n",
              "      <th>4</th>\n",
              "      <td>0.06905</td>\n",
              "      <td>0.0</td>\n",
              "      <td>2.18</td>\n",
              "      <td>0</td>\n",
              "      <td>0.458</td>\n",
              "      <td>7.147</td>\n",
              "      <td>54.2</td>\n",
              "      <td>6.0622</td>\n",
              "      <td>3</td>\n",
              "      <td>222</td>\n",
              "      <td>18.7</td>\n",
              "      <td>396.90</td>\n",
              "      <td>5.33</td>\n",
              "      <td>36.2</td>\n",
              "    </tr>\n",
              "  </tbody>\n",
              "</table>\n",
              "</div>"
            ],
            "text/plain": [
              "      crim    zn  indus  chas    nox  ...  tax  ptratio       b  lstat  medv\n",
              "0  0.00632  18.0   2.31     0  0.538  ...  296     15.3  396.90   4.98  24.0\n",
              "1  0.02731   0.0   7.07     0  0.469  ...  242     17.8  396.90   9.14  21.6\n",
              "2  0.02729   0.0   7.07     0  0.469  ...  242     17.8  392.83   4.03  34.7\n",
              "3  0.03237   0.0   2.18     0  0.458  ...  222     18.7  394.63   2.94  33.4\n",
              "4  0.06905   0.0   2.18     0  0.458  ...  222     18.7  396.90   5.33  36.2\n",
              "\n",
              "[5 rows x 14 columns]"
            ]
          },
          "metadata": {
            "tags": []
          },
          "execution_count": 12
        }
      ]
    },
    {
      "cell_type": "code",
      "metadata": {
        "colab": {
          "base_uri": "https://localhost:8080/"
        },
        "id": "ZP-2IsXFqBvg",
        "outputId": "47a94351-315f-4e5f-ed77-8f537c343f19"
      },
      "source": [
        "X = boston.iloc[:,:-1]\r\n",
        "Y = boston['medv']\r\n",
        "\r\n",
        "print(\"X\")\r\n",
        "print(\"\")\r\n",
        "print(X.head())\r\n",
        "print(\"\")\r\n",
        "print(\"\")\r\n",
        "print(\"Y\")\r\n",
        "print(Y.head())"
      ],
      "execution_count": 14,
      "outputs": [
        {
          "output_type": "stream",
          "text": [
            "X\n",
            "\n",
            "      crim    zn  indus  chas    nox  ...  rad  tax  ptratio       b  lstat\n",
            "0  0.00632  18.0   2.31     0  0.538  ...    1  296     15.3  396.90   4.98\n",
            "1  0.02731   0.0   7.07     0  0.469  ...    2  242     17.8  396.90   9.14\n",
            "2  0.02729   0.0   7.07     0  0.469  ...    2  242     17.8  392.83   4.03\n",
            "3  0.03237   0.0   2.18     0  0.458  ...    3  222     18.7  394.63   2.94\n",
            "4  0.06905   0.0   2.18     0  0.458  ...    3  222     18.7  396.90   5.33\n",
            "\n",
            "[5 rows x 13 columns]\n",
            "\n",
            "\n",
            "Y\n",
            "0    24.0\n",
            "1    21.6\n",
            "2    34.7\n",
            "3    33.4\n",
            "4    36.2\n",
            "Name: medv, dtype: float64\n"
          ],
          "name": "stdout"
        }
      ]
    },
    {
      "cell_type": "code",
      "metadata": {
        "colab": {
          "base_uri": "https://localhost:8080/"
        },
        "id": "iVIFUEzgrwat",
        "outputId": "9e353ec9-b090-4c8a-a255-4838e996fb2c"
      },
      "source": [
        "X = np.array(X)\r\n",
        "print(X[:5,:])\r\n",
        "print(\"\")\r\n",
        "print(X.shape)"
      ],
      "execution_count": 15,
      "outputs": [
        {
          "output_type": "stream",
          "text": [
            "[[6.3200e-03 1.8000e+01 2.3100e+00 0.0000e+00 5.3800e-01 6.5750e+00\n",
            "  6.5200e+01 4.0900e+00 1.0000e+00 2.9600e+02 1.5300e+01 3.9690e+02\n",
            "  4.9800e+00]\n",
            " [2.7310e-02 0.0000e+00 7.0700e+00 0.0000e+00 4.6900e-01 6.4210e+00\n",
            "  7.8900e+01 4.9671e+00 2.0000e+00 2.4200e+02 1.7800e+01 3.9690e+02\n",
            "  9.1400e+00]\n",
            " [2.7290e-02 0.0000e+00 7.0700e+00 0.0000e+00 4.6900e-01 7.1850e+00\n",
            "  6.1100e+01 4.9671e+00 2.0000e+00 2.4200e+02 1.7800e+01 3.9283e+02\n",
            "  4.0300e+00]\n",
            " [3.2370e-02 0.0000e+00 2.1800e+00 0.0000e+00 4.5800e-01 6.9980e+00\n",
            "  4.5800e+01 6.0622e+00 3.0000e+00 2.2200e+02 1.8700e+01 3.9463e+02\n",
            "  2.9400e+00]\n",
            " [6.9050e-02 0.0000e+00 2.1800e+00 0.0000e+00 4.5800e-01 7.1470e+00\n",
            "  5.4200e+01 6.0622e+00 3.0000e+00 2.2200e+02 1.8700e+01 3.9690e+02\n",
            "  5.3300e+00]]\n",
            "\n",
            "(506, 13)\n"
          ],
          "name": "stdout"
        }
      ]
    },
    {
      "cell_type": "code",
      "metadata": {
        "colab": {
          "base_uri": "https://localhost:8080/"
        },
        "id": "R4Y4epDqyHCd",
        "outputId": "10d575e1-1381-4ed0-b3c5-9a0a6b46a848"
      },
      "source": [
        "Y = np.array(Y)\r\n",
        "print(Y.shape)\r\n",
        "Y = Y.reshape((506,1))\r\n",
        "print(Y.shape)"
      ],
      "execution_count": 18,
      "outputs": [
        {
          "output_type": "stream",
          "text": [
            "(506, 1)\n",
            "(506, 1)\n"
          ],
          "name": "stdout"
        }
      ]
    },
    {
      "cell_type": "code",
      "metadata": {
        "colab": {
          "base_uri": "https://localhost:8080/"
        },
        "id": "m3bAc8o8yM-E",
        "outputId": "fd665e64-86ac-42d3-e319-793376b160dd"
      },
      "source": [
        "m=X.shape[0]\r\n",
        "print(\"m:\",m)\r\n",
        "o = np.ones((m,1))\r\n",
        "X = np.hstack((o,X))\r\n",
        "print(X.shape)\r\n",
        "print(\"\")\r\n",
        "print(X[:5,:])"
      ],
      "execution_count": 17,
      "outputs": [
        {
          "output_type": "stream",
          "text": [
            "m: 506\n",
            "(506, 14)\n",
            "\n",
            "[[1.0000e+00 6.3200e-03 1.8000e+01 2.3100e+00 0.0000e+00 5.3800e-01\n",
            "  6.5750e+00 6.5200e+01 4.0900e+00 1.0000e+00 2.9600e+02 1.5300e+01\n",
            "  3.9690e+02 4.9800e+00]\n",
            " [1.0000e+00 2.7310e-02 0.0000e+00 7.0700e+00 0.0000e+00 4.6900e-01\n",
            "  6.4210e+00 7.8900e+01 4.9671e+00 2.0000e+00 2.4200e+02 1.7800e+01\n",
            "  3.9690e+02 9.1400e+00]\n",
            " [1.0000e+00 2.7290e-02 0.0000e+00 7.0700e+00 0.0000e+00 4.6900e-01\n",
            "  7.1850e+00 6.1100e+01 4.9671e+00 2.0000e+00 2.4200e+02 1.7800e+01\n",
            "  3.9283e+02 4.0300e+00]\n",
            " [1.0000e+00 3.2370e-02 0.0000e+00 2.1800e+00 0.0000e+00 4.5800e-01\n",
            "  6.9980e+00 4.5800e+01 6.0622e+00 3.0000e+00 2.2200e+02 1.8700e+01\n",
            "  3.9463e+02 2.9400e+00]\n",
            " [1.0000e+00 6.9050e-02 0.0000e+00 2.1800e+00 0.0000e+00 4.5800e-01\n",
            "  7.1470e+00 5.4200e+01 6.0622e+00 3.0000e+00 2.2200e+02 1.8700e+01\n",
            "  3.9690e+02 5.3300e+00]]\n"
          ],
          "name": "stdout"
        }
      ]
    },
    {
      "cell_type": "code",
      "metadata": {
        "id": "NTcj1IZtyPuU"
      },
      "source": [
        "def FeatureNormalization(x):\r\n",
        "    x = x[:,1:]\r\n",
        "    m = x.shape[0]\r\n",
        "    mean = np.mean(x,axis=0)\r\n",
        "    std = np.std(x,axis=0)\r\n",
        "    x_norm = (x-mean)/std\r\n",
        "    o = np.ones((m,1))\r\n",
        "    x_norm = np.hstack((o,x_norm))\r\n",
        "    return x_norm,mean,std"
      ],
      "execution_count": 19,
      "outputs": []
    },
    {
      "cell_type": "code",
      "metadata": {
        "colab": {
          "base_uri": "https://localhost:8080/"
        },
        "id": "l0rXQGtgySDW",
        "outputId": "e5e57ce0-4c67-4751-f4e1-677bd26c3e1e"
      },
      "source": [
        "X_norm,mean,std = FeatureNormalization(X)\r\n",
        "X_norm[:5,:]"
      ],
      "execution_count": 20,
      "outputs": [
        {
          "output_type": "execute_result",
          "data": {
            "text/plain": [
              "array([[ 1.        , -0.41978194,  0.28482986, -1.2879095 , -0.27259857,\n",
              "        -0.14421743,  0.41367189, -0.12001342,  0.1402136 , -0.98284286,\n",
              "        -0.66660821, -1.45900038,  0.44105193, -1.0755623 ],\n",
              "       [ 1.        , -0.41733926, -0.48772236, -0.59338101, -0.27259857,\n",
              "        -0.74026221,  0.19427445,  0.36716642,  0.55715988, -0.8678825 ,\n",
              "        -0.98732948, -0.30309415,  0.44105193, -0.49243937],\n",
              "       [ 1.        , -0.41734159, -0.48772236, -0.59338101, -0.27259857,\n",
              "        -0.74026221,  1.28271368, -0.26581176,  0.55715988, -0.8678825 ,\n",
              "        -0.98732948, -0.30309415,  0.39642699, -1.2087274 ],\n",
              "       [ 1.        , -0.41675042, -0.48772236, -1.30687771, -0.27259857,\n",
              "        -0.83528384,  1.01630251, -0.80988851,  1.07773662, -0.75292215,\n",
              "        -1.10611514,  0.1130321 ,  0.41616284, -1.36151682],\n",
              "       [ 1.        , -0.41248185, -0.48772236, -1.30687771, -0.27259857,\n",
              "        -0.83528384,  1.22857665, -0.51117971,  1.07773662, -0.75292215,\n",
              "        -1.10611514,  0.1130321 ,  0.44105193, -1.02650148]])"
            ]
          },
          "metadata": {
            "tags": []
          },
          "execution_count": 20
        }
      ]
    },
    {
      "cell_type": "code",
      "metadata": {
        "colab": {
          "base_uri": "https://localhost:8080/"
        },
        "id": "RYMVr728yVXk",
        "outputId": "f1fd2de4-130f-4687-fdef-87474bc1ff1e"
      },
      "source": [
        "from sklearn.model_selection import train_test_split\r\n",
        "\r\n",
        "X_train,X_test,Y_train,Y_test = train_test_split(X_norm,Y,test_size=0.2,random_state=5)\r\n",
        "print(X_train.shape)\r\n",
        "print(X_test.shape)\r\n",
        "print(Y_train.shape)\r\n",
        "print(Y_test.shape)"
      ],
      "execution_count": 21,
      "outputs": [
        {
          "output_type": "stream",
          "text": [
            "(404, 14)\n",
            "(102, 14)\n",
            "(404, 1)\n",
            "(102, 1)\n"
          ],
          "name": "stdout"
        }
      ]
    },
    {
      "cell_type": "code",
      "metadata": {
        "id": "iuvyoaq9yZeR"
      },
      "source": [
        "def InitialParameters(x):\r\n",
        "    n = x.shape[1]\r\n",
        "    theta =np.zeros(n)\r\n",
        "    theta=theta.reshape((14,1))\r\n",
        "    return theta\r\n"
      ],
      "execution_count": 22,
      "outputs": []
    },
    {
      "cell_type": "code",
      "metadata": {
        "id": "s2LkH0xbydeg"
      },
      "source": [
        "def CostFunction(x,y,theta):\r\n",
        "    h = np.dot(x,theta)\r\n",
        "    m = float(x.shape[0])\r\n",
        "    J = np.sum(((h - y)**2))/2*m\r\n",
        "    return J,h"
      ],
      "execution_count": 23,
      "outputs": []
    },
    {
      "cell_type": "code",
      "metadata": {
        "id": "rMX6l2juyf3x"
      },
      "source": [
        "def GradDescent(x,y,theta,h):\r\n",
        "    m = float(x.shape[0])\r\n",
        "    d_theta = np.dot(x.transpose(),(h-y))\r\n",
        "    return d_theta"
      ],
      "execution_count": 25,
      "outputs": []
    },
    {
      "cell_type": "code",
      "metadata": {
        "id": "lv-LK1Qayk82"
      },
      "source": [
        "alpha = 0.01\r\n",
        "itr = 5000\r\n",
        "\r\n",
        "theta = InitialParameters(X_train)\r\n",
        "\r\n",
        "J_history = []\r\n",
        "I_history = []\r\n",
        "\r\n",
        "for i in range(itr):\r\n",
        "    J,h = CostFunction(X_train,Y_train,theta)\r\n",
        "    J_history.append(J)\r\n",
        "    d_theta =GradDescent(X_train,Y_train,theta,h)\r\n",
        "    theta -= alpha *(1/m)*d_theta\r\n",
        "    I_history.append(i)"
      ],
      "execution_count": 26,
      "outputs": []
    },
    {
      "cell_type": "code",
      "metadata": {
        "colab": {
          "base_uri": "https://localhost:8080/",
          "height": 276
        },
        "id": "0GL15fy5yoFd",
        "outputId": "7b93426e-6e66-433b-e2c3-bf6d81ea6077"
      },
      "source": [
        "J_history = np.array(J_history)\r\n",
        "J_history = J_history.reshape((5000,1))\r\n",
        "J_history.shape\r\n",
        "\r\n",
        "I_history = np.array(I_history)\r\n",
        "I_history = I_history.reshape((5000,1))\r\n",
        "I_history.shape\r\n",
        "\r\n",
        "plt.plot(I_history[:500],J_history[:500])\r\n",
        "plt.show()"
      ],
      "execution_count": 27,
      "outputs": [
        {
          "output_type": "display_data",
          "data": {
            "image/png": "[encoded data removed]",
            "text/plain": [
              "<Figure size 432x288 with 1 Axes>"
            ]
          },
          "metadata": {
            "tags": [],
            "needs_background": "light"
          }
        }
      ]
    },
    {
      "cell_type": "code",
      "metadata": {
        "colab": {
          "base_uri": "https://localhost:8080/"
        },
        "id": "OB50DVDtzIOV",
        "outputId": "dbb05f4f-16fd-4f7c-96e3-f4722bab9bca"
      },
      "source": [
        "theta"
      ],
      "execution_count": 30,
      "outputs": [
        {
          "output_type": "execute_result",
          "data": {
            "text/plain": [
              "array([[ 2.24171828e+01],\n",
              "       [-1.11120847e+00],\n",
              "       [ 1.12210193e+00],\n",
              "       [-7.90246674e-02],\n",
              "       [ 6.99309281e-01],\n",
              "       [-1.83374035e+00],\n",
              "       [ 2.41128854e+00],\n",
              "       [ 1.93459925e-02],\n",
              "       [-3.14579541e+00],\n",
              "       [ 2.94348787e+00],\n",
              "       [-1.96023673e+00],\n",
              "       [-2.05088705e+00],\n",
              "       [ 1.06942009e+00],\n",
              "       [-4.22808442e+00]])"
            ]
          },
          "metadata": {
            "tags": []
          },
          "execution_count": 30
        }
      ]
    },
    {
      "cell_type": "code",
      "metadata": {
        "id": "1rIHpd-kysHw"
      },
      "source": [
        "def mape(y_true,y_pred):\r\n",
        "    return np.mean(np.abs((y_true - y_pred) / y_true)) *100"
      ],
      "execution_count": 28,
      "outputs": []
    },
    {
      "cell_type": "code",
      "metadata": {
        "colab": {
          "base_uri": "https://localhost:8080/"
        },
        "id": "0iDIeJZmyuYu",
        "outputId": "001a6ee9-f022-494a-8a5c-5fb7418e26f2"
      },
      "source": [
        "Y_test_predict= np.dot(X_test,theta)\r\n",
        "mse_test = np.square(np.subtract(Y_test,Y_test_predict)).mean()\r\n",
        "print(\"The model performance for testing set\")\r\n",
        "print(\"--------------------------------------\")\r\n",
        "print('MSE is',mse_test)\r\n",
        "print(\"MAPE:\",mape(Y_test,Y_test_predict))"
      ],
      "execution_count": 29,
      "outputs": [
        {
          "output_type": "stream",
          "text": [
            "The model performance for testing set\n",
            "--------------------------------------\n",
            "MSE is 20.779838254200367\n",
            "MAPE: 17.212046028760785\n"
          ],
          "name": "stdout"
        }
      ]
    }
  ]
}