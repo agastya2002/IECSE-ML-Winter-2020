{
 "cells": [
  {
   "cell_type": "code",
   "execution_count": 1,
   "metadata": {},
   "outputs": [],
   "source": [
    "##Important Libraries\n",
    "\n",
    "import numpy as np\n",
    "import pandas as pd\n",
    "import matplotlib.pyplot as plt\n",
    "\n",
    "%matplotlib inline"
   ]
  },
  {
   "cell_type": "code",
   "execution_count": 2,
   "metadata": {},
   "outputs": [
    {
     "data": {
      "text/plain": [
       "array([[1],\n",
       "       [2],\n",
       "       [3],\n",
       "       [4],\n",
       "       [5]])"
      ]
     },
     "execution_count": 2,
     "metadata": {},
     "output_type": "execute_result"
    }
   ],
   "source": [
    "##Making the Data\n",
    "\n",
    "#X\n",
    "x = [[1],[2],[3],[4],[5]]\n",
    "X = np.array(x)\n",
    "X"
   ]
  },
  {
   "cell_type": "code",
   "execution_count": 3,
   "metadata": {},
   "outputs": [
    {
     "data": {
      "text/plain": [
       "array([[  1],\n",
       "       [  8],\n",
       "       [ 27],\n",
       "       [ 64],\n",
       "       [125]], dtype=int32)"
      ]
     },
     "execution_count": 3,
     "metadata": {},
     "output_type": "execute_result"
    }
   ],
   "source": [
    "#Y\n",
    "y = [[1],[2],[3],[4],[5]]\n",
    "Y = np.array(y)\n",
    "Y = Y**3\n",
    "Y"
   ]
  },
  {
   "cell_type": "code",
   "execution_count": 4,
   "metadata": {},
   "outputs": [],
   "source": [
    "X_train = X.copy()\n",
    "Y_train = Y.copy()"
   ]
  },
  {
   "cell_type": "code",
   "execution_count": 5,
   "metadata": {},
   "outputs": [],
   "source": [
    "##Initializing the Parameters\n",
    "def InitialParameters(x):\n",
    "    n = x.shape[1]\n",
    "    theta = np.zeros((n,1))\n",
    "    return theta"
   ]
  },
  {
   "cell_type": "code",
   "execution_count": 6,
   "metadata": {},
   "outputs": [],
   "source": [
    "##Cost Function \n",
    "\n",
    "def CostFunction(x,y,theta):\n",
    "    h = np.dot(x,theta)\n",
    "    m = float(x.shape[0])\n",
    "    J = (1/(2*m))*np.sum(np.power((h-y),2))\n",
    "    return J,h"
   ]
  },
  {
   "cell_type": "code",
   "execution_count": 7,
   "metadata": {},
   "outputs": [],
   "source": [
    "##Gradient Descent\n",
    "\n",
    "def GradDescent(x,y,theta,h):\n",
    "    m = float(x.shape[0])\n",
    "    d_theta = (1/m)*np.dot(x.T,(h-y))\n",
    "    return d_theta"
   ]
  },
  {
   "cell_type": "code",
   "execution_count": 8,
   "metadata": {},
   "outputs": [],
   "source": [
    "##Training the model\n",
    "\n",
    "alpha = 0.1\n",
    "itr = 100\n",
    "\n",
    "theta = InitialParameters(X_train)\n",
    "\n",
    "J_history = []\n",
    "I_history = []\n",
    "\n",
    "for i in range(itr):\n",
    "    J,h = CostFunction(X_train,Y_train,theta)\n",
    "    J_history.append(J)\n",
    "    d_theta = GradDescent(X_train,Y_train,theta,h)\n",
    "    theta = theta - alpha*d_theta\n",
    "    I_history.append(i)"
   ]
  },
  {
   "cell_type": "code",
   "execution_count": 9,
   "metadata": {},
   "outputs": [
    {
     "data": {
      "image/png": "[encoded data removed]",
      "text/plain": [
       "<Figure size 432x288 with 1 Axes>"
      ]
     },
     "metadata": {
      "needs_background": "light"
     },
     "output_type": "display_data"
    }
   ],
   "source": [
    "###Checking for working of Gradient Descent\n",
    "\n",
    "J_history = np.array(J_history)\n",
    "J_history = J_history.reshape((100,1))\n",
    "J_history.shape\n",
    "\n",
    "I_history = np.array(I_history)\n",
    "I_history = I_history.reshape((100,1))\n",
    "I_history.shape\n",
    "\n",
    "plt.plot(I_history[:50],J_history[:50])\n",
    "plt.show()"
   ]
  },
  {
   "cell_type": "code",
   "execution_count": 10,
   "metadata": {},
   "outputs": [
    {
     "name": "stdout",
     "output_type": "stream",
     "text": [
      "[[ 6]\n",
      " [ 7]\n",
      " [ 8]\n",
      " [ 9]\n",
      " [10]]\n",
      "\n",
      "[[ 216]\n",
      " [ 343]\n",
      " [ 512]\n",
      " [ 729]\n",
      " [1000]]\n"
     ]
    }
   ],
   "source": [
    "##Making the Testing Data\n",
    "\n",
    "Y_test = np.array([[6],[7],[8],[9],[10]])\n",
    "Y_test = Y_test**3\n",
    "x_test = np.array([[6],[7],[8],[9],[10]])\n",
    "X_test = x_test.copy()\n",
    "\n",
    "print(X_test)\n",
    "print(\"\")\n",
    "print(Y_test)"
   ]
  },
  {
   "cell_type": "code",
   "execution_count": 11,
   "metadata": {},
   "outputs": [
    {
     "data": {
      "text/plain": [
       "array([[17.8]])"
      ]
     },
     "execution_count": 11,
     "metadata": {},
     "output_type": "execute_result"
    }
   ],
   "source": [
    "theta"
   ]
  },
  {
   "cell_type": "code",
   "execution_count": 12,
   "metadata": {},
   "outputs": [
    {
     "data": {
      "text/plain": [
       "array([[106.8],\n",
       "       [124.6],\n",
       "       [142.4],\n",
       "       [160.2],\n",
       "       [178. ]])"
      ]
     },
     "execution_count": 12,
     "metadata": {},
     "output_type": "execute_result"
    }
   ],
   "source": [
    "##Prediction\n",
    "\n",
    "Prediction =  np.dot(X_test,theta)\n",
    "Prediction"
   ]
  }
 ],
 "metadata": {
  "kernelspec": {
   "display_name": "Python 3",
   "language": "python",
   "name": "python3"
  },
  "language_info": {
   "codemirror_mode": {
    "name": "ipython",
    "version": 3
   },
   "file_extension": ".py",
   "mimetype": "text/x-python",
   "name": "python",
   "nbconvert_exporter": "python",
   "pygments_lexer": "ipython3",
   "version": "3.7.3"
  }
 },
 "nbformat": 4,
 "nbformat_minor": 2
}
