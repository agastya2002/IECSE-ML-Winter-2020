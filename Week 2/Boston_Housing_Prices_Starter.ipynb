{
 "cells": [
  {
   "cell_type": "markdown",
   "metadata": {},
   "source": [
    "# Boston Housing Price Prediction\n",
    "#### Replace all 'None' with your code in this notebook"
   ]
  },
  {
   "cell_type": "code",
   "execution_count": 14,
   "metadata": {},
   "outputs": [],
   "source": [
    "###Importing Required Libraries\n",
    "\n",
    "import numpy as np\n",
    "import pandas as pd\n",
    "import matplotlib.pyplot as plt\n",
    "\n",
    "%matplotlib inline"
   ]
  },
  {
   "cell_type": "code",
   "execution_count": 15,
   "metadata": {},
   "outputs": [
    {
     "data": {
      "text/html": [
       "<div>\n",
       "<style scoped>\n",
       "    .dataframe tbody tr th:only-of-type {\n",
       "        vertical-align: middle;\n",
       "    }\n",
       "\n",
       "    .dataframe tbody tr th {\n",
       "        vertical-align: top;\n",
       "    }\n",
       "\n",
       "    .dataframe thead th {\n",
       "        text-align: right;\n",
       "    }\n",
       "</style>\n",
       "<table border=\"1\" class=\"dataframe\">\n",
       "  <thead>\n",
       "    <tr style=\"text-align: right;\">\n",
       "      <th></th>\n",
       "      <th>crim</th>\n",
       "      <th>zn</th>\n",
       "      <th>indus</th>\n",
       "      <th>chas</th>\n",
       "      <th>nox</th>\n",
       "      <th>rm</th>\n",
       "      <th>age</th>\n",
       "      <th>dis</th>\n",
       "      <th>rad</th>\n",
       "      <th>tax</th>\n",
       "      <th>ptratio</th>\n",
       "      <th>b</th>\n",
       "      <th>lstat</th>\n",
       "      <th>medv</th>\n",
       "    </tr>\n",
       "  </thead>\n",
       "  <tbody>\n",
       "    <tr>\n",
       "      <th>0</th>\n",
       "      <td>0.00632</td>\n",
       "      <td>18.0</td>\n",
       "      <td>2.31</td>\n",
       "      <td>0</td>\n",
       "      <td>0.538</td>\n",
       "      <td>6.575</td>\n",
       "      <td>65.2</td>\n",
       "      <td>4.0900</td>\n",
       "      <td>1</td>\n",
       "      <td>296</td>\n",
       "      <td>15.3</td>\n",
       "      <td>396.90</td>\n",
       "      <td>4.98</td>\n",
       "      <td>24.0</td>\n",
       "    </tr>\n",
       "    <tr>\n",
       "      <th>1</th>\n",
       "      <td>0.02731</td>\n",
       "      <td>0.0</td>\n",
       "      <td>7.07</td>\n",
       "      <td>0</td>\n",
       "      <td>0.469</td>\n",
       "      <td>6.421</td>\n",
       "      <td>78.9</td>\n",
       "      <td>4.9671</td>\n",
       "      <td>2</td>\n",
       "      <td>242</td>\n",
       "      <td>17.8</td>\n",
       "      <td>396.90</td>\n",
       "      <td>9.14</td>\n",
       "      <td>21.6</td>\n",
       "    </tr>\n",
       "    <tr>\n",
       "      <th>2</th>\n",
       "      <td>0.02729</td>\n",
       "      <td>0.0</td>\n",
       "      <td>7.07</td>\n",
       "      <td>0</td>\n",
       "      <td>0.469</td>\n",
       "      <td>7.185</td>\n",
       "      <td>61.1</td>\n",
       "      <td>4.9671</td>\n",
       "      <td>2</td>\n",
       "      <td>242</td>\n",
       "      <td>17.8</td>\n",
       "      <td>392.83</td>\n",
       "      <td>4.03</td>\n",
       "      <td>34.7</td>\n",
       "    </tr>\n",
       "    <tr>\n",
       "      <th>3</th>\n",
       "      <td>0.03237</td>\n",
       "      <td>0.0</td>\n",
       "      <td>2.18</td>\n",
       "      <td>0</td>\n",
       "      <td>0.458</td>\n",
       "      <td>6.998</td>\n",
       "      <td>45.8</td>\n",
       "      <td>6.0622</td>\n",
       "      <td>3</td>\n",
       "      <td>222</td>\n",
       "      <td>18.7</td>\n",
       "      <td>394.63</td>\n",
       "      <td>2.94</td>\n",
       "      <td>33.4</td>\n",
       "    </tr>\n",
       "    <tr>\n",
       "      <th>4</th>\n",
       "      <td>0.06905</td>\n",
       "      <td>0.0</td>\n",
       "      <td>2.18</td>\n",
       "      <td>0</td>\n",
       "      <td>0.458</td>\n",
       "      <td>7.147</td>\n",
       "      <td>54.2</td>\n",
       "      <td>6.0622</td>\n",
       "      <td>3</td>\n",
       "      <td>222</td>\n",
       "      <td>18.7</td>\n",
       "      <td>396.90</td>\n",
       "      <td>5.33</td>\n",
       "      <td>36.2</td>\n",
       "    </tr>\n",
       "  </tbody>\n",
       "</table>\n",
       "</div>"
      ],
      "text/plain": [
       "      crim    zn  indus  chas    nox     rm   age     dis  rad  tax  ptratio  \\\n",
       "0  0.00632  18.0   2.31     0  0.538  6.575  65.2  4.0900    1  296     15.3   \n",
       "1  0.02731   0.0   7.07     0  0.469  6.421  78.9  4.9671    2  242     17.8   \n",
       "2  0.02729   0.0   7.07     0  0.469  7.185  61.1  4.9671    2  242     17.8   \n",
       "3  0.03237   0.0   2.18     0  0.458  6.998  45.8  6.0622    3  222     18.7   \n",
       "4  0.06905   0.0   2.18     0  0.458  7.147  54.2  6.0622    3  222     18.7   \n",
       "\n",
       "        b  lstat  medv  \n",
       "0  396.90   4.98  24.0  \n",
       "1  396.90   9.14  21.6  \n",
       "2  392.83   4.03  34.7  \n",
       "3  394.63   2.94  33.4  \n",
       "4  396.90   5.33  36.2  "
      ]
     },
     "execution_count": 15,
     "metadata": {},
     "output_type": "execute_result"
    }
   ],
   "source": [
    "###Importing Data from a CSV File to a DataFrame\n",
    "\n",
    "boston = pd.read_csv('BostonHousing.csv')\n",
    "boston.head()"
   ]
  },
  {
   "cell_type": "code",
   "execution_count": 16,
   "metadata": {},
   "outputs": [
    {
     "name": "stdout",
     "output_type": "stream",
     "text": [
      "X\n",
      "\n",
      "      crim    zn  indus  chas    nox     rm   age     dis  rad  tax  ptratio  \\\n",
      "0  0.00632  18.0   2.31     0  0.538  6.575  65.2  4.0900    1  296     15.3   \n",
      "1  0.02731   0.0   7.07     0  0.469  6.421  78.9  4.9671    2  242     17.8   \n",
      "2  0.02729   0.0   7.07     0  0.469  7.185  61.1  4.9671    2  242     17.8   \n",
      "3  0.03237   0.0   2.18     0  0.458  6.998  45.8  6.0622    3  222     18.7   \n",
      "4  0.06905   0.0   2.18     0  0.458  7.147  54.2  6.0622    3  222     18.7   \n",
      "\n",
      "        b  lstat  \n",
      "0  396.90   4.98  \n",
      "1  396.90   9.14  \n",
      "2  392.83   4.03  \n",
      "3  394.63   2.94  \n",
      "4  396.90   5.33  \n",
      "\n",
      "\n",
      "Y\n",
      "0    24.0\n",
      "1    21.6\n",
      "2    34.7\n",
      "3    33.4\n",
      "4    36.2\n",
      "Name: medv, dtype: float64\n"
     ]
    }
   ],
   "source": [
    "###Converting data into Arrays using Numpy\n",
    "\n",
    "##Splitting the Data into X and Y DataFrames\n",
    "X = boston.iloc[:,:-1]\n",
    "Y = boston['medv']\n",
    "\n",
    "print(\"X\")\n",
    "print(\"\")\n",
    "print(X.head())\n",
    "print(\"\")\n",
    "print(\"\")\n",
    "print(\"Y\")\n",
    "print(Y.head())"
   ]
  },
  {
   "cell_type": "code",
   "execution_count": 17,
   "metadata": {},
   "outputs": [
    {
     "name": "stdout",
     "output_type": "stream",
     "text": [
      "[[6.3200e-03 1.8000e+01 2.3100e+00 0.0000e+00 5.3800e-01 6.5750e+00\n",
      "  6.5200e+01 4.0900e+00 1.0000e+00 2.9600e+02 1.5300e+01 3.9690e+02\n",
      "  4.9800e+00]\n",
      " [2.7310e-02 0.0000e+00 7.0700e+00 0.0000e+00 4.6900e-01 6.4210e+00\n",
      "  7.8900e+01 4.9671e+00 2.0000e+00 2.4200e+02 1.7800e+01 3.9690e+02\n",
      "  9.1400e+00]\n",
      " [2.7290e-02 0.0000e+00 7.0700e+00 0.0000e+00 4.6900e-01 7.1850e+00\n",
      "  6.1100e+01 4.9671e+00 2.0000e+00 2.4200e+02 1.7800e+01 3.9283e+02\n",
      "  4.0300e+00]\n",
      " [3.2370e-02 0.0000e+00 2.1800e+00 0.0000e+00 4.5800e-01 6.9980e+00\n",
      "  4.5800e+01 6.0622e+00 3.0000e+00 2.2200e+02 1.8700e+01 3.9463e+02\n",
      "  2.9400e+00]\n",
      " [6.9050e-02 0.0000e+00 2.1800e+00 0.0000e+00 4.5800e-01 7.1470e+00\n",
      "  5.4200e+01 6.0622e+00 3.0000e+00 2.2200e+02 1.8700e+01 3.9690e+02\n",
      "  5.3300e+00]]\n",
      "\n",
      "(506, 13)\n"
     ]
    }
   ],
   "source": [
    "##Converting X into an Array\n",
    "\n",
    "X = np.array(X)\n",
    "print(X[:5,:])\n",
    "print(\"\")\n",
    "print(X.shape)"
   ]
  },
  {
   "cell_type": "code",
   "execution_count": 18,
   "metadata": {},
   "outputs": [
    {
     "name": "stdout",
     "output_type": "stream",
     "text": [
      "(506,)\n",
      "(506, 1)\n"
     ]
    }
   ],
   "source": [
    "##Converting Y into an array\n",
    "\n",
    "Y = np.array(Y)\n",
    "print(Y.shape)\n",
    "Y = Y.reshape((506,1))\n",
    "print(Y.shape)"
   ]
  },
  {
   "cell_type": "code",
   "execution_count": 19,
   "metadata": {},
   "outputs": [
    {
     "name": "stdout",
     "output_type": "stream",
     "text": [
      "m: 506\n",
      "(506, 14)\n",
      "\n",
      "[[1.0000e+00 6.3200e-03 1.8000e+01 2.3100e+00 0.0000e+00 5.3800e-01\n",
      "  6.5750e+00 6.5200e+01 4.0900e+00 1.0000e+00 2.9600e+02 1.5300e+01\n",
      "  3.9690e+02 4.9800e+00]\n",
      " [1.0000e+00 2.7310e-02 0.0000e+00 7.0700e+00 0.0000e+00 4.6900e-01\n",
      "  6.4210e+00 7.8900e+01 4.9671e+00 2.0000e+00 2.4200e+02 1.7800e+01\n",
      "  3.9690e+02 9.1400e+00]\n",
      " [1.0000e+00 2.7290e-02 0.0000e+00 7.0700e+00 0.0000e+00 4.6900e-01\n",
      "  7.1850e+00 6.1100e+01 4.9671e+00 2.0000e+00 2.4200e+02 1.7800e+01\n",
      "  3.9283e+02 4.0300e+00]\n",
      " [1.0000e+00 3.2370e-02 0.0000e+00 2.1800e+00 0.0000e+00 4.5800e-01\n",
      "  6.9980e+00 4.5800e+01 6.0622e+00 3.0000e+00 2.2200e+02 1.8700e+01\n",
      "  3.9463e+02 2.9400e+00]\n",
      " [1.0000e+00 6.9050e-02 0.0000e+00 2.1800e+00 0.0000e+00 4.5800e-01\n",
      "  7.1470e+00 5.4200e+01 6.0622e+00 3.0000e+00 2.2200e+02 1.8700e+01\n",
      "  3.9690e+02 5.3300e+00]]\n"
     ]
    }
   ],
   "source": [
    "###Making Data suitable for Linear Regression\n",
    "m=X.shape[0]\n",
    "print(\"m:\",m)\n",
    "##Padding X array with ones for the bias term\n",
    "o = np.ones((m,1))\n",
    "X = np.hstack((o,X))\n",
    "print(X.shape)\n",
    "print(\"\")\n",
    "print(X[:5,:])"
   ]
  },
  {
   "cell_type": "code",
   "execution_count": 20,
   "metadata": {},
   "outputs": [],
   "source": [
    "def FeatureNormalization(x):\n",
    "    x = x[:,1:]\n",
    "    m = x.shape[0]\n",
    "    mean = np.mean(x,axis=0)\n",
    "    std = np.std(x,axis=0)\n",
    "    x_norm = (x-mean)/std\n",
    "    o = np.ones((m,1))\n",
    "    x_norm = np.hstack((o,x_norm))\n",
    "    return x_norm,mean,std"
   ]
  },
  {
   "cell_type": "code",
   "execution_count": 21,
   "metadata": {},
   "outputs": [
    {
     "data": {
      "text/plain": [
       "array([[ 1.        , -0.41978194,  0.28482986, -1.2879095 , -0.27259857,\n",
       "        -0.14421743,  0.41367189, -0.12001342,  0.1402136 , -0.98284286,\n",
       "        -0.66660821, -1.45900038,  0.44105193, -1.0755623 ],\n",
       "       [ 1.        , -0.41733926, -0.48772236, -0.59338101, -0.27259857,\n",
       "        -0.74026221,  0.19427445,  0.36716642,  0.55715988, -0.8678825 ,\n",
       "        -0.98732948, -0.30309415,  0.44105193, -0.49243937],\n",
       "       [ 1.        , -0.41734159, -0.48772236, -0.59338101, -0.27259857,\n",
       "        -0.74026221,  1.28271368, -0.26581176,  0.55715988, -0.8678825 ,\n",
       "        -0.98732948, -0.30309415,  0.39642699, -1.2087274 ],\n",
       "       [ 1.        , -0.41675042, -0.48772236, -1.30687771, -0.27259857,\n",
       "        -0.83528384,  1.01630251, -0.80988851,  1.07773662, -0.75292215,\n",
       "        -1.10611514,  0.1130321 ,  0.41616284, -1.36151682],\n",
       "       [ 1.        , -0.41248185, -0.48772236, -1.30687771, -0.27259857,\n",
       "        -0.83528384,  1.22857665, -0.51117971,  1.07773662, -0.75292215,\n",
       "        -1.10611514,  0.1130321 ,  0.44105193, -1.02650148]])"
      ]
     },
     "execution_count": 21,
     "metadata": {},
     "output_type": "execute_result"
    }
   ],
   "source": [
    "##Normalizing the array\n",
    "X_norm,mean,std = FeatureNormalization(X)\n",
    "X_norm[:5,:]"
   ]
  },
  {
   "cell_type": "code",
   "execution_count": 22,
   "metadata": {},
   "outputs": [
    {
     "name": "stdout",
     "output_type": "stream",
     "text": [
      "(404, 14)\n",
      "(102, 14)\n",
      "(404, 1)\n",
      "(102, 1)\n"
     ]
    }
   ],
   "source": [
    "###Spitting Data into Training and Testing Set\n",
    "\n",
    "from sklearn.model_selection import train_test_split\n",
    "\n",
    "X_train,X_test,Y_train,Y_test = train_test_split(X_norm,Y,test_size=0.2,random_state=5)\n",
    "print(X_train.shape)\n",
    "print(X_test.shape)\n",
    "print(Y_train.shape)\n",
    "print(Y_test.shape)"
   ]
  },
  {
   "cell_type": "code",
   "execution_count": 23,
   "metadata": {},
   "outputs": [],
   "source": [
    "###Making the Regression Model\n",
    "\n",
    "##Initializing the Parameters\n",
    "def InitialParameters(x):\n",
    "    n = x.shape[1]\n",
    "    ### Start code here\n",
    "    ### initialize numpy with zeros of shape (n,1)\n",
    "    theta = np.zeros((n,1))\n",
    "    ### End code here\n",
    "    return theta"
   ]
  },
  {
   "cell_type": "code",
   "execution_count": 24,
   "metadata": {},
   "outputs": [],
   "source": [
    "##Cost Function \n",
    "\n",
    "def CostFunction(x,y,theta):\n",
    "    ### Start code here\n",
    "    h = np.dot(x,theta)\n",
    "    m = float(x.shape[0])\n",
    "    J = np.sum((1/(2*m))*(h-y)**2)\n",
    "    ### End code here\n",
    "    return J,h"
   ]
  },
  {
   "cell_type": "code",
   "execution_count": 28,
   "metadata": {},
   "outputs": [],
   "source": [
    "##Gradient Descent\n",
    "\n",
    "def UpdateParameters(x,y,theta,h,alpha):\n",
    "    ### Start code here\n",
    "    m = float(x.shape[0])\n",
    "    theta =theta-((alpha/m)*(np.dot(x.T,(h-y))))\n",
    "    ### End code here\n",
    "    return theta"
   ]
  },
  {
   "cell_type": "code",
   "execution_count": 29,
   "metadata": {},
   "outputs": [],
   "source": [
    "##Training the model\n",
    "\n",
    "alpha = 0.1\n",
    "itr = 50000\n",
    "\n",
    "theta = InitialParameters(X_train)\n",
    "\n",
    "J_history = []\n",
    "I_history = []\n",
    "\n",
    "for i in range(itr):\n",
    "    J,h = CostFunction(X_train,Y_train,theta) # Call cost funtion\n",
    "    J_history.append(J)\n",
    "    #d_theta = GradDescent(X_train,Y_train,theta,h) # Call gradient Descent\n",
    "    #theta = theta-(alpha*np.sum(d_theta)) # Update parameters\n",
    "    theta=UpdateParameters(X_train,Y_train,theta,h,alpha)\n",
    "    I_history.append(i)"
   ]
  },
  {
   "cell_type": "code",
   "execution_count": 30,
   "metadata": {},
   "outputs": [
    {
     "data": {
      "image/png": "[encoded data removed]",
      "text/plain": [
       "<Figure size 432x288 with 1 Axes>"
      ]
     },
     "metadata": {
      "needs_background": "light"
     },
     "output_type": "display_data"
    }
   ],
   "source": [
    "###Checking for working of Gradient Descent\n",
    "\n",
    "J_history = np.array(J_history)\n",
    "J_history = J_history.reshape((50000,1))\n",
    "J_history.shape\n",
    "\n",
    "I_history = np.array(I_history)\n",
    "I_history = I_history.reshape((50000,1))\n",
    "I_history.shape\n",
    "\n",
    "plt.plot(I_history[:100],J_history[:100])\n",
    "plt.show()"
   ]
  },
  {
   "cell_type": "code",
   "execution_count": 31,
   "metadata": {},
   "outputs": [
    {
     "data": {
      "text/plain": [
       "array([[ 2.24153206e+01],\n",
       "       [-1.12396854e+00],\n",
       "       [ 1.15106059e+00],\n",
       "       [ 7.50706160e-03],\n",
       "       [ 6.86467569e-01],\n",
       "       [-1.84723787e+00],\n",
       "       [ 2.39634474e+00],\n",
       "       [ 3.14639682e-02],\n",
       "       [-3.14088803e+00],\n",
       "       [ 3.16998313e+00],\n",
       "       [-2.21774509e+00],\n",
       "       [-2.05979006e+00],\n",
       "       [ 1.07158201e+00],\n",
       "       [-4.23813979e+00]])"
      ]
     },
     "execution_count": 31,
     "metadata": {},
     "output_type": "execute_result"
    }
   ],
   "source": [
    "theta"
   ]
  },
  {
   "cell_type": "code",
   "execution_count": 32,
   "metadata": {},
   "outputs": [],
   "source": [
    "def mape(y_true,y_pred):\n",
    "    return np.mean(np.abs((y_true - y_pred) / y_true)) *100"
   ]
  },
  {
   "cell_type": "code",
   "execution_count": 33,
   "metadata": {},
   "outputs": [
    {
     "name": "stdout",
     "output_type": "stream",
     "text": [
      "The model performance for testing set\n",
      "--------------------------------------\n",
      "MSE is 20.8692921837708\n",
      "MAPE: 17.23229896841008\n"
     ]
    }
   ],
   "source": [
    "#Testing Set\n",
    "\n",
    "Y_test_predict= np.dot(X_test,theta)\n",
    "mse_test = np.square(np.subtract(Y_test,Y_test_predict)).mean()\n",
    "print(\"The model performance for testing set\")\n",
    "print(\"--------------------------------------\")\n",
    "print('MSE is',mse_test)\n",
    "print(\"MAPE:\",mape(Y_test,Y_test_predict))"
   ]
  },
  {
   "cell_type": "code",
   "execution_count": null,
   "metadata": {},
   "outputs": [],
   "source": []
  },
  {
   "cell_type": "code",
   "execution_count": null,
   "metadata": {},
   "outputs": [],
   "source": []
  },
  {
   "cell_type": "code",
   "execution_count": null,
   "metadata": {},
   "outputs": [],
   "source": []
  },
  {
   "cell_type": "code",
   "execution_count": null,
   "metadata": {},
   "outputs": [],
   "source": []
  },
  {
   "cell_type": "code",
   "execution_count": null,
   "metadata": {},
   "outputs": [],
   "source": []
  },
  {
   "cell_type": "code",
   "execution_count": null,
   "metadata": {},
   "outputs": [],
   "source": []
  },
  {
   "cell_type": "code",
   "execution_count": null,
   "metadata": {},
   "outputs": [],
   "source": []
  }
 ],
 "metadata": {
  "kernelspec": {
   "display_name": "Python 3",
   "language": "python",
   "name": "python3"
  },
  "language_info": {
   "codemirror_mode": {
    "name": "ipython",
    "version": 3
   },
   "file_extension": ".py",
   "mimetype": "text/x-python",
   "name": "python",
   "nbconvert_exporter": "python",
   "pygments_lexer": "ipython3",
   "version": "3.7.9"
  }
 },
 "nbformat": 4,
 "nbformat_minor": 2
}
