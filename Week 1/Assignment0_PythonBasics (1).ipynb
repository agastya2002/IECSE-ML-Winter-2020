{
 "cells": [
  {
   "cell_type": "markdown",
   "metadata": {
    "colab_type": "text",
    "id": "R4PMr8HwOuzS"
   },
   "source": [
    "Before you turn this problem in, make sure everything runs as expected. First, **restart the kernel** (in the menubar, select Kernel$\\rightarrow$Restart) and then **run all cells** (in the menubar, select Cell$\\rightarrow$Run All).\n",
    "\n",
    "Make sure you fill in any place that says `YOUR CODE HERE` or \"YOUR ANSWER HERE\""
   ]
  },
  {
   "cell_type": "markdown",
   "metadata": {
    "colab_type": "text",
    "id": "wLn8e1WiOuzW"
   },
   "source": [
    "---"
   ]
  },
  {
   "cell_type": "markdown",
   "metadata": {
    "colab_type": "text",
    "id": "LshHn1HXOuzZ"
   },
   "source": [
    "## 1 \n",
    "Find the last element of a list. <br>\n",
    "Eg., l = [1, 2, 3, 4] <br>\n",
    "last_elemnt(l) -> 4"
   ]
  },
  {
   "cell_type": "code",
   "execution_count": 1,
   "metadata": {
    "colab": {},
    "colab_type": "code",
    "deletable": false,
    "id": "U3BnUGgHOuzb",
    "nbgrader": {
     "checksum": "ceaf78a5a2868050d5577390555391fd",
     "grade": false,
     "grade_id": "last_element",
     "locked": false,
     "schema_version": 1,
     "solution": true
    }
   },
   "outputs": [],
   "source": [
    "def last_element(l):\n",
    "    \"\"\"\n",
    "    Returns last element of list l\n",
    "    \"\"\"\n",
    "    # YOUR CODE HERE\n",
    "    return l[-1]\n",
    "    "
   ]
  },
  {
   "cell_type": "markdown",
   "metadata": {
    "colab_type": "text",
    "id": "E8JXu_VkOuzm"
   },
   "source": [
    "Your function should return 4. Check that it does"
   ]
  },
  {
   "cell_type": "code",
   "execution_count": 2,
   "metadata": {
    "colab": {
     "base_uri": "https://localhost:8080/",
     "height": 34
    },
    "colab_type": "code",
    "id": "V2hiw10eOuzo",
    "outputId": "99896945-4564-4973-c4ed-d31129b6478f"
   },
   "outputs": [
    {
     "data": {
      "text/plain": [
       "4"
      ]
     },
     "execution_count": 2,
     "metadata": {},
     "output_type": "execute_result"
    }
   ],
   "source": [
    "last_element([1, 2, 3, 4])"
   ]
  },
  {
   "cell_type": "code",
   "execution_count": 3,
   "metadata": {
    "colab": {},
    "colab_type": "code",
    "deletable": false,
    "editable": false,
    "id": "RRxQkzh9Ouzx",
    "nbgrader": {
     "checksum": "e7a477988b89c419ba8e8a792d87926d",
     "grade": true,
     "grade_id": "correct_last_element",
     "locked": true,
     "points": 1,
     "schema_version": 1,
     "solution": false
    }
   },
   "outputs": [],
   "source": [
    "\"\"\"Testing code for last_element\"\"\"\n",
    "assert last_element([1]) == 1\n",
    "assert last_element([\"Hello\", \"World\"]) == \"World\"\n"
   ]
  },
  {
   "cell_type": "markdown",
   "metadata": {
    "colab_type": "text",
    "id": "hZU0cXhVOuz5"
   },
   "source": [
    "## 2 \n",
    "Find the number of elements in a list.<br> \n",
    "Eg., l = [1, 2, 3, 4] <br>\n",
    "num_elemnts(l) -> 4"
   ]
  },
  {
   "cell_type": "code",
   "execution_count": 4,
   "metadata": {
    "colab": {},
    "colab_type": "code",
    "deletable": false,
    "id": "DYI2ydZWOuz7",
    "nbgrader": {
     "checksum": "40a05268c3c7b506e36d93d8e8e9c736",
     "grade": false,
     "grade_id": "num_elements",
     "locked": false,
     "schema_version": 1,
     "solution": true
    }
   },
   "outputs": [],
   "source": [
    "def num_elements(l):\n",
    "    \"\"\"\n",
    "    Returns number of elements in the list l\n",
    "    \"\"\"\n",
    "    # YOUR CODE HERE\n",
    "    return len(l)\n",
    "    "
   ]
  },
  {
   "cell_type": "code",
   "execution_count": 5,
   "metadata": {
    "colab": {},
    "colab_type": "code",
    "deletable": false,
    "editable": false,
    "id": "9i4H-VSeOu0C",
    "nbgrader": {
     "checksum": "d2f7bea60b46ae4df3f7830164b1a789",
     "grade": true,
     "grade_id": "correct_num_elements",
     "locked": true,
     "points": 1,
     "schema_version": 1,
     "solution": false
    }
   },
   "outputs": [],
   "source": [
    "\"\"\"Testing code for num_elements\"\"\"\n",
    "assert num_elements([2, 3, 4])==3\n"
   ]
  },
  {
   "cell_type": "markdown",
   "metadata": {
    "colab_type": "text",
    "id": "4C8Ai9mLOu0K"
   },
   "source": [
    "## 3 \n",
    "Reverse a list and return it. <br>\n",
    "Eg., l = [1, 2, 3, 4] <br>\n",
    "reverse_list(l) -> [4, 3, 2, 1]"
   ]
  },
  {
   "cell_type": "code",
   "execution_count": 6,
   "metadata": {
    "colab": {},
    "colab_type": "code",
    "deletable": false,
    "id": "yxQy_dmoOu0M",
    "nbgrader": {
     "checksum": "92d88398628ec958ca88e4df0d6a53ab",
     "grade": false,
     "grade_id": "reverse_list",
     "locked": false,
     "schema_version": 1,
     "solution": true
    }
   },
   "outputs": [],
   "source": [
    "def reverse_list(l):\n",
    "    \"\"\"\n",
    "    Returns the reverse of a list l\n",
    "    \"\"\"\n",
    "    # YOUR CODE HERE\n",
    "    return l[::-1]\n",
    "\n",
    "    "
   ]
  },
  {
   "cell_type": "code",
   "execution_count": 7,
   "metadata": {
    "colab": {},
    "colab_type": "code",
    "deletable": false,
    "editable": false,
    "id": "xX9EBhzYOu0T",
    "nbgrader": {
     "checksum": "fb74ef88bbb84ad4993ccb3fdd7d84fe",
     "grade": true,
     "grade_id": "correct_reverse_list",
     "locked": true,
     "points": 0,
     "schema_version": 1,
     "solution": false
    }
   },
   "outputs": [],
   "source": [
    "\"\"\"Testing code for reverse_list\"\"\"\n",
    "assert reverse_list([2, 3, 4])== [4, 3, 2]\n"
   ]
  },
  {
   "cell_type": "markdown",
   "metadata": {
    "colab_type": "text",
    "id": "xjVuuqzoOu0d"
   },
   "source": [
    "## 4 \n",
    "Find whether a list a palindrome -> a sequence that reads the same forwards and backwards <br>\n",
    "is_palindrome([1, 2, 1]) -> True <br>\n",
    "is_palindrome([1, 2, 3, 2, 1] -> True <br>\n",
    "is_palindrome([1, 2, 3, 1]) -> False"
   ]
  },
  {
   "cell_type": "code",
   "execution_count": 8,
   "metadata": {
    "colab": {},
    "colab_type": "code",
    "deletable": false,
    "id": "HnaDpNG7Ou0j",
    "nbgrader": {
     "checksum": "dc1f5bd93e63db6cf109fa3cf11bc54c",
     "grade": false,
     "grade_id": "is_palindrome",
     "locked": false,
     "schema_version": 1,
     "solution": true
    }
   },
   "outputs": [],
   "source": [
    "def is_palindrome(l):\n",
    "    \"\"\"\n",
    "    Returns True if l is a palindrome, False otherwise\n",
    "    \"\"\"\n",
    "    # YOUR CODE HERE\n",
    "    rev_list=l[::-1]\n",
    "    return rev_list==l\n",
    "    \n"
   ]
  },
  {
   "cell_type": "code",
   "execution_count": 9,
   "metadata": {
    "colab": {},
    "colab_type": "code",
    "deletable": false,
    "editable": false,
    "id": "fphCKNbIOu0r",
    "nbgrader": {
     "checksum": "841122d6bb3697fc9397a010ca170d95",
     "grade": true,
     "grade_id": "correct_is_palindrome",
     "locked": true,
     "points": 2,
     "schema_version": 1,
     "solution": false
    }
   },
   "outputs": [],
   "source": [
    "\"\"\"Testing code for is_palindrome\"\"\"\n",
    "\n",
    "assert(is_palindrome([1, 2, 1])) == True\n",
    "assert(is_palindrome([1, 2, 3, 2, 1])) == True\n",
    "assert(is_palindrome([1, 2, 3, 4])) == False\n"
   ]
  },
  {
   "cell_type": "markdown",
   "metadata": {
    "colab_type": "text",
    "id": "D-YS-SVdOu0_"
   },
   "source": [
    "### 5\n",
    "Replace consecutive duplicate elements of list with single element. <br>\n",
    "Eg., l = [a, a, a, b, b, c, a, a, d, d, d, x, x] <br>\n",
    "compress(l) -> [a, b, c, a, d, x]"
   ]
  },
  {
   "cell_type": "code",
   "execution_count": 10,
   "metadata": {
    "colab": {},
    "colab_type": "code",
    "deletable": false,
    "id": "vfWf3Q_2Ou1B",
    "nbgrader": {
     "checksum": "129d08ea2c81611ce22fcb717185819a",
     "grade": false,
     "grade_id": "compress",
     "locked": false,
     "schema_version": 1,
     "solution": true
    }
   },
   "outputs": [],
   "source": [
    "def compress(l):\n",
    "    \"\"\"\n",
    "    Returns a list with consecutive duplicate elements replaced by a single element\n",
    "    \"\"\"\n",
    "    # YOUR CODE HERE\n",
    "    comp=[]\n",
    "    comp+=[l[0]]\n",
    "    for i in l:\n",
    "        if(comp [-1] != i):\n",
    "            comp+=[i]\n",
    "    return comp\n"
   ]
  },
  {
   "cell_type": "code",
   "execution_count": 11,
   "metadata": {
    "colab": {},
    "colab_type": "code",
    "deletable": false,
    "editable": false,
    "id": "oyCFgQUzOu1H",
    "nbgrader": {
     "checksum": "187f4e7b917e510d5cf4bf057fe0f971",
     "grade": true,
     "grade_id": "correct_compress",
     "locked": true,
     "points": 3,
     "schema_version": 1,
     "solution": false
    }
   },
   "outputs": [],
   "source": [
    "\"\"\"Testing code for compress\"\"\"\n",
    "\n",
    "assert(compress([1, 2, 2])) == [1, 2]\n",
    "assert(compress([1, 2, 2, 2, 1, 1, 3, 'x', 'x', 'x'])) == [1, 2, 1, 3, 'x']\n"
   ]
  },
  {
   "cell_type": "markdown",
   "metadata": {
    "colab_type": "text",
    "id": "Tdh336xDOu1O"
   },
   "source": [
    "## 6 \n",
    "Pack consecutive duplicates of list elements into sublists. <br>\n",
    "Eg., l = [1, 1, 1, 2, 2, 3, 3, 4]\n",
    "pack(l) -> [[1,1,1], [2,2], [3,3], [4]]"
   ]
  },
  {
   "cell_type": "code",
   "execution_count": 12,
   "metadata": {
    "colab": {},
    "colab_type": "code",
    "deletable": false,
    "id": "K03AUjrzOu1T",
    "nbgrader": {
     "checksum": "c85d4d08d1a123dc95199cb9e20f2363",
     "grade": false,
     "grade_id": "pack",
     "locked": false,
     "schema_version": 1,
     "solution": true
    }
   },
   "outputs": [],
   "source": [
    "def pack(li):\n",
    "    \"\"\"\n",
    "    Returns a list with consecutive duplicate elements packed into sublists\n",
    "    \"\"\"\n",
    "    # YOUR CODE HERE\n",
    "    finallist=[]\n",
    "    templist=[li[0]]\n",
    "    for i in li[1:]:\n",
    "        if i == templist[-1]:\n",
    "            templist+=[i]\n",
    "        else:\n",
    "            finallist+=[templist]\n",
    "            templist=[i]\n",
    "    if(len(templist)!=0):\n",
    "        finallist+=[templist]\n",
    "    print(finallist)\n",
    "    return finallist"
   ]
  },
  {
   "cell_type": "code",
   "execution_count": 13,
   "metadata": {
    "colab": {
     "base_uri": "https://localhost:8080/",
     "height": 51
    },
    "colab_type": "code",
    "deletable": false,
    "editable": false,
    "id": "p4i9fktEOu1b",
    "nbgrader": {
     "checksum": "49d350f14934f94539aa4a0362849b7e",
     "grade": true,
     "grade_id": "correct_pack",
     "locked": true,
     "points": 0,
     "schema_version": 1,
     "solution": false
    },
    "outputId": "2ce73209-4d56-484c-c5a4-156ae15fca38"
   },
   "outputs": [
    {
     "name": "stdout",
     "output_type": "stream",
     "text": [
      "[[1, 1, 1], [2]]\n",
      "[[1, 1, 1], [2], [1, 1], [3, 3, 3]]\n"
     ]
    }
   ],
   "source": [
    "\"\"\"Testing code for pack\"\"\"\n",
    "assert(pack([1, 1, 1, 2]) == [[1, 1, 1], [2]])\n",
    "assert(pack([1, 1, 1, 2, 1, 1, 3, 3, 3])) == [[1, 1, 1], [2], [1, 1], [3, 3, 3]]"
   ]
  },
  {
   "cell_type": "markdown",
   "metadata": {
    "colab_type": "text",
    "id": "rksCmDtBOu1j"
   },
   "source": [
    "## 7\n",
    "Given two indices, i and k, the slice is the list containing the elements between the i'th and k'th element of the original list (left limit included). Start counting the elements with 0.\n",
    "\n",
    "Eg., l = [1, 3, 9, 8, 7];\n",
    "slice(l, 1, 3) --> [3, 9]\n"
   ]
  },
  {
   "cell_type": "code",
   "execution_count": 14,
   "metadata": {
    "colab": {},
    "colab_type": "code",
    "deletable": false,
    "id": "Xukx3J7oOu1l",
    "nbgrader": {
     "checksum": "a7711ce7298797fb9b26b56f68f8a823",
     "grade": false,
     "grade_id": "slice",
     "locked": false,
     "schema_version": 1,
     "solution": true
    }
   },
   "outputs": [],
   "source": [
    "def slice(l, i, k):\n",
    "    \"\"\"\n",
    "    Returns a list containing the elements between i'th and k'th elements of original list l.\n",
    "    \"\"\"  \n",
    "    # YOUR CODE HERE\n",
    "    li=[]\n",
    "    if(k<=len(l)and i>=0):\n",
    "      for i in range(i,k):\n",
    "        li+=[l[i]]\n",
    "    elif( i>=0 and k>len(l)):\n",
    "      for i in range(i,len(l)):\n",
    "        li+=[l[i]]\n",
    "        \n",
    "    # note you may use return l[i:k] but remember to perform necessary check for edge cases\n",
    "    return li\n",
    "     "
   ]
  },
  {
   "cell_type": "code",
   "execution_count": 15,
   "metadata": {
    "colab": {},
    "colab_type": "code",
    "deletable": false,
    "editable": false,
    "id": "txMac5NmOu1s",
    "nbgrader": {
     "checksum": "3304534c32fe2f1c2250ae9f3b6d7069",
     "grade": true,
     "grade_id": "correct_slice",
     "locked": true,
     "points": 1,
     "schema_version": 1,
     "solution": false
    }
   },
   "outputs": [],
   "source": [
    "\"\"\"Testing code for slice\"\"\"\n",
    "assert(slice([1, 3, 8, 9, 7], 1, 3)) == [3,8]\n",
    "assert(slice([1, 4, 6, 'x', 9, 0], 2, 10)) == [6, 'x', 9, 0]\n"
   ]
  },
  {
   "cell_type": "markdown",
   "metadata": {
    "colab_type": "text",
    "id": "49LPVvY1Ou1y"
   },
   "source": [
    "## 8 \n",
    "Given a list l, index i and element elem, return a new list with elem at index i <br>\n",
    "Eg., l = [1, 3, 9, 8, 7]; <br>\n",
    "insert_element(l, 1, 3) --> [1, 3, 9, 1, 8, 7]"
   ]
  },
  {
   "cell_type": "code",
   "execution_count": 16,
   "metadata": {
    "colab": {},
    "colab_type": "code",
    "deletable": false,
    "id": "ULAzM7FxOu10",
    "nbgrader": {
     "checksum": "300c01b77786f1abdff02a9bdb5a45b8",
     "grade": false,
     "grade_id": "insert_element",
     "locked": false,
     "schema_version": 1,
     "solution": true
    }
   },
   "outputs": [],
   "source": [
    "def insert_element(l, i, elem):\n",
    "    \"\"\"\n",
    "    Returns a new list containing elem at index i. If i > len (l), insert element at the end of the list\n",
    "    \"\"\"      \n",
    "    # YOUR CODE HERE\n",
    "    li=[]\n",
    "    for element in l:\n",
    "      if(i<0):\n",
    "        li=l\n",
    "        break\n",
    "      if(i>=len(l)):\n",
    "        li=l+[elem]\n",
    "        break\n",
    "      if(i<len(l)):\n",
    "        li[i:]=[elem]+l[i:]\n",
    "    return li\n",
    "        \n",
    "      \n",
    "    "
   ]
  },
  {
   "cell_type": "code",
   "execution_count": 17,
   "metadata": {
    "colab": {},
    "colab_type": "code",
    "deletable": false,
    "editable": false,
    "id": "-jrWepT9Ou2A",
    "nbgrader": {
     "checksum": "02cf4e879532e8bc4a06cdd5801040c2",
     "grade": true,
     "grade_id": "correct_insert_element",
     "locked": true,
     "points": 1,
     "schema_version": 1,
     "solution": false
    }
   },
   "outputs": [],
   "source": [
    "\"\"\"Testing code for insert_element\"\"\"\n",
    "assert(insert_element([1, 2, 3, 4,], 2, 5)[2]) == 5\n",
    "assert(insert_element([1, 5, ], 3, 5)) == [1, 5, 5]\n"
   ]
  },
  {
   "cell_type": "code",
   "execution_count": null,
   "metadata": {
    "colab": {},
    "colab_type": "code",
    "id": "NZNRN-MCCZ_7"
   },
   "outputs": [],
   "source": []
  }
 ],
 "metadata": {
  "accelerator": "GPU",
  "colab": {
   "collapsed_sections": [],
   "name": "Copy of Soham Tiwari - Assignment0_PythonBasics.ipynb",
   "provenance": []
  },
  "kernelspec": {
   "display_name": "Python 3",
   "language": "python",
   "name": "python3"
  },
  "language_info": {
   "codemirror_mode": {
    "name": "ipython",
    "version": 3
   },
   "file_extension": ".py",
   "mimetype": "text/x-python",
   "name": "python",
   "nbconvert_exporter": "python",
   "pygments_lexer": "ipython3",
   "version": "3.7.3"
  }
 },
 "nbformat": 4,
 "nbformat_minor": 1
}
