{
 "metadata": {
  "language_info": {
   "codemirror_mode": {
    "name": "ipython",
    "version": 3
   },
   "file_extension": ".py",
   "mimetype": "text/x-python",
   "name": "python",
   "nbconvert_exporter": "python",
   "pygments_lexer": "ipython3",
   "version": "3.7.9-final"
  },
  "orig_nbformat": 2,
  "kernelspec": {
   "name": "python3",
   "display_name": "Python 3",
   "language": "python"
  }
 },
 "nbformat": 4,
 "nbformat_minor": 2,
 "cells": [
  {
   "source": [
    "Assignment-2"
   ],
   "cell_type": "markdown",
   "metadata": {}
  },
  {
   "source": [
    "Windows And Strides"
   ],
   "cell_type": "markdown",
   "metadata": {}
  },
  {
   "source": [
    "def gen_strides(a, stride_len, window_len):\n",
    "    length = len(a)\n",
    "    l = []\n",
    "    for x in range(0,length-window_len+1,stride_len):\n",
    "        l.append(a[x:x+window_len])\n",
    "    return(np.array(l))  \n"
   ],
   "cell_type": "code",
   "metadata": {},
   "execution_count": 5,
   "outputs": []
  },
  {
   "cell_type": "code",
   "execution_count": 17,
   "metadata": {},
   "outputs": [
    {
     "output_type": "stream",
     "name": "stdout",
     "text": [
      "Sample Tests passed 👍\n"
     ]
    }
   ],
   "source": [
    "assert (np.all(gen_strides(np.array([1, 3, 7, 1, 2, 6, 0, 1]),2,4) == np.array([[1, 3, 7, 1], [7, 1, 2, 6], [2, 6, 0, 1]])))\n",
    "\n",
    "print(\"Sample Tests passed\", '\\U0001F44D')"
   ]
  },
  {
   "source": [
    "Shuffle"
   ],
   "cell_type": "markdown",
   "metadata": {}
  },
  {
   "cell_type": "code",
   "execution_count": 6,
   "metadata": {},
   "outputs": [],
   "source": [
    "def shuf(arr):\n",
    "    np.random.shuffle(arr)\n",
    "    return(arr)"
   ]
  },
  {
   "cell_type": "code",
   "execution_count": 9,
   "metadata": {},
   "outputs": [
    {
     "output_type": "stream",
     "name": "stdout",
     "text": [
      "Sample Tests passed 👍\n"
     ]
    }
   ],
   "source": [
    "arr=np.array([[1, 2, 3],[4, 5, 6],[7, 8, 9]])\n",
    "assert np.any(shuf(np.array([[1, 2, 3],[4, 5, 6],[7, 8, 9]])) != np.array([[1, 2, 3], [4, 5, 6], [7, 8, 9]]))\n",
    "assert shuf(np.array([[1, 2, 3],[4, 5, 6],[7, 8, 9]])).shape == np.array([[1, 2, 3], [4, 5, 6], [7, 8, 9]]).shape\n",
    "\n",
    "print(\"Sample Tests passed\", '\\U0001F44D')"
   ]
  },
  {
   "source": [
    "Match"
   ],
   "cell_type": "markdown",
   "metadata": {}
  },
  {
   "cell_type": "code",
   "execution_count": 13,
   "metadata": {},
   "outputs": [],
   "source": [
    "def match(a,b):\n",
    "    l=[]\n",
    "    for x in range(0,len(a)):\n",
    "        if(a[x]==b[x]):\n",
    "            l.append(x)\n",
    "    return l"
   ]
  },
  {
   "cell_type": "code",
   "execution_count": 14,
   "metadata": {},
   "outputs": [
    {
     "output_type": "stream",
     "name": "stdout",
     "text": [
      "Sample Tests passed 👍\n"
     ]
    }
   ],
   "source": [
    "assert(match(np.array([1,2,3,2,3,4,3,4,5,6]),np.array([7,2,10,2,7,4,9,4,9,8])) == [1,3,5,7])\n",
    "print(\"Sample Tests passed\", '\\U0001F44D')"
   ]
  },
  {
   "source": [
    "Inverse"
   ],
   "cell_type": "markdown",
   "metadata": {}
  },
  {
   "cell_type": "code",
   "execution_count": 19,
   "metadata": {},
   "outputs": [],
   "source": [
    "def inv(arr):\n",
    "    return (np.linalg.inv(arr))\n"
   ]
  },
  {
   "cell_type": "code",
   "execution_count": 20,
   "metadata": {},
   "outputs": [
    {
     "output_type": "stream",
     "name": "stdout",
     "text": [
      "Sample Tests passed 👍\n"
     ]
    }
   ],
   "source": [
    "assert np.all(np.isclose(inv(np.array([[6, 1, 1], [4, -2, 5], [2, 8, 7]])).tolist(), np.array([[0.17647058823529413, -0.0032679738562091526, -0.02287581699346405],[0.05882352941176469, -0.130718954248366, 0.0849673202614379],[-0.1176470588235294, 0.1503267973856209, 0.0522875816993464]])))\n",
    "\n",
    "print(\"Sample Tests passed\", '\\U0001F44D')"
   ]
  },
  {
   "cell_type": "code",
   "execution_count": 28,
   "metadata": {},
   "outputs": [],
   "source": [
    "def lin_eqn(a,b):\n",
    "    inv_a=np.linalg.inv(a)\n",
    "    return inv_a.dot(b)"
   ]
  },
  {
   "cell_type": "code",
   "execution_count": 29,
   "metadata": {},
   "outputs": [
    {
     "output_type": "stream",
     "name": "stdout",
     "text": [
      "Sample Tests passed 👍\n"
     ]
    }
   ],
   "source": [
    "\"\"\"Test for lin_eqn\"\"\"\n",
    "assert np.any(lin_eqn(np.array([[1, 2], [3, 4]]),np.array([8, 18])) == np.array([2., 3.]))\n",
    "\n",
    "print(\"Sample Tests passed\", '\\U0001F44D')"
   ]
  },
  {
   "source": [
    "rankArray"
   ],
   "cell_type": "markdown",
   "metadata": {}
  },
  {
   "cell_type": "code",
   "execution_count": 151,
   "metadata": {},
   "outputs": [],
   "source": [
    "def rankArray(arr):\n",
    "    b=arr.flatten()\n",
    "    #print(arr.shape)\n",
    "    s_arr=np.sort(b)\n",
    "    ranks=[]\n",
    "    #print(b[0])\n",
    "    #print(arr[0])\n",
    "    for x in range(0,len(b)):\n",
    "        t=b[x]\n",
    "        for y in range(0,len(s_arr)):\n",
    "            if(t==s_arr[y]):\n",
    "               ranks.append(y)\n",
    "               break\n",
    "    \n",
    "                \n",
    "    print(ranks)\n",
    "    for x in range(0,len(ranks)):\n",
    "        t=ranks[x]\n",
    "        for y in range(x+1,len(ranks)):\n",
    "            if(t==ranks[y]):\n",
    "                ranks[y]+=1\n",
    "    \n",
    "    return (np.array(ranks).reshape(arr.shape))\n"
   ]
  },
  {
   "cell_type": "code",
   "execution_count": 153,
   "metadata": {},
   "outputs": [
    {
     "output_type": "stream",
     "name": "stdout",
     "text": [
      "[4, 2, 6, 0, 8, 7, 8, 3, 4, 0]\n[[4 2 6 0 8]\n [7 9 3 5 1]]\n"
     ]
    }
   ],
   "source": [
    "print(rankArray(np.array([[9, 4, 15, 0, 17], [16,17,8,9,0]])))"
   ]
  },
  {
   "cell_type": "code",
   "execution_count": 154,
   "metadata": {},
   "outputs": [
    {
     "output_type": "stream",
     "name": "stdout",
     "text": [
      "[4, 2, 6, 0, 8, 7, 8, 3, 4, 0]\nSample Tests passed 👍\n"
     ]
    }
   ],
   "source": [
    "assert np.all(rankArray(np.array([[9, 4, 15, 0, 17], [16,17,8,9,0]])) == np.array([[4,2, 6, 0, 8], [7, 9, 3, 5, 1]]).tolist())\n",
    "print(\"Sample Tests passed\", '\\U0001F44D')"
   ]
  }
 ]
}