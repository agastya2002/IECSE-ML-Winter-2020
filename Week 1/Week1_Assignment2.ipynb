{
  "nbformat": 4,
  "nbformat_minor": 0,
  "metadata": {
    "colab": {
      "name": "Week1_Assignment2.ipynb",
      "provenance": []
    },
    "kernelspec": {
      "name": "python3",
      "display_name": "Python 3"
    }
  },
  "cells": [
    {
      "cell_type": "code",
      "metadata": {
        "colab": {
          "base_uri": "https://localhost:8080/"
        },
        "id": "dGxhXky-YtTy",
        "outputId": "86d769ad-fd52-4724-d74f-864c2afd156d"
      },
      "source": [
        "import numpy as np\r\n",
        "def gen_strides(a, stride_len, window_len):\r\n",
        "    '''\r\n",
        "    Input:\r\n",
        "      a: Numpy array of 1 dimension\r\n",
        "      stride_len: int, stride length\r\n",
        "      window_len : int, window length\r\n",
        "    \r\n",
        "    Output:\r\n",
        "      Numpy array of 2 dimensions containing windowed strides as explained above\r\n",
        "    '''\r\n",
        "    i = 0\r\n",
        "    l2 = []\r\n",
        "    while (i + window_len) <= len(a):\r\n",
        "      j = i\r\n",
        "      l1 = []\r\n",
        "      while j < i + window_len:\r\n",
        "        l1.append(a[j])\r\n",
        "        j = j + 1\r\n",
        "      l2.append(l1)\r\n",
        "      i = i + stride_len\r\n",
        "    c = np.array(l2)\r\n",
        "    return c\r\n",
        "\r\n",
        "\"\"\"Test for strides\"\"\"\r\n",
        "assert (np.all(gen_strides(np.array([1, 3, 7, 1, 2, 6, 0, 1]),2,4) == np.array([[1, 3, 7, 1], [7, 1, 2, 6], [2, 6, 0, 1]])))\r\n",
        "\r\n",
        "print(\"Sample Tests passed\", '\\U0001F44D')"
      ],
      "execution_count": 1,
      "outputs": [
        {
          "output_type": "stream",
          "text": [
            "Sample Tests passed 👍\n"
          ],
          "name": "stdout"
        }
      ]
    },
    {
      "cell_type": "code",
      "metadata": {
        "colab": {
          "base_uri": "https://localhost:8080/"
        },
        "id": "NZKqbtcccD8Z",
        "outputId": "d117e61c-6b1d-4fda-bccb-3e2e66954be6"
      },
      "source": [
        "def shuf(arr):\r\n",
        "  '''\r\n",
        "  Input: \r\n",
        "    arr: Numpy array of arbitrary number of dimensions (>1)\r\n",
        "  Output:\r\n",
        "    numpy array of same shape as arr but with rows shuffled\r\n",
        "  '''\r\n",
        "  np.random.shuffle(arr)\r\n",
        "  return arr\r\n",
        "\"\"\"Test for shuf\"\"\"\r\n",
        "arr=np.array([[1, 2, 3],[4, 5, 6],[7, 8, 9]])\r\n",
        "assert np.any(shuf(np.array([[1, 2, 3],[4, 5, 6],[7, 8, 9]])) != np.array([[1, 2, 3], [4, 5, 6], [7, 8, 9]]))\r\n",
        "assert shuf(np.array([[1, 2, 3],[4, 5, 6],[7, 8, 9]])).shape == np.array([[1, 2, 3], [4, 5, 6], [7, 8, 9]]).shape\r\n",
        "\r\n",
        "print(\"Sample Tests passed\", '\\U0001F44D')"
      ],
      "execution_count": 2,
      "outputs": [
        {
          "output_type": "stream",
          "text": [
            "Sample Tests passed 👍\n"
          ],
          "name": "stdout"
        }
      ]
    },
    {
      "cell_type": "code",
      "metadata": {
        "colab": {
          "base_uri": "https://localhost:8080/"
        },
        "id": "xLSQRoAQgKpD",
        "outputId": "1643e66e-9110-4923-96f1-270b94a63a9f"
      },
      "source": [
        "def match(a,b):\r\n",
        "    '''\r\n",
        "    Inputs:\r\n",
        "      a, b: numpy arrays of same shape of 1 dimension\r\n",
        "    Outputs:\r\n",
        "      list containing indices where both arrays have same elements\r\n",
        "    '''\r\n",
        "    l = []\r\n",
        "    i = 0\r\n",
        "    while i < len(a):\r\n",
        "      if a[i]==b[i]:\r\n",
        "        l.append(i)\r\n",
        "      i = i + 1\r\n",
        "    return l\r\n",
        "\r\n",
        "\"\"\"Test for match\"\"\"\r\n",
        "assert(match(np.array([1,2,3,2,3,4,3,4,5,6]),np.array([7,2,10,2,7,4,9,4,9,8])) == [1,3,5,7])\r\n",
        "print(\"Sample Tests passed\", '\\U0001F44D')"
      ],
      "execution_count": 3,
      "outputs": [
        {
          "output_type": "stream",
          "text": [
            "Sample Tests passed 👍\n"
          ],
          "name": "stdout"
        }
      ]
    },
    {
      "cell_type": "code",
      "metadata": {
        "colab": {
          "base_uri": "https://localhost:8080/"
        },
        "id": "Wu4QHWWZhsQX",
        "outputId": "21f2f8af-14c6-4c11-d38f-b701673610c7"
      },
      "source": [
        "def inv(arr):\r\n",
        "    \"\"\"\r\n",
        "    Given an array arr (square matrix), find its inverse\r\n",
        "    \"\"\"\r\n",
        "    return np.linalg.inv(arr)\r\n",
        "    \r\n",
        "\"\"\"Test for inv\"\"\"\r\n",
        "assert np.all(np.isclose(inv(np.array([[6, 1, 1], [4, -2, 5], [2, 8, 7]])).tolist(), np.array([[0.17647058823529413, -0.0032679738562091526, -0.02287581699346405],[0.05882352941176469, -0.130718954248366, 0.0849673202614379],[-0.1176470588235294, 0.1503267973856209, 0.0522875816993464]])))\r\n",
        "\r\n",
        "print(\"Sample Tests passed\", '\\U0001F44D')"
      ],
      "execution_count": 4,
      "outputs": [
        {
          "output_type": "stream",
          "text": [
            "Sample Tests passed 👍\n"
          ],
          "name": "stdout"
        }
      ]
    },
    {
      "cell_type": "code",
      "metadata": {
        "colab": {
          "base_uri": "https://localhost:8080/"
        },
        "id": "XY4LqBH_icOe",
        "outputId": "75ecfc07-9e13-4b74-a885-ada327314d73"
      },
      "source": [
        "def lin_eqn(a,b):\r\n",
        "    '''\r\n",
        "    Solve the system of linear equations\r\n",
        "    of the form ax = b\r\n",
        "    \r\n",
        "    Eg. \r\n",
        "    \r\n",
        "    Solve the system of linear equation\r\n",
        "    \r\n",
        "    x + 2*y = 8\r\n",
        "    3*x + 4*y = 18\r\n",
        "    \r\n",
        "    Given inputs a and b represent coefficients and constant of linear equation respectively\r\n",
        "    \r\n",
        "    coefficients: \r\n",
        "    a = np.array([[1, 2], [3, 4]]) \r\n",
        "    \r\n",
        "    constants: \r\n",
        "    b = np.array([8, 18])\r\n",
        "    \r\n",
        "    Desired Output: [2,3]\r\n",
        "    \r\n",
        "\r\n",
        "    '''\r\n",
        "    c = np.linalg.inv(a)\r\n",
        "    return c.dot(b)\r\n",
        "# x=lin_eqn(np.array([[1.0, 2.0], [3, 4]]),np.array([8.0,  18.0]))\r\n",
        "# print(x)\r\n",
        "\"\"\"Test for lin_eqn\"\"\"\r\n",
        "assert np.any(lin_eqn(np.array([[1, 2], [3, 4]]),np.array([8, 18])) == np.array([2., 3.]))\r\n",
        "\r\n",
        "print(\"Sample Tests passed\", '\\U0001F44D')"
      ],
      "execution_count": 5,
      "outputs": [
        {
          "output_type": "stream",
          "text": [
            "Sample Tests passed 👍\n"
          ],
          "name": "stdout"
        }
      ]
    },
    {
      "cell_type": "code",
      "metadata": {
        "colab": {
          "base_uri": "https://localhost:8080/"
        },
        "id": "NEdZRpWcktBI",
        "outputId": "880b66f6-9649-4a87-e57b-b6dbba8dcd46"
      },
      "source": [
        "import numpy as np\r\n",
        "\r\n",
        "def rankArray(arr):\r\n",
        "    '''\r\n",
        "    Input:\r\n",
        "        arr: Numpy array of arbitrary dimensions \r\n",
        "    Output:\r\n",
        "        numpy array of same shape as arr but with elements replaced by their ranks\r\n",
        "    '''\r\n",
        "    tup = arr.shape\r\n",
        "    i = 0\r\n",
        "    l = []\r\n",
        "    while i < tup[0]:\r\n",
        "      j = 0\r\n",
        "      while j < tup[1]:\r\n",
        "        l.append(arr[i][j])\r\n",
        "        j = j + 1\r\n",
        "      i = i + 1\r\n",
        "    l = sorted(l)\r\n",
        "    i = 0\r\n",
        "    while i < tup[0]:\r\n",
        "      j = 0\r\n",
        "      while j < tup[1]:\r\n",
        "        x = l.index(arr[i][j])\r\n",
        "        arr[i][j] = x\r\n",
        "        l[x] = -1\r\n",
        "        j = j + 1\r\n",
        "      i = i + 1\r\n",
        "    return arr\r\n",
        "# print(rankArray(np.array([[9, 4, 15, 0, 17], [16,17,8,9,0]])).tolist())\r\n",
        "\"\"\"Test for rankArray\"\"\"\r\n",
        "assert np.all(rankArray(np.array([[9, 4, 15, 0, 17], [16,17,8,9,0]])) == np.array([[4,2, 6, 0, 8], [7, 9, 3, 5, 1]]).tolist())\r\n",
        "print(\"Sample Tests passed\", '\\U0001F44D')"
      ],
      "execution_count": 6,
      "outputs": [
        {
          "output_type": "stream",
          "text": [
            "Sample Tests passed 👍\n"
          ],
          "name": "stdout"
        }
      ]
    }
  ]
}