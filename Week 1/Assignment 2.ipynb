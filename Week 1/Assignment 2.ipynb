{
  "nbformat": 4,
  "nbformat_minor": 0,
  "metadata": {
    "colab": {
      "name": "Assignment_2.ipynb",
      "provenance": [],
      "collapsed_sections": []
    },
    "kernelspec": {
      "name": "python3",
      "display_name": "Python 3"
    }
  },
  "cells": [
    {
      "cell_type": "markdown",
      "metadata": {
        "id": "mqbuidjUqQCL"
      },
      "source": [
        "Assignment 2 - NumPy Basics"
      ]
    },
    {
      "cell_type": "code",
      "metadata": {
        "id": "Ef6WZns-qRrl"
      },
      "source": [
        "import numpy as np"
      ],
      "execution_count": 1,
      "outputs": []
    },
    {
      "cell_type": "markdown",
      "metadata": {
        "id": "JKgW2jLi4hpP"
      },
      "source": [
        "Windows and Strides"
      ]
    },
    {
      "cell_type": "code",
      "metadata": {
        "colab": {
          "base_uri": "https://localhost:8080/"
        },
        "id": "zazzeMP0qVI6",
        "outputId": "873ce589-72e2-4feb-ccad-5d9ddaa4faaf"
      },
      "source": [
        "def gen_strides(a, stride_len, window_len):\n",
        "    n = a.size\n",
        "    l = []\n",
        "    i = 0\n",
        "    while i <= n-window_len:\n",
        "        l.append(a[i:i+window_len])\n",
        "        i+=stride_len\n",
        "    return np.array(l)\n",
        "    \n",
        "assert (np.all(gen_strides(np.array([1, 3, 7, 1, 2, 6, 0, 1]),2,4) == np.array([[1, 3, 7, 1], [7, 1, 2, 6], [2, 6, 0, 1]])))\n",
        "print(\"Sample Tests passed\", '\\U0001F44D')"
      ],
      "execution_count": 2,
      "outputs": [
        {
          "output_type": "stream",
          "text": [
            "Sample Tests passed 👍\n"
          ],
          "name": "stdout"
        }
      ]
    },
    {
      "cell_type": "markdown",
      "metadata": {
        "id": "6PyxNTEw4mig"
      },
      "source": [
        "Shuffle"
      ]
    },
    {
      "cell_type": "code",
      "metadata": {
        "colab": {
          "base_uri": "https://localhost:8080/"
        },
        "id": "6pzmeJxBrWwa",
        "outputId": "40bbd91f-d84f-4b40-b2cf-cc1c8e00b46d"
      },
      "source": [
        "def shuf(arr):\n",
        "  np.random.shuffle(arr) \n",
        "  return arr\n",
        "\n",
        "arr=np.array([[1, 2, 3],[4, 5, 6],[7, 8, 9]])\n",
        "assert np.any(shuf(np.array([[1, 2, 3],[4, 5, 6],[7, 8, 9]])) != np.array([[1, 2, 3], [4, 5, 6], [7, 8, 9]]))\n",
        "assert shuf(np.array([[1, 2, 3],[4, 5, 6],[7, 8, 9]])).shape == np.array([[1, 2, 3], [4, 5, 6], [7, 8, 9]]).shape\n",
        "\n",
        "print(\"Sample Tests passed\", '\\U0001F44D')"
      ],
      "execution_count": 3,
      "outputs": [
        {
          "output_type": "stream",
          "text": [
            "Sample Tests passed 👍\n"
          ],
          "name": "stdout"
        }
      ]
    },
    {
      "cell_type": "markdown",
      "metadata": {
        "id": "8W4kC7H04xjy"
      },
      "source": [
        "Match"
      ]
    },
    {
      "cell_type": "code",
      "metadata": {
        "colab": {
          "base_uri": "https://localhost:8080/"
        },
        "id": "kJ4jcozL1E7K",
        "outputId": "70031d0e-7ffd-4aa0-b7bd-959042e9b33b"
      },
      "source": [
        "def match(a,b):\n",
        "    match_idx = (a==b)\n",
        "    l = []\n",
        "    for i in range(len(match_idx)):\n",
        "      if match_idx[i]:\n",
        "        l.append(i)\n",
        "    return l\n",
        "\n",
        "assert(match(np.array([1,2,3,2,3,4,3,4,5,6]),np.array([7,2,10,2,7,4,9,4,9,8])) == [1,3,5,7])\n",
        "print(\"Sample Tests passed\", '\\U0001F44D')"
      ],
      "execution_count": 4,
      "outputs": [
        {
          "output_type": "stream",
          "text": [
            "Sample Tests passed 👍\n"
          ],
          "name": "stdout"
        }
      ]
    },
    {
      "cell_type": "markdown",
      "metadata": {
        "id": "z2vqaRPq40Kn"
      },
      "source": [
        "Inverse of an array"
      ]
    },
    {
      "cell_type": "code",
      "metadata": {
        "colab": {
          "base_uri": "https://localhost:8080/"
        },
        "id": "p5vCxW4N43EH",
        "outputId": "d93e2cd1-e4c7-4918-8054-c34d6c5fe3fb"
      },
      "source": [
        "def inv(arr):\n",
        "    return np.linalg.inv(arr)\n",
        "\n",
        "\n",
        "assert np.all(np.isclose(inv(np.array([[6, 1, 1], [4, -2, 5], [2, 8, 7]])).tolist(), np.array([[0.17647058823529413, -0.0032679738562091526, -0.02287581699346405],[0.05882352941176469, -0.130718954248366, 0.0849673202614379],[-0.1176470588235294, 0.1503267973856209, 0.0522875816993464]])))\n",
        "print(\"Sample Tests passed\", '\\U0001F44D')"
      ],
      "execution_count": 5,
      "outputs": [
        {
          "output_type": "stream",
          "text": [
            "Sample Tests passed 👍\n"
          ],
          "name": "stdout"
        }
      ]
    },
    {
      "cell_type": "markdown",
      "metadata": {
        "id": "Fkvhc-dJ7P_q"
      },
      "source": [
        "Linear Equations"
      ]
    },
    {
      "cell_type": "code",
      "metadata": {
        "colab": {
          "base_uri": "https://localhost:8080/"
        },
        "id": "CQZ487SX7WyR",
        "outputId": "95fcd492-c9c0-4a59-ce15-fe2d4373c8d2"
      },
      "source": [
        "def lin_eqn(a,b):\n",
        "    return np.dot(np.linalg.inv(a),b)\n",
        "\n",
        "\n",
        "x=lin_eqn(np.array([[1.0, 2.0], [3, 4]]),np.array([8.0,  18.0]))\n",
        "print(x)\n",
        "\n",
        "assert np.any(lin_eqn(np.array([[1, 2], [3, 4]]),np.array([8, 18])) == np.array([2., 3.]))\n",
        "print(\"Sample Tests passed\", '\\U0001F44D')"
      ],
      "execution_count": 6,
      "outputs": [
        {
          "output_type": "stream",
          "text": [
            "[2. 3.]\n",
            "Sample Tests passed 👍\n"
          ],
          "name": "stdout"
        }
      ]
    },
    {
      "cell_type": "markdown",
      "metadata": {
        "id": "GLwwr2D1c7Zr"
      },
      "source": [
        "Rank Array"
      ]
    },
    {
      "cell_type": "code",
      "metadata": {
        "colab": {
          "base_uri": "https://localhost:8080/"
        },
        "id": "Mo-azl15IP2g",
        "outputId": "8482c9cd-3e7b-4fd7-8255-899a157e4e1d"
      },
      "source": [
        "def rankArray(arr):\n",
        "    sortedList = np.sort(arr,axis = None).tolist()\n",
        "    l = []\n",
        "    for i in arr.flatten():\n",
        "        ind = sortedList.index(i)\n",
        "        sortedList[ind] = None\n",
        "        l.append(ind)\n",
        "\n",
        "    res = np.array(l).reshape(arr.shape)\n",
        "    return res\n",
        "\n",
        "print(rankArray(np.array([[9, 4, 15, 0, 17], [16,17,8,9,0]])).tolist())\n",
        "\n",
        "assert np.all(rankArray(np.array([[9, 4, 15, 0, 17], [16,17,8,9,0]])) == np.array([[4,2, 6, 0, 8], [7, 9, 3, 5, 1]]).tolist())\n",
        "print(\"Sample Tests passed\", '\\U0001F44D')\n",
        "\n",
        "#Another way\n",
        "def rankArrayAlt(arr):\n",
        "    return arr.argsort(axis=None).argsort().reshape(arr.shape)\n",
        "\n",
        "print(rankArrayAlt(np.array([[9, 4, 15, 0, 17], [16,17,8,9,0]])).tolist())\n",
        "\n",
        "assert np.all(rankArrayAlt(np.array([[9, 4, 15, 0, 17], [16,17,8,9,0]])) == np.array([[4,2, 6, 0, 8], [7, 9, 3, 5, 1]]).tolist())\n",
        "print(\"Sample Tests passed\", '\\U0001F44D')"
      ],
      "execution_count": 7,
      "outputs": [
        {
          "output_type": "stream",
          "text": [
            "[[4, 2, 6, 0, 8], [7, 9, 3, 5, 1]]\n",
            "Sample Tests passed 👍\n",
            "[[4, 2, 6, 0, 8], [7, 9, 3, 5, 1]]\n",
            "Sample Tests passed 👍\n"
          ],
          "name": "stdout"
        }
      ]
    }
  ]
}