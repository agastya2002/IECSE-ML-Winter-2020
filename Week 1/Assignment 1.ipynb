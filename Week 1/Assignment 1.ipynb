{
 "cells": [
  {
   "cell_type": "markdown",
   "metadata": {},
   "source": [
    "Assignment 1 - Basic Python"
   ]
  },
  {
   "cell_type": "markdown",
   "metadata": {},
   "source": [
    "Q1"
   ]
  },
  {
   "cell_type": "code",
   "execution_count": 1,
   "metadata": {},
   "outputs": [
    {
     "data": {
      "text/plain": [
       "4"
      ]
     },
     "execution_count": 1,
     "metadata": {},
     "output_type": "execute_result"
    }
   ],
   "source": [
    "def last_element(l):\n",
    "    \"\"\"\n",
    "    Returns last element of list l\n",
    "    \"\"\"\n",
    "    return l[-1]\n",
    "last_element([1,2,3,4])"
   ]
  },
  {
   "cell_type": "code",
   "execution_count": 2,
   "metadata": {},
   "outputs": [],
   "source": [
    "\"\"\"Testing code for last_element\"\"\"\n",
    "assert last_element([1]) == 1\n",
    "assert last_element([\"Hello\", \"World\"]) == \"World\""
   ]
  },
  {
   "cell_type": "markdown",
   "metadata": {},
   "source": [
    "Q2"
   ]
  },
  {
   "cell_type": "code",
   "execution_count": 3,
   "metadata": {},
   "outputs": [],
   "source": [
    "def num_elements(l):\n",
    "    \"\"\"\n",
    "    Returns number of elements in the list l\n",
    "    \"\"\"\n",
    "    return len(l)"
   ]
  },
  {
   "cell_type": "code",
   "execution_count": 4,
   "metadata": {},
   "outputs": [],
   "source": [
    "\"\"\"Testing code for num_elements\"\"\"\n",
    "assert num_elements([2, 3, 4])==3"
   ]
  },
  {
   "cell_type": "markdown",
   "metadata": {},
   "source": [
    "Q3"
   ]
  },
  {
   "cell_type": "code",
   "execution_count": 5,
   "metadata": {},
   "outputs": [],
   "source": [
    "def reverse_list(l):\n",
    "    \"\"\"\n",
    "    Returns the reverse of a list l\n",
    "    \"\"\"\n",
    "    return l[::-1]"
   ]
  },
  {
   "cell_type": "code",
   "execution_count": 6,
   "metadata": {},
   "outputs": [],
   "source": [
    "\"\"\"Testing code for reverse_list\"\"\"\n",
    "assert reverse_list([2, 3, 4])== [4, 3, 2]"
   ]
  },
  {
   "cell_type": "markdown",
   "metadata": {},
   "source": [
    "Q4"
   ]
  },
  {
   "cell_type": "code",
   "execution_count": 7,
   "metadata": {},
   "outputs": [],
   "source": [
    "def is_palindrome(l):\n",
    "    \"\"\"\n",
    "    Returns True if l is a palindrome, False otherwise\n",
    "    \"\"\"\n",
    "    return (l == l[::-1]) "
   ]
  },
  {
   "cell_type": "code",
   "execution_count": 8,
   "metadata": {},
   "outputs": [],
   "source": [
    "\"\"\"Testing code for is_palindrome\"\"\"\n",
    "\n",
    "assert(is_palindrome([1, 2, 1])) == True\n",
    "assert(is_palindrome([1, 2, 3, 2, 1])) == True\n",
    "assert(is_palindrome([1, 2, 3, 4])) == False"
   ]
  },
  {
   "cell_type": "markdown",
   "metadata": {},
   "source": [
    "Q5"
   ]
  },
  {
   "cell_type": "code",
   "execution_count": 9,
   "metadata": {},
   "outputs": [],
   "source": [
    "def compress(l):\n",
    "    \"\"\"\n",
    "    Returns a list with consecutive duplicate elements replaced by a single element\n",
    "    \"\"\"\n",
    "    l2 = []\n",
    "    \n",
    "    for i in range(len(l)-1):\n",
    "        if l[i] != l[i+1]:\n",
    "            l2.append(l[i])\n",
    "    \n",
    "    l2.append(l[-1])\n",
    "    \n",
    "    return l2  "
   ]
  },
  {
   "cell_type": "code",
   "execution_count": 10,
   "metadata": {},
   "outputs": [],
   "source": [
    "\"\"\"Testing code for compress\"\"\"\n",
    "assert(compress([1, 2, 2])) == [1, 2]\n",
    "assert(compress([1, 2, 2, 2, 1, 1, 3, 'x', 'x', 'x'])) == [1, 2, 1, 3, 'x']"
   ]
  },
  {
   "cell_type": "markdown",
   "metadata": {},
   "source": [
    "Q6"
   ]
  },
  {
   "cell_type": "code",
   "execution_count": 11,
   "metadata": {},
   "outputs": [],
   "source": [
    "from itertools import groupby\n",
    "\n",
    "def pack(l):\n",
    "    \"\"\"\n",
    "    Returns a list with consecutive duplicate elements packed into sublists\n",
    "    \"\"\"\n",
    "    l2 = []\n",
    "    for val,group in groupby(l):\n",
    "        l2.append(list(group))\n",
    "    return l2"
   ]
  },
  {
   "cell_type": "code",
   "execution_count": 12,
   "metadata": {},
   "outputs": [],
   "source": [
    "\"\"\"Testing code for pack\"\"\"\n",
    "assert(pack([1, 1, 1, 2]) == [[1, 1, 1], [2]])\n",
    "assert(pack([1, 1, 1, 2, 1, 1, 3, 3, 3])) == [[1, 1, 1], [2], [1, 1], [3, 3, 3]]"
   ]
  },
  {
   "cell_type": "markdown",
   "metadata": {},
   "source": [
    "Q7"
   ]
  },
  {
   "cell_type": "code",
   "execution_count": 13,
   "metadata": {},
   "outputs": [],
   "source": [
    "def slice(l, i, k):\n",
    "    \"\"\"\n",
    "    Returns a list containing the elements between i'th and k'th elements of original list l.\n",
    "    \"\"\"  \n",
    "    return l[i:k]\n",
    "     "
   ]
  },
  {
   "cell_type": "code",
   "execution_count": 14,
   "metadata": {},
   "outputs": [],
   "source": [
    "\"\"\"Testing code for slice\"\"\"\n",
    "assert(slice([1, 3, 8, 9, 7], 1, 3)) == [3,8]\n",
    "assert(slice([1, 4, 6, 'x', 9, 0], 2, 10)) == [6, 'x', 9, 0]"
   ]
  },
  {
   "cell_type": "markdown",
   "metadata": {},
   "source": [
    "Q8"
   ]
  },
  {
   "cell_type": "code",
   "execution_count": 15,
   "metadata": {},
   "outputs": [],
   "source": [
    "def insert_element(l, i, elem):\n",
    "    \"\"\"\n",
    "    Returns a new list containing elem at index i. If i > len (l), insert element at the end of the list\n",
    "    \"\"\"     \n",
    "    l.insert(i,elem)\n",
    "    return l"
   ]
  },
  {
   "cell_type": "code",
   "execution_count": 16,
   "metadata": {},
   "outputs": [],
   "source": [
    "\"\"\"Testing code for insert_element\"\"\"\n",
    "assert(insert_element([1, 2, 3, 4], 2, 5)[2]) == 5\n",
    "assert(insert_element([1, 5], 7, 5)) == [1, 5, 5]"
   ]
  }
 ],
 "metadata": {
  "kernelspec": {
   "display_name": "Python 3",
   "language": "python",
   "name": "python3"
  },
  "language_info": {
   "codemirror_mode": {
    "name": "ipython",
    "version": 3
   },
   "file_extension": ".py",
   "mimetype": "text/x-python",
   "name": "python",
   "nbconvert_exporter": "python",
   "pygments_lexer": "ipython3",
   "version": "3.8.5"
  }
 },
 "nbformat": 4,
 "nbformat_minor": 4
}
