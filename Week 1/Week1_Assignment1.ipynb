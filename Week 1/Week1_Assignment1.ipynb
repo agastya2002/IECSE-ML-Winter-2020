{
  "nbformat": 4,
  "nbformat_minor": 0,
  "metadata": {
    "colab": {
      "name": "Week1_Assignment1.ipynb",
      "provenance": []
    },
    "kernelspec": {
      "name": "python3",
      "display_name": "Python 3"
    }
  },
  "cells": [
    {
      "cell_type": "code",
      "metadata": {
        "id": "6Gsa_Wn1qHf5"
      },
      "source": [
        "def last_element(l):\r\n",
        "    \"\"\"\r\n",
        "    Returns last element of list l\r\n",
        "    \"\"\"\r\n",
        "    l = l[-1:]\r\n",
        "    return l[0]\r\n",
        "\r\n",
        "assert last_element([1]) == 1\r\n",
        "assert last_element([\"Hello\", \"World\"]) == \"World\""
      ],
      "execution_count": 1,
      "outputs": []
    },
    {
      "cell_type": "code",
      "metadata": {
        "id": "-6JdDjv0yaDH"
      },
      "source": [
        "def num_elements(l):\r\n",
        "    \"\"\"\r\n",
        "    Returns number of elements in the list l\r\n",
        "    \"\"\"\r\n",
        "    return len(l)\r\n",
        "\r\n",
        "assert num_elements([2, 3, 4])==3"
      ],
      "execution_count": 2,
      "outputs": []
    },
    {
      "cell_type": "code",
      "metadata": {
        "id": "jfYweojg0o_s"
      },
      "source": [
        "def reverse_list(l):\r\n",
        "    \"\"\"\r\n",
        "    Returns the reverse of a list l\r\n",
        "    \"\"\"\r\n",
        "    return l[::-1]\r\n",
        "\r\n",
        "assert reverse_list([2, 3, 4])== [4, 3, 2]"
      ],
      "execution_count": 3,
      "outputs": []
    },
    {
      "cell_type": "code",
      "metadata": {
        "id": "PtEZnTnx4ZqO"
      },
      "source": [
        "def is_palindrome(l):\r\n",
        "    \"\"\"\r\n",
        "    Returns True if l is a palindrome, False otherwise\r\n",
        "    \"\"\"\r\n",
        "    rev = l[::-1]\r\n",
        "    i = 0\r\n",
        "    while i < len(l) :\r\n",
        "      if l[i] is not rev[i]:\r\n",
        "        return False\r\n",
        "      i = i+1\r\n",
        "    return True\r\n",
        "assert (is_palindrome([1, 2, 1])) == True\r\n",
        "assert (is_palindrome([1, 2, 3, 2, 1])) == True\r\n",
        "assert (is_palindrome([1, 2, 3, 4])) == False"
      ],
      "execution_count": 4,
      "outputs": []
    },
    {
      "cell_type": "code",
      "metadata": {
        "id": "TR__nrd95QPY"
      },
      "source": [
        "def compress(l):\r\n",
        "    \"\"\"\r\n",
        "    Returns a list with consecutive duplicate elements replaced by a single element\r\n",
        "    \"\"\"\r\n",
        "    l2 = [l[0]]\r\n",
        "    i = 1\r\n",
        "    while i < len(l):\r\n",
        "      if l[i] != l[i-1]:\r\n",
        "        l2.append(l[i])\r\n",
        "      i = i + 1\r\n",
        "    return l2\r\n",
        "\r\n",
        "assert (compress([1, 2, 2])) == [1, 2]\r\n",
        "assert (compress([1, 2, 2, 2, 1, 1, 3, 'x', 'x', 'x'])) == [1, 2, 1, 3, 'x']"
      ],
      "execution_count": 9,
      "outputs": []
    },
    {
      "cell_type": "code",
      "metadata": {
        "id": "9KwP_2499DHC"
      },
      "source": [
        "def pack(l):\r\n",
        "    \"\"\"\r\n",
        "    Returns a list with consecutive duplicate elements packed into sublists\r\n",
        "    \"\"\"\r\n",
        "    l3 = []\r\n",
        "    l2 = [l[0]]\r\n",
        "    i = 1\r\n",
        "    while i < len(l):\r\n",
        "      if l[i]==l[i-1]:\r\n",
        "        l2.append(l[i])\r\n",
        "      else:\r\n",
        "        l3.append(l2)\r\n",
        "        l2 = [l[i]]\r\n",
        "      i = i + 1\r\n",
        "    l3.append(l2)\r\n",
        "    return l3\r\n",
        "  \r\n",
        "assert (pack([1, 1, 1, 2]) == [[1, 1, 1], [2]])\r\n",
        "assert (pack([1, 1, 1, 2, 1, 1, 3, 3, 3])) == [[1, 1, 1], [2], [1, 1], [3, 3, 3]]"
      ],
      "execution_count": 6,
      "outputs": []
    },
    {
      "cell_type": "code",
      "metadata": {
        "id": "Eco3OKQN-8hm"
      },
      "source": [
        "def slice(l, i, k):\r\n",
        "    \"\"\"\r\n",
        "    Returns a list containing the elements between i'th and k'th elements of original list l.\r\n",
        "    \"\"\"  \r\n",
        "    return l[i:k]\r\n",
        "\r\n",
        "assert (slice([1, 3, 8, 9, 7], 1, 3)) == [3,8]\r\n",
        "assert (slice([1, 4, 6, 'x', 9, 0], 2, 10)) == [6, 'x', 9, 0]"
      ],
      "execution_count": 7,
      "outputs": []
    },
    {
      "cell_type": "code",
      "metadata": {
        "id": "X5BUdwBz_7mL"
      },
      "source": [
        "def insert_element(l, i, elem):\r\n",
        "    \"\"\"\r\n",
        "    Returns a new list containing elem at index i. If i > len (l), insert element at the end of the list\r\n",
        "    \"\"\"      \r\n",
        "    l.insert(i,elem)\r\n",
        "    return l\r\n",
        "\r\n",
        "assert (insert_element([1, 2, 3, 4,], 2, 5)[2]) == 5\r\n",
        "assert (insert_element([1, 5, ], 3, 5)) == [1, 5, 5]"
      ],
      "execution_count": 8,
      "outputs": []
    }
  ]
}