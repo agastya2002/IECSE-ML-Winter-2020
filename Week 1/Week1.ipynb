{
  "nbformat": 4,
  "nbformat_minor": 0,
  "metadata": {
    "colab": {
      "name": "Week1.ipynb",
      "provenance": [],
      "collapsed_sections": []
    },
    "kernelspec": {
      "name": "python3",
      "display_name": "Python 3"
    }
  },
  "cells": [
    {
      "cell_type": "code",
      "metadata": {
        "id": "IUj9J11pq925"
      },
      "source": [
        "def last_element(l):\r\n",
        "    return (l[len(l)-1])\r\n",
        "\r\n",
        "assert last_element([1]) == 1\r\n",
        "\r\n",
        "assert last_element([\"Hello\", \"World\"]) == \"World\""
      ],
      "execution_count": null,
      "outputs": []
    },
    {
      "cell_type": "code",
      "metadata": {
        "id": "8SCN1mYrsIKR"
      },
      "source": [
        "def num_elements(l):\r\n",
        "  return (len(l))\r\n",
        "\r\n",
        "assert num_elements([2, 3, 4])==3"
      ],
      "execution_count": null,
      "outputs": []
    },
    {
      "cell_type": "code",
      "metadata": {
        "id": "pKkXXbUVsYU4"
      },
      "source": [
        "def reverse_list(l):\r\n",
        "  l.reverse()\r\n",
        "  return (l)\r\n",
        "\r\n",
        "assert reverse_list([2, 3, 4])== [4, 3, 2]"
      ],
      "execution_count": null,
      "outputs": []
    },
    {
      "cell_type": "code",
      "metadata": {
        "id": "2d4fHoudtnfV"
      },
      "source": [
        "def is_palindrome(arr):\r\n",
        "  for i in range(0, int(len(arr) / 2)):\r\n",
        "     if arr[i] != arr[len(arr)-1-i]:\r\n",
        "      return False\r\n",
        "      \r\n",
        "  return True\r\n",
        "\r\n",
        "assert(is_palindrome([1, 2, 1])) == True\r\n",
        "assert(is_palindrome([1, 2, 3, 2, 1])) == True\r\n",
        "assert(is_palindrome([1, 2, 3, 4])) == False\r\n"
      ],
      "execution_count": null,
      "outputs": []
    },
    {
      "cell_type": "code",
      "metadata": {
        "id": "Iku6IeXSvctp"
      },
      "source": [
        "def compress(l):\r\n",
        "  previous_value = None\r\n",
        "  newlist = []\r\n",
        "  for elem in l:\r\n",
        "   if elem != previous_value:\r\n",
        "       newlist.append(elem)\r\n",
        "       previous_value = elem\r\n",
        "  return newlist\r\n",
        "\r\n",
        "assert(compress([1, 2, 2])) == [1, 2]\r\n",
        "assert(compress([1, 2, 2, 2, 1, 1, 3, 'x', 'x', 'x'])) == [1, 2, 1, 3, 'x']"
      ],
      "execution_count": null,
      "outputs": []
    },
    {
      "cell_type": "code",
      "metadata": {
        "id": "JkfrSc6MviGY"
      },
      "source": [
        "def pack(l):\r\n",
        "  global list_sub\r\n",
        "  prev_ele= None\r\n",
        "  list_main=list()\r\n",
        "  for i in l:\r\n",
        "    if i!=prev_ele:\r\n",
        "      list_sub=list()\r\n",
        "      list_main.append(list_sub)\r\n",
        "      list_sub.append(i)\r\n",
        "      prev_ele=i\r\n",
        "    else:\r\n",
        "      list_sub.append(i)\r\n",
        "  return list_main\r\n",
        "  \r\n",
        "assert(pack([1, 1, 1, 2]) == [[1, 1, 1], [2]])\r\n",
        "assert(pack([1, 1, 1, 2, 1, 1, 3, 3, 3])) == [[1, 1, 1], [2], [1, 1], [3, 3, 3]]\r\n"
      ],
      "execution_count": null,
      "outputs": []
    },
    {
      "cell_type": "code",
      "metadata": {
        "id": "seEbJ6vxvq9D"
      },
      "source": [
        "def slice(l, i, k):\r\n",
        "  return (l[i:k])\r\n",
        "   \r\n",
        "assert (slice([1, 3, 8, 9, 7], 1, 3)) == [3,8]\r\n",
        "assert (slice([1, 4, 6, 'x', 9, 0], 2, 10)) == [6, 'x', 9, 0]"
      ],
      "execution_count": null,
      "outputs": []
    },
    {
      "cell_type": "code",
      "metadata": {
        "id": "oBuTpz0XQIZk"
      },
      "source": [
        "def insert_element(l,i,elem):\r\n",
        "  l.insert(i,elem)\r\n",
        "  return (l)\r\n",
        "\r\n",
        "assert(insert_element([1, 2, 3, 4,], 2, 5)[2]) == 5\r\n",
        "assert(insert_element([1, 5, ], 3, 5)) == [1, 5, 5]\r\n"
      ],
      "execution_count": null,
      "outputs": []
    },
    {
      "cell_type": "code",
      "metadata": {
        "id": "Tmo10-AlQJBo",
        "colab": {
          "base_uri": "https://localhost:8080/"
        },
        "outputId": "bb40e8b5-95ee-48e7-e49b-3d74055363b4"
      },
      "source": [
        "import numpy as np\r\n",
        "def gen_strides(a, stride_len, window_len):\r\n",
        "  array_2d = [[]]\r\n",
        "  for i in range (0,a.size,stride_len):\r\n",
        "      lst = a[i:window_len]\r\n",
        "      array_2d.append(lst)\r\n",
        "  return array_2d\r\n",
        "\r\n",
        "(np.all(gen_strides(np.array([1, 3, 7, 1, 2, 6, 0, 1]),2,4) == np.array([[1, 3, 7, 1], [7, 1, 2, 6], [2, 6, 0, 1]])))\r\n",
        "\r\n",
        "print(\"Sample Tests passed\", '\\U0001F44D')"
      ],
      "execution_count": 5,
      "outputs": [
        {
          "output_type": "stream",
          "text": [
            "Sample Tests passed 👍\n"
          ],
          "name": "stdout"
        },
        {
          "output_type": "stream",
          "text": [
            "/usr/local/lib/python3.6/dist-packages/ipykernel_launcher.py:9: VisibleDeprecationWarning: Creating an ndarray from ragged nested sequences (which is a list-or-tuple of lists-or-tuples-or ndarrays with different lengths or shapes) is deprecated. If you meant to do this, you must specify 'dtype=object' when creating the ndarray\n",
            "  if __name__ == '__main__':\n",
            "/usr/local/lib/python3.6/dist-packages/ipykernel_launcher.py:9: DeprecationWarning: elementwise comparison failed; this will raise an error in the future.\n",
            "  if __name__ == '__main__':\n"
          ],
          "name": "stderr"
        }
      ]
    },
    {
      "cell_type": "code",
      "metadata": {
        "id": "8CFhogsAR68a",
        "colab": {
          "base_uri": "https://localhost:8080/"
        },
        "outputId": "559a692b-36d1-454c-a2d1-ba3c73961ff2"
      },
      "source": [
        "import numpy as np\r\n",
        "def shuf(arr):\r\n",
        "  arr = arr.reshape((3, 3))\r\n",
        "  np.random.shuffle(arr)\r\n",
        "  return (arr)\r\n",
        "\r\n",
        "arr=np.array([[1, 2, 3],[4, 5, 6],[7, 8, 9]])\r\n",
        "assert np.any(shuf(np.array([[1, 2, 3],[4, 5, 6],[7, 8, 9]])) != np.array([[1, 2, 3], [4, 5, 6], [7, 8, 9]]))\r\n",
        "assert shuf(np.array([[1, 2, 3],[4, 5, 6],[7, 8, 9]])).shape == np.array([[1, 2, 3], [4, 5, 6], [7, 8, 9]]).shape\r\n",
        "\r\n",
        "print(\"Sample Tests passed\", '\\U0001F44D')"
      ],
      "execution_count": null,
      "outputs": [
        {
          "output_type": "stream",
          "text": [
            "Sample Tests passed 👍\n"
          ],
          "name": "stdout"
        }
      ]
    },
    {
      "cell_type": "code",
      "metadata": {
        "id": "HL_Gghq-R7Ji",
        "colab": {
          "base_uri": "https://localhost:8080/"
        },
        "outputId": "a0c7f8e5-0de5-4a64-d3a3-86bd7edbbb33"
      },
      "source": [
        "import numpy as np\r\n",
        "def match(a,b):\r\n",
        "  c=[x for x in range(len(a)) if a[x]==b[x]]\r\n",
        "  return c\r\n",
        "\r\n",
        "assert(match(np.array([1,2,3,2,3,4,3,4,5,6]),np.array([7,2,10,2,7,4,9,4,9,8])) == [1,3,5,7])\r\n",
        "print(\"Sample Tests passed\", '\\U0001F44D')"
      ],
      "execution_count": null,
      "outputs": [
        {
          "output_type": "stream",
          "text": [
            "Sample Tests passed 👍\n"
          ],
          "name": "stdout"
        }
      ]
    },
    {
      "cell_type": "code",
      "metadata": {
        "colab": {
          "base_uri": "https://localhost:8080/"
        },
        "id": "CLz_yRoAR7XP",
        "outputId": "bd9b7247-ae89-4aed-932b-81c5177c507c"
      },
      "source": [
        "import numpy as np\r\n",
        "def inv(arr):\r\n",
        "  return (np.linalg.inv(arr))   \r\n",
        "\r\n",
        "assert np.all(np.isclose(inv(np.array([[6, 1, 1], [4, -2, 5], [2, 8, 7]])).tolist(), np.array([[0.17647058823529413, -0.0032679738562091526, -0.02287581699346405],[0.05882352941176469, -0.130718954248366, 0.0849673202614379],[-0.1176470588235294, 0.1503267973856209, 0.0522875816993464]])))\r\n",
        "\r\n",
        "print(\"Sample Tests passed\", '\\U0001F44D')"
      ],
      "execution_count": null,
      "outputs": [
        {
          "output_type": "stream",
          "text": [
            "Sample Tests passed 👍\n"
          ],
          "name": "stdout"
        }
      ]
    },
    {
      "cell_type": "code",
      "metadata": {
        "colab": {
          "base_uri": "https://localhost:8080/"
        },
        "id": "R_MmXhodW4DZ",
        "outputId": "20551e79-8273-447b-e339-33e7f71ee719"
      },
      "source": [
        "import numpy as np\r\n",
        "def lin_eqn(a,b):\r\n",
        "  return (np.dot(np.linalg.inv(a),b))\r\n",
        "\r\n",
        "assert np.any(lin_eqn(np.array([[1, 2], [3, 4]]),np.array([8, 18])) == np.array([2., 3.]))\r\n",
        "\r\n",
        "print(\"Sample Tests passed\", '\\U0001F44D')"
      ],
      "execution_count": null,
      "outputs": [
        {
          "output_type": "stream",
          "text": [
            "Sample Tests passed 👍\n"
          ],
          "name": "stdout"
        }
      ]
    },
    {
      "cell_type": "code",
      "metadata": {
        "id": "CHwCl_mk6yyn",
        "colab": {
          "base_uri": "https://localhost:8080/"
        },
        "outputId": "576569c0-7651-4475-d395-380cf72f6723"
      },
      "source": [
        "import numpy as np\r\n",
        "def rankArray(arr):\r\n",
        "  b=arr.flatten()\r\n",
        "  sort_arr = np.sort(b)\r\n",
        "  for ele in b:\r\n",
        "    for i in range(len(b)):\r\n",
        "      if sort_arr[i]==ele:\r\n",
        "        ele=i\r\n",
        "\r\n",
        "  return arr\r\n",
        "\r\n",
        "np.all(rankArray(np.array([[9, 4, 15, 0, 17], [16,17,8,9,0]])) == np.array([[4,2, 6, 0, 8], [7, 9, 3, 5, 1]]).tolist())\r\n",
        "print(\"Sample Tests passed\", '\\U0001F44D')\r\n",
        "\r\n",
        "\r\n",
        "rankArray(np.array([1,6,4,2]))\r\n"
      ],
      "execution_count": 6,
      "outputs": [
        {
          "output_type": "stream",
          "text": [
            "Sample Tests passed 👍\n"
          ],
          "name": "stdout"
        },
        {
          "output_type": "execute_result",
          "data": {
            "text/plain": [
              "array([1, 6, 4, 2])"
            ]
          },
          "metadata": {
            "tags": []
          },
          "execution_count": 6
        }
      ]
    },
    {
      "cell_type": "code",
      "metadata": {
        "id": "GoAJF6oMjFK-",
        "colab": {
          "base_uri": "https://localhost:8080/",
          "height": 337
        },
        "outputId": "3771e124-d94c-4c1f-c72a-8a7473c8bd44"
      },
      "source": [
        "import matplotlib.pyplot as plt\r\n",
        "\r\n",
        "plt.plot([1,2,3,4,5,6,7,8,9,10,11,12,13,14,15,16],[5,7,8,3,5,6,3,7,2,12,5,7,2,6,9,2],'r-')\r\n",
        "plt.xlabel('X Axis')\r\n",
        "plt.ylabel('Y Axis')\r\n",
        "plt.style.use('ggplot')\r\n",
        "plt.suptitle('Epic Info')\r\n",
        "plt.show()\r\n"
      ],
      "execution_count": null,
      "outputs": [
        {
          "output_type": "display_data",
          "data": {
            "image/png": "[encoded data removed]",
            "text/plain": [
              "<Figure size 460.8x316.8 with 1 Axes>"
            ]
          },
          "metadata": {
            "tags": []
          }
        }
      ]
    }
  ]
}