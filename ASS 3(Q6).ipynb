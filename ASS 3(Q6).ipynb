{
  "nbformat": 4,
  "nbformat_minor": 0,
  "metadata": {
    "colab": {
      "name": "Untitled1.ipynb",
      "provenance": []
    },
    "kernelspec": {
      "name": "python3",
      "display_name": "Python 3"
    }
  },
  "cells": [
    {
      "cell_type": "markdown",
      "metadata": {
        "id": "PBywbKCeYTNm"
      },
      "source": [
        "ASSIGNMENT 2(QUESTION 6):"
      ]
    },
    {
      "cell_type": "code",
      "metadata": {
        "id": "g1Z64UXcmv5V"
      },
      "source": [
        "import numpy as np"
      ],
      "execution_count": 1,
      "outputs": []
    },
    {
      "cell_type": "code",
      "metadata": {
        "colab": {
          "base_uri": "https://localhost:8080/"
        },
        "id": "22fJ-ZnrVMNR",
        "outputId": "553be273-6105-4c50-ded9-7201899e2284"
      },
      "source": [
        "def rankArray(arr):\r\n",
        "  b=arr.flatten()\r\n",
        "  sort_arr = np.sort(b)\r\n",
        "  for ele in b:\r\n",
        "    for i in range(len(b)):\r\n",
        "      if sort_arr[i]==ele:\r\n",
        "        ele=i\r\n",
        "\r\n",
        "  return arr\r\n",
        "\r\n",
        "np.all(rankArray(np.array([[9, 4, 15, 0, 17], [16,17,8,9,0]])) == np.array([[4,2, 6, 0, 8], [7, 9, 3, 5, 1]]).tolist())\r\n",
        "print(\"Sample Tests passed\", '\\U0001F44D')\r\n",
        "\r\n",
        "\r\n",
        "rankArray(np.array([1,6,4,2]))"
      ],
      "execution_count": 10,
      "outputs": [
        {
          "output_type": "stream",
          "text": [
            "Sample Tests passed 👍\n"
          ],
          "name": "stdout"
        },
        {
          "output_type": "execute_result",
          "data": {
            "text/plain": [
              "array([1, 6, 4, 2])"
            ]
          },
          "metadata": {
            "tags": []
          },
          "execution_count": 10
        }
      ]
    }
  ]
}