{
 "cells": [
  {
   "cell_type": "code",
   "execution_count": 1,
   "metadata": {},
   "outputs": [
    {
     "name": "stdout",
     "output_type": "stream",
     "text": [
      "4\n"
     ]
    }
   ],
   "source": [
    "#1\n",
    "def last_element(l):\n",
    "    # YOUR CODE HERE\n",
    "    return l[-1]\n",
    "\n",
    "print(last_element([1,2,3,4]))\n",
    "\n",
    "assert last_element([1]) == 1\n",
    "assert last_element([\"Hello\", \"World\"]) == \"World\""
   ]
  },
  {
   "cell_type": "code",
   "execution_count": 2,
   "metadata": {},
   "outputs": [
    {
     "name": "stdout",
     "output_type": "stream",
     "text": [
      "4\n"
     ]
    }
   ],
   "source": [
    "#2\n",
    "def num_elements(l):\n",
    "    # YOUR CODE HERE\n",
    "    return len(l)\n",
    "\n",
    "print(num_elements([1,2,3,4]))\n",
    "\n",
    "assert num_elements([2,3,4]) == 3"
   ]
  },
  {
   "cell_type": "code",
   "execution_count": 16,
   "metadata": {},
   "outputs": [
    {
     "name": "stdout",
     "output_type": "stream",
     "text": [
      "[4, 3, 2, 1]\n"
     ]
    }
   ],
   "source": [
    "#3\n",
    "def reverse_list(l):\n",
    "    # YOUR CODE HERE\n",
    "    r = l\n",
    "    r.reverse()\n",
    "    return r\n",
    "\n",
    "print(reverse_list([1,2,3,4]))\n",
    "\n",
    "assert reverse_list([2, 3, 4])== [4, 3, 2]"
   ]
  },
  {
   "cell_type": "code",
   "execution_count": 30,
   "metadata": {},
   "outputs": [
    {
     "name": "stdout",
     "output_type": "stream",
     "text": [
      "False\n"
     ]
    }
   ],
   "source": [
    "#4\n",
    "def is_palindrome(l):\n",
    "    # YOUR CODE HERE\n",
    "    return (l[::-1] == l)\n",
    "\n",
    "print(is_palindrome([1,2,3,4]))\n",
    "\n",
    "assert(is_palindrome([1, 2, 1])) == True\n",
    "assert(is_palindrome([1, 2, 3, 2, 1])) == True\n",
    "assert(is_palindrome([1, 2, 3, 4])) == False"
   ]
  },
  {
   "cell_type": "code",
   "execution_count": 31,
   "metadata": {},
   "outputs": [],
   "source": [
    "#5\n",
    "def compress(l):\n",
    "    # YOUR CODE HERE\n",
    "    compressed =[]\n",
    "    for i in range(len(l)-1,0,-1):\n",
    "        if l[i] != l[i-1]:\n",
    "            compressed.insert(0,l[i])\n",
    "    compressed.insert(0,l[0])\n",
    "    return compressed\n",
    "\n",
    "assert(compress([1, 2, 2])) == [1, 2]\n",
    "assert(compress([1, 2, 2, 2, 1, 1, 3, 'x', 'x', 'x'])) == [1, 2, 1, 3, 'x']"
   ]
  },
  {
   "cell_type": "code",
   "execution_count": 33,
   "metadata": {},
   "outputs": [],
   "source": [
    "#6\n",
    "from itertools import groupby\n",
    "def pack(l):\n",
    "    # YOUR CODE HERE\n",
    "    out = []\n",
    "    for key, grp in groupby(l):\n",
    "        out.append(list(grp))\n",
    "    return out\n",
    "\n",
    "assert(pack([1, 1, 1, 2]) == [[1, 1, 1], [2]])\n",
    "assert(pack([1, 1, 1, 2, 1, 1, 3, 3, 3])) == [[1, 1, 1], [2], [1, 1], [3, 3, 3]]"
   ]
  },
  {
   "cell_type": "code",
   "execution_count": 34,
   "metadata": {},
   "outputs": [],
   "source": [
    "#7\n",
    "def slice(l, i, k):\n",
    "    # YOUR CODE HERE\n",
    "    return(l[i:k])\n",
    "\n",
    "assert(slice([1, 3, 8, 9, 7], 1, 3)) == [3,8]\n",
    "assert(slice([1, 4, 6, 'x', 9, 0], 2, 10)) == [6, 'x', 9, 0]"
   ]
  },
  {
   "cell_type": "code",
   "execution_count": 39,
   "metadata": {},
   "outputs": [],
   "source": [
    "#8\n",
    "def insert_element(l, i, elem):    \n",
    "    # YOUR CODE HERE\n",
    "    l.insert(i,elem)\n",
    "    return l\n",
    "\n",
    "assert(insert_element([1, 2, 3, 4,], 2, 5)[2]) == 5\n",
    "assert(insert_element([1, 5, ], 3, 5)) == [1, 5, 5]\n"
   ]
  },
  {
   "cell_type": "code",
   "execution_count": null,
   "metadata": {},
   "outputs": [],
   "source": []
  },
  {
   "cell_type": "code",
   "execution_count": null,
   "metadata": {},
   "outputs": [],
   "source": []
  }
 ],
 "metadata": {
  "kernelspec": {
   "display_name": "Python 3",
   "language": "python",
   "name": "python3"
  },
  "language_info": {
   "codemirror_mode": {
    "name": "ipython",
    "version": 3
   },
   "file_extension": ".py",
   "mimetype": "text/x-python",
   "name": "python",
   "nbconvert_exporter": "python",
   "pygments_lexer": "ipython3",
   "version": "3.9.0"
  }
 },
 "nbformat": 4,
 "nbformat_minor": 4
}
