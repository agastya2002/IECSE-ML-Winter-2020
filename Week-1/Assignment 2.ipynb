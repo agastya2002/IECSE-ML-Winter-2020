{
 "cells": [
  {
   "cell_type": "code",
   "execution_count": 9,
   "metadata": {},
   "outputs": [
    {
     "name": "stdout",
     "output_type": "stream",
     "text": [
      "Sample Tests passed 👍\n"
     ]
    }
   ],
   "source": [
    "#widows and strides\n",
    "import numpy as np\n",
    "def gen_strides(a, stride_len, window_len):\n",
    "    '''\n",
    "    Input:\n",
    "      a: Numpy array of 1 dimension\n",
    "      stride_len: int, stride length\n",
    "      window_len : int, window length\n",
    "    \n",
    "    Output:\n",
    "      Numpy array of 2 dimensions containing windowed strides as explained above\n",
    "    '''\n",
    "    # YOUR CODE HERE\n",
    "    lst = []\n",
    "    for i in range(0,len(a)-window_len + 1,2):\n",
    "        lst.append(a[i:i+window_len])\n",
    "    out = np.array(lst)\n",
    "    return out\n",
    "\n",
    "assert (np.all(gen_strides(np.array([1, 3, 7, 1, 2, 6, 0, 1]),2,4) == np.array([[1, 3, 7, 1], [7, 1, 2, 6], [2, 6, 0, 1]])))\n",
    "\n",
    "print(\"Sample Tests passed\", '\\U0001F44D')"
   ]
  },
  {
   "cell_type": "code",
   "execution_count": 14,
   "metadata": {},
   "outputs": [
    {
     "name": "stdout",
     "output_type": "stream",
     "text": [
      "Sample Tests passed 👍\n"
     ]
    }
   ],
   "source": [
    "#shuffle\n",
    "from random import shuffle\n",
    "def shuf(arr):\n",
    "    # YOUR CODE HERE\n",
    "    shuffle(arr)\n",
    "    return arr\n",
    "\n",
    "arr=np.array([[1, 2, 3],[4, 5, 6],[7, 8, 9]])\n",
    "assert np.any(shuf(np.array([[1, 2, 3],[4, 5, 6],[7, 8, 9]])) != np.array([[1, 2, 3], [4, 5, 6], [7, 8, 9]]))\n",
    "assert shuf(np.array([[1, 2, 3],[4, 5, 6],[7, 8, 9]])).shape == np.array([[1, 2, 3], [4, 5, 6], [7, 8, 9]]).shape\n",
    "\n",
    "print(\"Sample Tests passed\", '\\U0001F44D')"
   ]
  },
  {
   "cell_type": "code",
   "execution_count": 16,
   "metadata": {},
   "outputs": [
    {
     "name": "stdout",
     "output_type": "stream",
     "text": [
      "Sample Tests passed 👍\n"
     ]
    }
   ],
   "source": [
    "#match\n",
    "def match(a,b):\n",
    "    # YOUR CODE HERE\n",
    "    lst = []\n",
    "    for i in range(len(a)):\n",
    "        if (a[i]==b[i]):\n",
    "            lst.append(i)\n",
    "    return lst\n",
    "\n",
    "assert(match(np.array([1,2,3,2,3,4,3,4,5,6]),np.array([7,2,10,2,7,4,9,4,9,8])) == [1,3,5,7])\n",
    "print(\"Sample Tests passed\", '\\U0001F44D')"
   ]
  },
  {
   "cell_type": "code",
   "execution_count": 19,
   "metadata": {},
   "outputs": [
    {
     "name": "stdout",
     "output_type": "stream",
     "text": [
      "Sample Tests passed 👍\n"
     ]
    }
   ],
   "source": [
    "#inverse of an array\n",
    "def inv(arr):\n",
    "    # YOUR CODE HERE\n",
    "    return np.linalg.inv(arr)\n",
    "\n",
    "assert np.all(np.isclose(inv(np.array([[6, 1, 1], [4, -2, 5], [2, 8, 7]])).tolist(), np.array([[0.17647058823529413, -0.0032679738562091526, -0.02287581699346405],[0.05882352941176469, -0.130718954248366, 0.0849673202614379],[-0.1176470588235294, 0.1503267973856209, 0.0522875816993464]])))\n",
    "\n",
    "print(\"Sample Tests passed\", '\\U0001F44D')"
   ]
  },
  {
   "cell_type": "code",
   "execution_count": 23,
   "metadata": {},
   "outputs": [
    {
     "name": "stdout",
     "output_type": "stream",
     "text": [
      "[2 3]\n",
      "Sample Tests passed 👍\n"
     ]
    }
   ],
   "source": [
    "#linear equations\n",
    "def lin_eqn(a,b):\n",
    "    # YOUR CODE HERE\n",
    "    out = np.array(np.dot(np.linalg.inv(a),b),dtype=np.int64)\n",
    "    return out\n",
    "\n",
    "x=lin_eqn(np.array([[1.0, 2.0], [3, 4]]),np.array([8.0,  18.0]))\n",
    "print(x)\n",
    "\n",
    "assert np.any(lin_eqn(np.array([[1, 2], [3, 4]]),np.array([8, 18])) == np.array([2., 3.]))\n",
    "\n",
    "print(\"Sample Tests passed\", '\\U0001F44D')  "
   ]
  },
  {
   "cell_type": "code",
   "execution_count": 51,
   "metadata": {},
   "outputs": [
    {
     "name": "stdout",
     "output_type": "stream",
     "text": [
      "[[4, 2, 6, 0, 8], [7, 9, 3, 5, 1]]\n",
      "Sample Tests passed 👍\n"
     ]
    }
   ],
   "source": [
    "#rankArray\n",
    "def rankArray(arr):\n",
    "    '''\n",
    "    Input:\n",
    "        arr: Numpy array of arbitrary dimensions \n",
    "    Output:\n",
    "        numpy array of same shape as arr but with elements replaced by their ranks\n",
    "    '''\n",
    "    # YOUR CODE HERE\n",
    "    lst1 = np.array(arr).tolist()\n",
    "    lst2 = []\n",
    "    lst3 = []\n",
    "    for i in range(len(lst1)):\n",
    "        lst2.extend(lst1[i])\n",
    "    for i in range(len(lst2)):\n",
    "        lst3.append([lst2[i],i])\n",
    "    del lst1, lst2\n",
    "    lst = list(lst3)\n",
    "    lst3.sort()\n",
    "    out = []\n",
    "    for i in range(len(lst3)):\n",
    "        out.append(lst3.index(lst[i]))\n",
    "    rankarr = np.array(out)\n",
    "    row,col = arr.shape\n",
    "    rank_arr = rankarr.reshape((row,col))\n",
    "    del lst, lst3, row, col, rankarr\n",
    "    return rank_arr\n",
    "\n",
    "print(rankArray(np.array([[9, 4, 15, 0, 17], [16,17,8,9,0]])).tolist())\n",
    "\n",
    "assert np.all(rankArray(np.array([[9, 4, 15, 0, 17], [16,17,8,9,0]])) == np.array([[4,2, 6, 0, 8], [7, 9, 3, 5, 1]]).tolist())\n",
    "print(\"Sample Tests passed\", '\\U0001F44D')"
   ]
  },
  {
   "cell_type": "code",
   "execution_count": null,
   "metadata": {},
   "outputs": [],
   "source": []
  }
 ],
 "metadata": {
  "kernelspec": {
   "display_name": "Python 3",
   "language": "python",
   "name": "python3"
  },
  "language_info": {
   "codemirror_mode": {
    "name": "ipython",
    "version": 3
   },
   "file_extension": ".py",
   "mimetype": "text/x-python",
   "name": "python",
   "nbconvert_exporter": "python",
   "pygments_lexer": "ipython3",
   "version": "3.9.0"
  }
 },
 "nbformat": 4,
 "nbformat_minor": 4
}
