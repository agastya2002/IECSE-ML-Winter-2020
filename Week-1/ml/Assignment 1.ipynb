{
 "cells": [
  {
   "cell_type": "code",
   "execution_count": 9,
   "metadata": {},
   "outputs": [
    {
     "name": "stdout",
     "output_type": "stream",
     "text": [
      "The last element is: World\n"
     ]
    }
   ],
   "source": [
    "list_1 = [\"Hello\",\"World\"]\n",
    "\n",
    "def last_elements(l):\n",
    "    for i in range(0,len(l)):\n",
    "        if i == (len(l)-1):\n",
    "            return l[i]\n",
    "print(\"The last element is:\",last_elements(list_1))\n"
   ]
  },
  {
   "cell_type": "code",
   "execution_count": 12,
   "metadata": {},
   "outputs": [
    {
     "name": "stdout",
     "output_type": "stream",
     "text": [
      "Number of elements in the list:  3\n"
     ]
    }
   ],
   "source": [
    "list_2 = [2,3,4]\n",
    "\n",
    "def num_elements(list):\n",
    "    count = 0\n",
    "    for element in list:\n",
    "        count += 1\n",
    "    return count\n",
    "\n",
    "print(\"Number of elements in the list: \", num_elements(list_2))"
   ]
  },
  {
   "cell_type": "code",
   "execution_count": 13,
   "metadata": {},
   "outputs": [
    {
     "name": "stdout",
     "output_type": "stream",
     "text": [
      "The reversed list is [4, 3, 2]\n"
     ]
    }
   ],
   "source": [
    "list_3 = [2,3,4]\n",
    "\n",
    "def reverse_list(l):\n",
    "    a = l[::-1]\n",
    "    return a\n",
    "\n",
    "print(\"The reversed list is\",reverse_list(list_3))\n",
    "    "
   ]
  },
  {
   "cell_type": "code",
   "execution_count": 17,
   "metadata": {},
   "outputs": [
    {
     "name": "stdout",
     "output_type": "stream",
     "text": [
      "False\n",
      "None\n",
      "True\n",
      "None\n"
     ]
    }
   ],
   "source": [
    "def is_palindrome(l):\n",
    "    a = l[::-1]\n",
    "    if a==l:\n",
    "        print(\"True\")\n",
    "    else:\n",
    "        print(\"False\")\n",
    "        \n",
    "l=[1,2,3,4]\n",
    "m=[1,2,1]\n",
    "print(is_palindrome(l))\n",
    "print(is_palindrome(m))"
   ]
  },
  {
   "cell_type": "code",
   "execution_count": 2,
   "metadata": {},
   "outputs": [
    {
     "name": "stdout",
     "output_type": "stream",
     "text": [
      "[1, 2, 1, 3, 'x']\n"
     ]
    }
   ],
   "source": [
    "list_4 = [1,2,2,2,1,1,3,'x','x','x']\n",
    "temp_list = []\n",
    "\n",
    "\n",
    "for item in list_4:   \n",
    "   if len(temp_list) == 0:\n",
    "      temp_list.append(item)\n",
    "\n",
    "   elif len(temp_list) > 0:\n",
    "      if  temp_list[-1] != item:\n",
    "          temp_list.append(item)\n",
    "\n",
    "print(temp_list)"
   ]
  },
  {
   "cell_type": "code",
   "execution_count": 5,
   "metadata": {},
   "outputs": [
    {
     "name": "stdout",
     "output_type": "stream",
     "text": [
      "[[1, 1, 1], [2, 2], [3, 3, 3]]\n"
     ]
    }
   ],
   "source": [
    "def pack(l):\n",
    "    a = []\n",
    "    c = []\n",
    "    for i in l:\n",
    "        b = []\n",
    "        b.append(i)\n",
    "        a.append(b*(l.count(i)))\n",
    "    for i in a:\n",
    "        if i in c:\n",
    "            continue\n",
    "        else:\n",
    "            c.append(i)\n",
    "    print(c)\n",
    "    \n",
    "pack([1,1,1,2,2,3,3,3])"
   ]
  },
  {
   "cell_type": "code",
   "execution_count": 8,
   "metadata": {},
   "outputs": [
    {
     "name": "stdout",
     "output_type": "stream",
     "text": [
      "[1, 2, 3, 5, 4]\n"
     ]
    }
   ],
   "source": [
    "l = [1,2,3,4]\n",
    "l.insert(3,5)\n",
    "print(l)"
   ]
  },
  {
   "cell_type": "code",
   "execution_count": 9,
   "metadata": {},
   "outputs": [
    {
     "name": "stdout",
     "output_type": "stream",
     "text": [
      "[3, 8]\n"
     ]
    }
   ],
   "source": [
    "def slice(l,m,n):\n",
    "    print(l[m:n])\n",
    "\n",
    "slice([1,3,8,9,7],1,3)"
   ]
  },
  {
   "cell_type": "code",
   "execution_count": null,
   "metadata": {},
   "outputs": [],
   "source": []
  }
 ],
 "metadata": {
  "kernelspec": {
   "display_name": "Python 3",
   "language": "python",
   "name": "python3"
  },
  "language_info": {
   "codemirror_mode": {
    "name": "ipython",
    "version": 3
   },
   "file_extension": ".py",
   "mimetype": "text/x-python",
   "name": "python",
   "nbconvert_exporter": "python",
   "pygments_lexer": "ipython3",
   "version": "3.9.0"
  }
 },
 "nbformat": 4,
 "nbformat_minor": 4
}
