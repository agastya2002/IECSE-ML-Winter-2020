{
 "cells": [
  {
   "cell_type": "code",
   "execution_count": 12,
   "id": "stupid-edward",
   "metadata": {},
   "outputs": [
    {
     "name": "stdout",
     "output_type": "stream",
     "text": [
      "[4]\n"
     ]
    }
   ],
   "source": [
    "def last_element(l):\n",
    "    print(l[-1:])\n",
    "    \n",
    "last_element([1,2,3,4])"
   ]
  },
  {
   "cell_type": "code",
   "execution_count": 11,
   "id": "above-belgium",
   "metadata": {},
   "outputs": [
    {
     "name": "stdout",
     "output_type": "stream",
     "text": [
      "4\n"
     ]
    }
   ],
   "source": [
    "def num_elements(l):\n",
    "    c=0\n",
    "    for x in l:\n",
    "        c=c+1\n",
    "    print(c)\n",
    "\n",
    "num_elements([1,2,3,4])"
   ]
  },
  {
   "cell_type": "code",
   "execution_count": 13,
   "id": "worldwide-former",
   "metadata": {},
   "outputs": [
    {
     "name": "stdout",
     "output_type": "stream",
     "text": [
      "[4, 3, 2, 1]\n"
     ]
    }
   ],
   "source": [
    "def reverse_list(l):\n",
    "    l.reverse()\n",
    "    print(l)\n",
    "\n",
    "reverse_list([1,2,3,4])"
   ]
  },
  {
   "cell_type": "code",
   "execution_count": 26,
   "id": "quiet-courage",
   "metadata": {},
   "outputs": [
    {
     "name": "stdout",
     "output_type": "stream",
     "text": [
      "Input:[1,2,1]\n",
      "[1,2,1]\n",
      "No\n"
     ]
    }
   ],
   "source": [
    "s = input(\"Input:\")\n",
    "def isPalindrome(s):\n",
    "    print(s)\n",
    "    return s == s[::-1]\n",
    "\n",
    " \n",
    "ans = isPalindrome(s)\n",
    " \n",
    "if ans:\n",
    "    print(\"Yes\")\n",
    "else:\n",
    "    print(\"No\")"
   ]
  },
  {
   "cell_type": "code",
   "execution_count": 35,
   "id": "bacterial-bidding",
   "metadata": {},
   "outputs": [
    {
     "name": "stdout",
     "output_type": "stream",
     "text": [
      "[1, 2, 3, 4]\n"
     ]
    }
   ],
   "source": [
    "def compress(l):\n",
    "    newlist=[]\n",
    "    x=0\n",
    "    c=0\n",
    "    while x<(len(l)-1):\n",
    "        if(l[x]!=l[x+1]):\n",
    "            newlist.insert(c,l[x])\n",
    "            c=c+1\n",
    "        x=x+1\n",
    "    newlist.insert(c,l[x])\n",
    "    print(newlist)\n",
    "\n",
    "compress([1,1,2,3,4])"
   ]
  },
  {
   "cell_type": "code",
   "execution_count": 37,
   "id": "connected-syndication",
   "metadata": {},
   "outputs": [
    {
     "name": "stdout",
     "output_type": "stream",
     "text": [
      "[[1, 1, 1], [2, 2], [3, 3]]\n"
     ]
    }
   ],
   "source": [
    "def pack(l):\n",
    "    a=[]\n",
    "    b=[]\n",
    "    f=l[0]\n",
    "    i=0\n",
    "    c=0\n",
    "    j=0\n",
    "    while i<(len(l)-1):\n",
    "        if(f==l[i]):\n",
    "            a.insert(c,l[i])\n",
    "            c=c+1\n",
    "            i=i+1\n",
    "        else:\n",
    "            b.insert(j,a)\n",
    "            a=[]\n",
    "            f=l[i]\n",
    "            c=0\n",
    "            j=j+1\n",
    "    print(b)\n",
    "\n",
    "pack([1,1,1,2,2,3,3,4,4])"
   ]
  },
  {
   "cell_type": "code",
   "execution_count": 44,
   "id": "saved-claim",
   "metadata": {
    "scrolled": false
   },
   "outputs": [
    {
     "name": "stdout",
     "output_type": "stream",
     "text": [
      "[1, 99, 3, 4]\n"
     ]
    }
   ],
   "source": [
    "def insert_element(l, i, elem):\n",
    "    a=[]\n",
    "    x=0\n",
    "    j=0\n",
    "    while x<(len(l)):\n",
    "        if(i==x):\n",
    "            a.insert(j,elem)\n",
    "        else:\n",
    "            a.insert(j,l[x])\n",
    "        j=j+1\n",
    "        x=x+1\n",
    "    print(a)\n",
    "\n",
    "insert_element([1,2,3,4], 1, 99)"
   ]
  }
 ],
 "metadata": {
  "kernelspec": {
   "display_name": "Python 3",
   "language": "python",
   "name": "python3"
  },
  "language_info": {
   "codemirror_mode": {
    "name": "ipython",
    "version": 3
   },
   "file_extension": ".py",
   "mimetype": "text/x-python",
   "name": "python",
   "nbconvert_exporter": "python",
   "pygments_lexer": "ipython3",
   "version": "3.7.9"
  }
 },
 "nbformat": 4,
 "nbformat_minor": 5
}
