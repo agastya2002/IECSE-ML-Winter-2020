{
  "nbformat": 4,
  "nbformat_minor": 0,
  "metadata": {
    "colab": {
      "name": "Untitled2.ipynb",
      "provenance": [],
      "collapsed_sections": []
    },
    "kernelspec": {
      "name": "python3",
      "display_name": "Python 3"
    }
  },
  "cells": [
    {
      "cell_type": "markdown",
      "metadata": {
        "id": "v8_KLeQlzB6Y"
      },
      "source": [
        "**Assignment 1 - Basic Python**"
      ]
    },
    {
      "cell_type": "code",
      "metadata": {
        "id": "B4Q9ytCWjq_d"
      },
      "source": [
        "\r\n",
        "def last_element(l):\r\n",
        "    \"\"\"\r\n",
        "    Returns last element of list l\r\n",
        "    \"\"\"\r\n",
        "    return l[-1]"
      ],
      "execution_count": 8,
      "outputs": []
    },
    {
      "cell_type": "code",
      "metadata": {
        "colab": {
          "base_uri": "https://localhost:8080/"
        },
        "id": "1sF_DW6sno-g",
        "outputId": "54206634-7e5e-4c7a-f58e-ea49193e2973"
      },
      "source": [
        "last_element([1, 2, 3, 4])"
      ],
      "execution_count": 9,
      "outputs": [
        {
          "output_type": "execute_result",
          "data": {
            "text/plain": [
              "4"
            ]
          },
          "metadata": {
            "tags": []
          },
          "execution_count": 9
        }
      ]
    },
    {
      "cell_type": "code",
      "metadata": {
        "id": "RLOgOhILn4yN"
      },
      "source": [
        "\"\"\"Testing code for last_element\"\"\"\r\n",
        "assert last_element([1]) == 1\r\n",
        "assert last_element([\"Hello\", \"World\"]) == \"World\""
      ],
      "execution_count": 11,
      "outputs": []
    },
    {
      "cell_type": "code",
      "metadata": {
        "colab": {
          "base_uri": "https://localhost:8080/"
        },
        "id": "q4iNZd_coNLw",
        "outputId": "29e716d0-452b-4a92-b643-7ca6ad0c0567"
      },
      "source": [
        "def num_elements(l):\r\n",
        "    \"\"\"\r\n",
        "    Returns number of elements in the list l\r\n",
        "    \"\"\"\r\n",
        "    print(len(l))  \r\n",
        "\r\n",
        "num_elements([2, 3, 4])\r\n"
      ],
      "execution_count": 14,
      "outputs": [
        {
          "output_type": "stream",
          "text": [
            "3\n"
          ],
          "name": "stdout"
        }
      ]
    },
    {
      "cell_type": "code",
      "metadata": {
        "id": "miqE_lPzprqx"
      },
      "source": [
        "def reverse_list(l):\r\n",
        "    \"\"\"\r\n",
        "    Returns the reverse of a list l\r\n",
        "    \"\"\"\r\n",
        "    print(l[::-1])"
      ],
      "execution_count": 28,
      "outputs": []
    },
    {
      "cell_type": "code",
      "metadata": {
        "colab": {
          "base_uri": "https://localhost:8080/"
        },
        "id": "jbGZ1bpgpseN",
        "outputId": "01cc824a-1f21-4da8-ebc7-c2d91cb0b270"
      },
      "source": [
        "reverse_list([2, 3, 4])"
      ],
      "execution_count": 29,
      "outputs": [
        {
          "output_type": "stream",
          "text": [
            "[4, 3, 2]\n"
          ],
          "name": "stdout"
        }
      ]
    },
    {
      "cell_type": "code",
      "metadata": {
        "colab": {
          "base_uri": "https://localhost:8080/"
        },
        "id": "GO14Q5xspsrb",
        "outputId": "9124509c-5ec3-4632-e53a-f92aadfbb1eb"
      },
      "source": [
        "def is_palindrome(l):\r\n",
        "    \"\"\"\r\n",
        "    Returns True if l is a palindrome, False otherwise\r\n",
        "    \"\"\"\r\n",
        "    return (l==l[::-1])\r\n",
        "\r\n",
        "is_palindrome([1, 2, 1])\r\n",
        "is_palindrome([1, 2, 3, 2, 1])\r\n",
        "is_palindrome([1, 2, 3, 4])"
      ],
      "execution_count": 34,
      "outputs": [
        {
          "output_type": "execute_result",
          "data": {
            "text/plain": [
              "True"
            ]
          },
          "metadata": {
            "tags": []
          },
          "execution_count": 34
        }
      ]
    },
    {
      "cell_type": "code",
      "metadata": {
        "id": "ypQlFHkLps1g"
      },
      "source": [
        "def compress(l):\r\n",
        "    \"\"\"\r\n",
        "    Returns a list with consecutive duplicate elements replaced by a single element\r\n",
        "    \"\"\"\r\n",
        "    i=0\r\n",
        "    while i<(len(l)-1):\r\n",
        "      if l[i]==l[i+1]:\r\n",
        "        del l[i]\r\n",
        "      else:\r\n",
        "        i=i+1\r\n",
        "    return l      \r\n"
      ],
      "execution_count": 35,
      "outputs": []
    },
    {
      "cell_type": "code",
      "metadata": {
        "colab": {
          "base_uri": "https://localhost:8080/"
        },
        "id": "OsIrHT7Bps9h",
        "outputId": "89476619-743f-440c-fdfa-a562ebaf60fb"
      },
      "source": [
        "compress([1, 2, 2])\r\n",
        "compress([1, 2, 2, 2, 1, 1, 3, 'x', 'x', 'x'])"
      ],
      "execution_count": 36,
      "outputs": [
        {
          "output_type": "execute_result",
          "data": {
            "text/plain": [
              "[1, 2, 1, 3, 'x']"
            ]
          },
          "metadata": {
            "tags": []
          },
          "execution_count": 36
        }
      ]
    },
    {
      "cell_type": "code",
      "metadata": {
        "id": "XVvzWD5kptAb"
      },
      "source": [
        "from itertools import groupby\r\n",
        "\r\n",
        "def pack(l):\r\n",
        "    \"\"\"\r\n",
        "    Returns a list with consecutive duplicate elements packed into sublists\r\n",
        "    \"\"\"\r\n",
        "    l2=[]\r\n",
        "    for a,b in groupby(l): \r\n",
        "        l2.append(list(b))\r\n",
        "    return l2\r\n"
      ],
      "execution_count": 37,
      "outputs": []
    },
    {
      "cell_type": "code",
      "metadata": {
        "colab": {
          "base_uri": "https://localhost:8080/"
        },
        "id": "Zi1WfDIiptDp",
        "outputId": "66fff03f-a9bd-4a88-9ddc-68d31800a84f"
      },
      "source": [
        "pack([1, 1, 1, 2])\r\n",
        "pack([1, 1, 1, 2, 1, 1, 3, 3, 3])"
      ],
      "execution_count": 40,
      "outputs": [
        {
          "output_type": "execute_result",
          "data": {
            "text/plain": [
              "[[1, 1, 1], [2], [1, 1], [3, 3, 3]]"
            ]
          },
          "metadata": {
            "tags": []
          },
          "execution_count": 40
        }
      ]
    },
    {
      "cell_type": "code",
      "metadata": {
        "id": "L3fTEhDkptGu"
      },
      "source": [
        "def slice(l, i, k):\r\n",
        "    \"\"\"\r\n",
        "    Returns a list containing the elements between i'th and k'th elements of original list l.\r\n",
        "    \"\"\"  \r\n",
        "    return l[i:k]"
      ],
      "execution_count": 43,
      "outputs": []
    },
    {
      "cell_type": "code",
      "metadata": {
        "colab": {
          "base_uri": "https://localhost:8080/"
        },
        "id": "w6tE5RzqptJk",
        "outputId": "56159f87-90a0-45f8-a0d2-aa0ee355286b"
      },
      "source": [
        "slice([1, 3, 8, 9, 7], 1, 3)\r\n",
        "slice([1, 4, 6, 'x', 9, 0], 2, 10)"
      ],
      "execution_count": 44,
      "outputs": [
        {
          "output_type": "execute_result",
          "data": {
            "text/plain": [
              "[6, 'x', 9, 0]"
            ]
          },
          "metadata": {
            "tags": []
          },
          "execution_count": 44
        }
      ]
    },
    {
      "cell_type": "code",
      "metadata": {
        "id": "IxgnKF6XptMm"
      },
      "source": [
        "def insert_element(l, i, elem):\r\n",
        "    \"\"\"\r\n",
        "    Returns a new list containing elem at index i. If i > len (l), insert element at the end of the list\r\n",
        "    \"\"\"      \r\n",
        "    l.insert(i,elem)\r\n",
        "    return l"
      ],
      "execution_count": 48,
      "outputs": []
    },
    {
      "cell_type": "code",
      "metadata": {
        "colab": {
          "base_uri": "https://localhost:8080/"
        },
        "id": "Oycp5UXlptPQ",
        "outputId": "7d6ffcba-91f8-477a-d403-5e18b8b2b8f5"
      },
      "source": [
        "insert_element([1, 2, 3, 4,], 2, 5)\r\n",
        "insert_element([1, 5, ], 3, 5)"
      ],
      "execution_count": 51,
      "outputs": [
        {
          "output_type": "execute_result",
          "data": {
            "text/plain": [
              "[1, 5, 5]"
            ]
          },
          "metadata": {
            "tags": []
          },
          "execution_count": 51
        }
      ]
    }
  ]
}