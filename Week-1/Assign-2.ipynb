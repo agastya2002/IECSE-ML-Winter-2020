{
  "nbformat": 4,
  "nbformat_minor": 0,
  "metadata": {
    "colab": {
      "name": "Untitled3.ipynb",
      "provenance": [],
      "collapsed_sections": []
    },
    "kernelspec": {
      "name": "python3",
      "display_name": "Python 3"
    }
  },
  "cells": [
    {
      "cell_type": "markdown",
      "metadata": {
        "id": "8KdHLWfQ8a9d"
      },
      "source": [
        "**Assigment 2-Numpy Bsics**"
      ]
    },
    {
      "cell_type": "code",
      "metadata": {
        "id": "H0GJrXGR9kXe"
      },
      "source": [
        "import numpy as np"
      ],
      "execution_count": 4,
      "outputs": []
    },
    {
      "cell_type": "code",
      "metadata": {
        "id": "1g4DVjOD8mBl"
      },
      "source": [
        "def gen_strides(a, stride_len, window_len):\r\n",
        "    '''\r\n",
        "    Input:\r\n",
        "      a: Numpy array of 1 dimension\r\n",
        "      stride_len: int, stride length\r\n",
        "      window_len : int, window length\r\n",
        "    \r\n",
        "    Output:\r\n",
        "      Numpy array of 2 dimensions containing windowed strides as explained above\r\n",
        "    '''\r\n",
        "    l=[]\r\n",
        "    i=0\r\n",
        "    while i+stride_len<len(a):\r\n",
        "        l.append(list(a[i:i+window_len]))\r\n",
        "        i+=stride_len\r\n",
        "    return np.array(l)\r\n"
      ],
      "execution_count": 2,
      "outputs": []
    },
    {
      "cell_type": "code",
      "metadata": {
        "colab": {
          "base_uri": "https://localhost:8080/"
        },
        "id": "62i8FuLy8mKI",
        "outputId": "bfc7ac40-b840-4660-da5b-0c0e8a3022f4"
      },
      "source": [
        "np.all(gen_strides(np.array([1, 3, 7, 1, 2, 6, 0, 1]),2,4) == np.array([[1, 3, 7, 1], [7, 1, 2, 6], [2, 6, 0, 1]]))"
      ],
      "execution_count": 5,
      "outputs": [
        {
          "output_type": "execute_result",
          "data": {
            "text/plain": [
              "True"
            ]
          },
          "metadata": {
            "tags": []
          },
          "execution_count": 5
        }
      ]
    },
    {
      "cell_type": "code",
      "metadata": {
        "id": "QNResxnx8mMV"
      },
      "source": [
        "def shuf(arr):\r\n",
        "    '''\r\n",
        "    Input: \r\n",
        "    arr: Numpy array of arbitrary number of dimensions (>1)\r\n",
        "    Output:\r\n",
        "    numpy array of same shape as arr but with rows shuffled\r\n",
        "    '''\r\n",
        "    # YOUR CODE HERE\r\n",
        "    np.random.shuffle(arr)\r\n",
        "    return arr"
      ],
      "execution_count": 13,
      "outputs": []
    },
    {
      "cell_type": "code",
      "metadata": {
        "colab": {
          "base_uri": "https://localhost:8080/"
        },
        "id": "JDCRGL_T8mPf",
        "outputId": "f2092e18-4926-4ee4-ca00-18832cc83adf"
      },
      "source": [
        "arr=np.array([[1, 2, 3],[4, 5, 6],[7, 8, 9]])\r\n",
        "assert np.any(shuf(np.array([[1, 2, 3],[4, 5, 6],[7, 8, 9]])) != np.array([[1, 2, 3], [4, 5, 6], [7, 8, 9]]))\r\n",
        "assert shuf(np.array([[1, 2, 3],[4, 5, 6],[7, 8, 9]])).shape == np.array([[1, 2, 3], [4, 5, 6], [7, 8, 9]]).shape\r\n",
        "\r\n",
        "print(\"Sample Tests passed\", '\\U0001F44D')"
      ],
      "execution_count": 8,
      "outputs": [
        {
          "output_type": "stream",
          "text": [
            "Sample Tests passed 👍\n"
          ],
          "name": "stdout"
        }
      ]
    },
    {
      "cell_type": "code",
      "metadata": {
        "id": "bRrPXDoA8mSQ"
      },
      "source": [
        "def match(a,b):\r\n",
        "    '''\r\n",
        "    Inputs:\r\n",
        "      a, b: numpy arrays of same shape of 1 dimension\r\n",
        "    Outputs:\r\n",
        "      list containing indices where both arrays have same elements\r\n",
        "    '''\r\n",
        "    l=[]\r\n",
        "    for i in range(len(a)):\r\n",
        "        if a[i]==b[i]:\r\n",
        "            l.append(i)\r\n",
        "    return l"
      ],
      "execution_count": 11,
      "outputs": []
    },
    {
      "cell_type": "code",
      "metadata": {
        "colab": {
          "base_uri": "https://localhost:8080/"
        },
        "id": "R_Kr6mMi8mV5",
        "outputId": "1f9783d3-e715-4994-f77e-d5cf21238ecc"
      },
      "source": [
        "assert(match(np.array([1,2,3,2,3,4,3,4,5,6]),np.array([7,2,10,2,7,4,9,4,9,8])) == [1,3,5,7])\r\n",
        "print(\"Sample Tests passed\", '\\U0001F44D')"
      ],
      "execution_count": 12,
      "outputs": [
        {
          "output_type": "stream",
          "text": [
            "Sample Tests passed 👍\n"
          ],
          "name": "stdout"
        }
      ]
    },
    {
      "cell_type": "code",
      "metadata": {
        "id": "nTCrR54J8mY0"
      },
      "source": [
        "def inv(arr):\r\n",
        "    \"\"\"\r\n",
        "    Given an array arr (square matrix), find its inverse\r\n",
        "    \"\"\"\r\n",
        "    # YOUR CODE HERE\r\n",
        "    if arr.shape[0]==arr.shape[1]:\r\n",
        "        return np.linalg.inv(arr)"
      ],
      "execution_count": 9,
      "outputs": []
    },
    {
      "cell_type": "code",
      "metadata": {
        "colab": {
          "base_uri": "https://localhost:8080/"
        },
        "id": "zDzr37WX8mZ9",
        "outputId": "e2bd80e8-21fb-4fa3-de16-6677485a4632"
      },
      "source": [
        "assert np.all(np.isclose(inv(np.array([[6, 1, 1], [4, -2, 5], [2, 8, 7]])).tolist(), np.array([[0.17647058823529413, -0.0032679738562091526, -0.02287581699346405],[0.05882352941176469, -0.130718954248366, 0.0849673202614379],[-0.1176470588235294, 0.1503267973856209, 0.0522875816993464]])))\r\n",
        "print(\"Sample Tests passed\", '\\U0001F44D')"
      ],
      "execution_count": 10,
      "outputs": [
        {
          "output_type": "stream",
          "text": [
            "Sample Tests passed 👍\n"
          ],
          "name": "stdout"
        }
      ]
    },
    {
      "cell_type": "code",
      "metadata": {
        "id": "atD8maUd8mcl"
      },
      "source": [
        "def lin_eqn(a,b):\r\n",
        "    '''\r\n",
        "    Solve the system of linear equations\r\n",
        "    of the form ax = b\r\n",
        "    \r\n",
        "    Eg. \r\n",
        "    \r\n",
        "    Solve the system of linear equation\r\n",
        "    \r\n",
        "    x + 2*y = 8\r\n",
        "    3*x + 4*y = 18\r\n",
        "    \r\n",
        "    Given inputs a and b represent coefficients and constant of linear equation respectively\r\n",
        "    \r\n",
        "    coefficients: \r\n",
        "    a = np.array([[1, 2], [3, 4]]) \r\n",
        "    \r\n",
        "    constants: \r\n",
        "    b = np.array([8, 18])\r\n",
        "    \r\n",
        "    Desired Output: [2,3]\r\n",
        "    \r\n",
        "\r\n",
        "    '''\r\n",
        "    ans=np.dot(np.linalg.inv(a),b) #can be done directly using np.linalg.solve(a,b) too\r\n",
        "    return ans"
      ],
      "execution_count": 14,
      "outputs": []
    },
    {
      "cell_type": "code",
      "metadata": {
        "colab": {
          "base_uri": "https://localhost:8080/"
        },
        "id": "XTmJaVUo8mgX",
        "outputId": "a273ee22-5d2c-4035-ca47-c1ccf914e0fb"
      },
      "source": [
        "assert np.any(lin_eqn(np.array([[1, 2], [3, 4]]),np.array([8, 18])) == np.array([2., 3.]))\r\n",
        "\r\n",
        "print(\"Sample Tests passed\", '\\U0001F44D')"
      ],
      "execution_count": 15,
      "outputs": [
        {
          "output_type": "stream",
          "text": [
            "Sample Tests passed 👍\n"
          ],
          "name": "stdout"
        }
      ]
    },
    {
      "cell_type": "code",
      "metadata": {
        "id": "VguyJN6q8miu"
      },
      "source": [
        "def rankArray(arr):\r\n",
        "    '''\r\n",
        "    Input:\r\n",
        "        arr: Numpy array of arbitrary dimensions \r\n",
        "    Output:\r\n",
        "        numpy array of same shape as arr but with elements replaced by their ranks\r\n",
        "    '''\r\n",
        "    if arr.ndim==1:\r\n",
        "        arr2=arr.argsort()\r\n",
        "        arr3=arr2.argsort()\r\n",
        "        return((list(arr3)))\r\n",
        "    else:\r\n",
        "        l=[]\r\n",
        "        n=len(arr[0])\r\n",
        "        arr=arr.reshape(-1)\r\n",
        "        arr2=arr.argsort()\r\n",
        "        arr3=arr2.argsort()\r\n",
        "        arr3=arr3.reshape(-1,n)\r\n",
        "        return arr3"
      ],
      "execution_count": 16,
      "outputs": []
    },
    {
      "cell_type": "code",
      "metadata": {
        "colab": {
          "base_uri": "https://localhost:8080/"
        },
        "id": "bymcIydp8mlU",
        "outputId": "026f6712-2511-45d1-ddfa-ab683a758f15"
      },
      "source": [
        "assert np.all(rankArray(np.array([[9, 4, 15, 0, 17], [16,17,8,9,0]])) == np.array([[4,2, 6, 0, 8], [7, 9, 3, 5, 1]]).tolist())\r\n",
        "print(\"Sample Tests passed\", '\\U0001F44D')"
      ],
      "execution_count": 17,
      "outputs": [
        {
          "output_type": "stream",
          "text": [
            "Sample Tests passed 👍\n"
          ],
          "name": "stdout"
        }
      ]
    },
    {
      "cell_type": "code",
      "metadata": {
        "id": "C7SVfOVg8mos"
      },
      "source": [
        ""
      ],
      "execution_count": null,
      "outputs": []
    }
  ]
}