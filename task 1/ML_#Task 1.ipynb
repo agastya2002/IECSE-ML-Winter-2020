{
  "nbformat": 4,
  "nbformat_minor": 0,
  "metadata": {
    "colab": {
      "name": "ML Task-1.ipynb",
      "provenance": []
    },
    "kernelspec": {
      "name": "python3",
      "display_name": "Python 3"
    }
  },
  "cells": [
    {
      "cell_type": "markdown",
      "metadata": {
        "id": "9uejYNUMm6yn"
      },
      "source": [
        "***Assignment-1***\r\n",
        "\r\n",
        "---\r\n",
        "\r\n"
      ]
    },
    {
      "cell_type": "markdown",
      "metadata": {
        "id": "gRZQQr5Znaey"
      },
      "source": [
        "Question-1"
      ]
    },
    {
      "cell_type": "code",
      "metadata": {
        "colab": {
          "base_uri": "https://localhost:8080/"
        },
        "id": "7Hw6Yb36m-A8",
        "outputId": "3ab84a89-644d-44ad-80ff-de07b53dd8bf"
      },
      "source": [
        "def last_element(l):\r\n",
        "    \"\"\"\r\n",
        "    Returns last element of list l\r\n",
        "    \"\"\"\r\n",
        "    print(l[-1])\r\n",
        "\r\n",
        "l=[1,2,3,4]\r\n",
        "last_element(l)    \r\n",
        "l=[\"hello\",\"world\"]\r\n",
        "last_element(l)\r\n",
        "l=[1]\r\n",
        "last_element(l)\r\n"
      ],
      "execution_count": 1,
      "outputs": [
        {
          "output_type": "stream",
          "text": [
            "4\n",
            "world\n",
            "1\n"
          ],
          "name": "stdout"
        }
      ]
    },
    {
      "cell_type": "markdown",
      "metadata": {
        "id": "pZ5BrgjBnfD7"
      },
      "source": [
        "Question-2\r\n"
      ]
    },
    {
      "cell_type": "code",
      "metadata": {
        "colab": {
          "base_uri": "https://localhost:8080/"
        },
        "id": "sDhLO2OEnh-c",
        "outputId": "95bc754b-dc72-4bc4-a330-679f447bd4f4"
      },
      "source": [
        "def num_elements(l):\r\n",
        "    \"\"\"\r\n",
        "    Returns number of elements in the list l\r\n",
        "    \"\"\"\r\n",
        "    count = 0\r\n",
        "    for element in l:\r\n",
        "        count += 1\r\n",
        "    print(count)\r\n",
        "    \r\n",
        "l=[1,2,3,4,5,7]\r\n",
        "print(\"the number of elements present are\")\r\n",
        "num_elements(l)\r\n",
        "\r\n",
        "print(\"the number of elements for this list are\")\r\n",
        "l=[2,3,4]\r\n",
        "num_elements(l)\r\n",
        "\r\n",
        "\r\n",
        "\r\n"
      ],
      "execution_count": 2,
      "outputs": [
        {
          "output_type": "stream",
          "text": [
            "the number of elements present are\n",
            "6\n",
            "the number of elements for this list are\n",
            "3\n"
          ],
          "name": "stdout"
        }
      ]
    },
    {
      "cell_type": "markdown",
      "metadata": {
        "id": "ImRYY0KRnrZd"
      },
      "source": [
        "Question-3"
      ]
    },
    {
      "cell_type": "code",
      "metadata": {
        "colab": {
          "base_uri": "https://localhost:8080/"
        },
        "id": "STKlt7uBnioq",
        "outputId": "d2d46cd8-053b-46c4-ce47-6d8d6213e6aa"
      },
      "source": [
        "def reverse_list(l): \r\n",
        "    l.reverse() \r\n",
        "    return l \r\n",
        "print(\"revrse for this list is :\")      \r\n",
        "l =[1, 2, 3, 4] \r\n",
        "print(reverse_list(l))\r\n",
        "print(\"\\n\")\r\n",
        "print(\"revrse for this second list is :\")      \r\n",
        "l = [2, 3, 4]\r\n",
        "print(reverse_list(l))\r\n",
        "\r\n",
        "\r\n",
        "\r\n"
      ],
      "execution_count": 3,
      "outputs": [
        {
          "output_type": "stream",
          "text": [
            "revrse for this list is :\n",
            "[4, 3, 2, 1]\n",
            "\n",
            "\n",
            "revrse for this second list is :\n",
            "[4, 3, 2]\n"
          ],
          "name": "stdout"
        }
      ]
    },
    {
      "cell_type": "markdown",
      "metadata": {
        "id": "Bda44wLynszQ"
      },
      "source": [
        "Question-4\r\n"
      ]
    },
    {
      "cell_type": "code",
      "metadata": {
        "colab": {
          "base_uri": "https://localhost:8080/"
        },
        "id": "qZlNMLsFnuSt",
        "outputId": "7472aac4-802f-4e85-df77-a5ec75d81aca"
      },
      "source": [
        "def is_palindrome(l):\r\n",
        "    return l == l[::-1]\r\n",
        " \r\n",
        "l = [1, 2, 1]     #first assert statement\r\n",
        "ans = is_palindrome(l)\r\n",
        "\r\n",
        "if ans:\r\n",
        "    print(\"true\")\r\n",
        "else:\r\n",
        "    print(\"False\")\r\n",
        "    \r\n",
        "l = [1, 2, 3, 2, 1]    ##second assert statement\r\n",
        "ans = is_palindrome(l)\r\n",
        "\r\n",
        "if ans:\r\n",
        "    print(\"true\")\r\n",
        "else:\r\n",
        "    print(\"False\")\r\n",
        "\r\n",
        "l = [1, 2, 3, 4]     #third assert statement\r\n",
        "ans = is_palindrome(l)\r\n",
        "\r\n",
        "if ans:\r\n",
        "    print(\"true\")\r\n",
        "else:\r\n",
        "    print(\"False\")"
      ],
      "execution_count": 4,
      "outputs": [
        {
          "output_type": "stream",
          "text": [
            "true\n",
            "true\n",
            "False\n"
          ],
          "name": "stdout"
        }
      ]
    },
    {
      "cell_type": "markdown",
      "metadata": {
        "id": "0jfs6Tnvnuz3"
      },
      "source": [
        "Question-5"
      ]
    },
    {
      "cell_type": "code",
      "metadata": {
        "colab": {
          "base_uri": "https://localhost:8080/"
        },
        "id": "zg3QbQrmnwYJ",
        "outputId": "812ea81e-f528-4cf3-ecd3-cb869f678ad5"
      },
      "source": [
        "def compress(l):\r\n",
        "    print(temp)\r\n",
        "    \r\n",
        "\r\n",
        "l = [1, 2, 2]  #first assert statement\r\n",
        "temp = []\r\n",
        "\r\n",
        "\r\n",
        "for i in l:\r\n",
        "   if len(temp) == 0:\r\n",
        "      temp.append(i)\r\n",
        "      \r\n",
        "\r\n",
        "   elif len(temp) > 0:\r\n",
        "      if  temp[-1] != i:\r\n",
        "          temp.append(i)\r\n",
        "compress(l)\r\n",
        "\r\n",
        "l = [1, 2, 2, 2, 1, 1, 3, 'x', 'x', 'x']   #second assert statement\r\n",
        "temp = []\r\n",
        "\r\n",
        "\r\n",
        "for i in l:\r\n",
        "   if len(temp) == 0:\r\n",
        "      temp.append(i)\r\n",
        "      \r\n",
        "\r\n",
        "   elif len(temp) > 0:\r\n",
        "      if  temp[-1] != i:\r\n",
        "          temp.append(i)\r\n",
        "compress(l)"
      ],
      "execution_count": 5,
      "outputs": [
        {
          "output_type": "stream",
          "text": [
            "[1, 2]\n",
            "[1, 2, 1, 3, 'x']\n"
          ],
          "name": "stdout"
        }
      ]
    },
    {
      "cell_type": "markdown",
      "metadata": {
        "id": "BOFmPSdinwtl"
      },
      "source": [
        "Question-6"
      ]
    },
    {
      "cell_type": "code",
      "metadata": {
        "colab": {
          "base_uri": "https://localhost:8080/"
        },
        "id": "PDNHGLxCnyFu",
        "outputId": "0744d403-d8ac-47bf-d371-c711f80b0f6e"
      },
      "source": [
        "from itertools import *\r\n",
        "\r\n",
        "def pack(l):\r\n",
        "    rmd = []\r\n",
        "    for key,group in groupby(l):\r\n",
        "         rmd.append(list(group))\r\n",
        "\r\n",
        "    return rmd\r\n",
        "\r\n",
        "l = [1, 1, 1, 2]  #first assert statement\r\n",
        "print(pack(l))\r\n",
        "\r\n",
        "l = [1, 1, 1, 2, 1, 1, 3, 3, 3]  #second assert statement\r\n",
        "print(pack(l))"
      ],
      "execution_count": 6,
      "outputs": [
        {
          "output_type": "stream",
          "text": [
            "[[1, 1, 1], [2]]\n",
            "[[1, 1, 1], [2], [1, 1], [3, 3, 3]]\n"
          ],
          "name": "stdout"
        }
      ]
    },
    {
      "cell_type": "markdown",
      "metadata": {
        "id": "aNSnk-1mnyux"
      },
      "source": [
        "Question-7"
      ]
    },
    {
      "cell_type": "code",
      "metadata": {
        "colab": {
          "base_uri": "https://localhost:8080/"
        },
        "id": "RP2Bh7Jdn0V9",
        "outputId": "4a0321ad-1a69-4deb-d9e4-e926bb5cf57c"
      },
      "source": [
        "def slice(l,i,k):\r\n",
        "    print(l,\"--->\",l[i:k])\r\n",
        "l = [1, 3, 9, 8, 7]     #first assert statement\r\n",
        "i=1          #int(input(\"enter the ith term: \"))\r\n",
        "k=3        #int(input(\"enter the kth term: \"))\r\n",
        "slice(l,i,k)\r\n",
        "l = [1, 3, 8, 9, 7]    #second assert statement\r\n",
        "i=1          #int(input(\"enter the ith term: \"))\r\n",
        "k=3        #int(input(\"enter the kth term: \"))\r\n",
        "slice(l,i,k)\r\n",
        "l = [1, 4, 6, 'x', 9, 0]    #third assert statement\r\n",
        "i=2          #int(input(\"enter the ith term: \"))\r\n",
        "k=10        #int(input(\"enter the kth term: \"))\r\n",
        "slice(l,i,k)"
      ],
      "execution_count": 7,
      "outputs": [
        {
          "output_type": "stream",
          "text": [
            "[1, 3, 9, 8, 7] ---> [3, 9]\n",
            "[1, 3, 8, 9, 7] ---> [3, 8]\n",
            "[1, 4, 6, 'x', 9, 0] ---> [6, 'x', 9, 0]\n"
          ],
          "name": "stdout"
        }
      ]
    },
    {
      "cell_type": "markdown",
      "metadata": {
        "id": "m3YHiRAvn0z4"
      },
      "source": [
        "Question-8"
      ]
    },
    {
      "cell_type": "code",
      "metadata": {
        "colab": {
          "base_uri": "https://localhost:8080/"
        },
        "id": "z4ZGv9bGn1_8",
        "outputId": "0fc2ac66-f09a-41c2-fed0-4a4a16743f18"
      },
      "source": [
        "def insert_element(l, i, elem):\r\n",
        "    print(l)\r\n",
        "    \r\n",
        "    \r\n",
        "l = [1, 3, 9, 8, 7]\r\n",
        "i=1      #int(input(\"the index: \"))\r\n",
        "elm=3      #int(input(\"element : \"))\r\n",
        "l.insert(i,elm)\r\n",
        "insert_element(l, i, elm)\r\n",
        "\r\n",
        "# assert statements are not clear "
      ],
      "execution_count": 8,
      "outputs": [
        {
          "output_type": "stream",
          "text": [
            "[1, 3, 3, 9, 8, 7]\n"
          ],
          "name": "stdout"
        }
      ]
    },
    {
      "cell_type": "markdown",
      "metadata": {
        "id": "Vi0laXTgoknf"
      },
      "source": [
        "***Assignment-2***\r\n",
        "\r\n",
        "---\r\n",
        "\r\n"
      ]
    },
    {
      "cell_type": "markdown",
      "metadata": {
        "id": "6KQOXUAFosBo"
      },
      "source": [
        "Question-1"
      ]
    },
    {
      "cell_type": "code",
      "metadata": {
        "colab": {
          "base_uri": "https://localhost:8080/"
        },
        "id": "7i5OZs0-oYg-",
        "outputId": "ac632271-b40b-4922-a940-b539a462064c"
      },
      "source": [
        "import numpy as np \r\n",
        "def gen_strides(a, stride_len , window_len ):  # Window len = 4, Stride len = 2\r\n",
        "    nrows = ((a.size-window_len)//stride_len)+1\r\n",
        "    s = a.strides[0]\r\n",
        "    return np.lib.stride_tricks.as_strided(a, shape=(nrows,window_len), strides=(stride_len*s,s))\r\n",
        "\r\n",
        "a=np.array([1, 3, 7, 1, 2, 6, 0, 1])\r\n",
        "a = np.array(a)\r\n",
        "print(np.floor(a))\r\n",
        "print()\r\n",
        "print(\"the desired 2D array is : \")\r\n",
        "print(gen_strides(a, stride_len = 2,window_len = 4))\r\n",
        "\r\n"
      ],
      "execution_count": 19,
      "outputs": [
        {
          "output_type": "stream",
          "text": [
            "[1. 3. 7. 1. 2. 6. 0. 1.]\n",
            "\n",
            "the desired 2D array is : \n",
            "[[1 3 7 1]\n",
            " [7 1 2 6]\n",
            " [2 6 0 1]]\n"
          ],
          "name": "stdout"
        }
      ]
    },
    {
      "cell_type": "markdown",
      "metadata": {
        "id": "rnyNBou1o1Fn"
      },
      "source": [
        "Question-2\r\n"
      ]
    },
    {
      "cell_type": "code",
      "metadata": {
        "colab": {
          "base_uri": "https://localhost:8080/"
        },
        "id": "IAqgyoZCo2Qk",
        "outputId": "76353be7-f700-4faf-ad36-71773b7e39af"
      },
      "source": [
        "import numpy as np\r\n",
        "def shuf(arr):\r\n",
        "  '''\r\n",
        "  Input: \r\n",
        "    arr: Numpy array of arbitrary number of dimensions (>1)\r\n",
        "  Output:\r\n",
        "    numpy array of same shape as arr but with rows shuffled\r\n",
        "  '''\r\n",
        "  print(\"this is the shuffled array :\\n\",arr_shuffled)\r\n",
        "  print()\r\n",
        "  print(\"shape of this new array\",arr.shape)\r\n",
        "  \r\n",
        "arr=np.array([[1, 2, 3],[4, 5, 6],[7, 8, 9]])\r\n",
        "print(\"this is the original array :\\n\",arr)\r\n",
        "print()\r\n",
        "print(\"shape of this original array\",arr.shape)\r\n",
        "print()\r\n",
        "shuffler = np.random.permutation(len(arr))\r\n",
        "arr_shuffled = arr[shuffler]\r\n",
        "shuf(arr)"
      ],
      "execution_count": 12,
      "outputs": [
        {
          "output_type": "stream",
          "text": [
            "this is the original array :\n",
            " [[1 2 3]\n",
            " [4 5 6]\n",
            " [7 8 9]]\n",
            "\n",
            "shape of this original array (3, 3)\n",
            "\n",
            "this is the shuffled array :\n",
            " [[1 2 3]\n",
            " [7 8 9]\n",
            " [4 5 6]]\n",
            "\n",
            "shape of this new array (3, 3)\n"
          ],
          "name": "stdout"
        }
      ]
    },
    {
      "cell_type": "markdown",
      "metadata": {
        "id": "OyeAEHCYo2qh"
      },
      "source": [
        "Question-3"
      ]
    },
    {
      "cell_type": "code",
      "metadata": {
        "colab": {
          "base_uri": "https://localhost:8080/"
        },
        "id": "t-EsYd2Bo30q",
        "outputId": "5df64233-421e-4258-d3fe-57fffb7d3603"
      },
      "source": [
        "import numpy as np\r\n",
        "def match(a,b):\r\n",
        "    '''\r\n",
        "    Inputs:\r\n",
        "      a, b: numpy arrays of same shape of 1 dimension\r\n",
        "    Outputs:\r\n",
        "      list containing indices where both arrays have same elements\r\n",
        "    '''\r\n",
        "    print(c)\r\n",
        "    \r\n",
        "a = np.array([1,2,3,2,3,4,3,4,5,6])\r\n",
        "b = np.array([8,2,10,2,7,4,10,4,9,8])\r\n",
        "c=np.where(a == b)\r\n",
        "match(a,b)"
      ],
      "execution_count": 11,
      "outputs": [
        {
          "output_type": "stream",
          "text": [
            "(array([1, 3, 5, 7]),)\n"
          ],
          "name": "stdout"
        }
      ]
    },
    {
      "cell_type": "markdown",
      "metadata": {
        "id": "1DwyAF0to4Iq"
      },
      "source": [
        "Question-4"
      ]
    },
    {
      "cell_type": "code",
      "metadata": {
        "colab": {
          "base_uri": "https://localhost:8080/"
        },
        "id": "M5Ty5SeIo5Me",
        "outputId": "4edb5e79-79d0-4b56-dd6c-145c5df9c1f9"
      },
      "source": [
        "import numpy as np \r\n",
        "def inv(arr):\r\n",
        "    \"\"\"\r\n",
        "    Given an array arr (square matrix), find its inverse\r\n",
        "    \"\"\"\r\n",
        "    ivs = np.linalg.inv(arr)\r\n",
        "    print(ivs)\r\n",
        "    \r\n",
        "arr = np.array([[6, 1, 1], [4, -2, 5], [2, 8, 7]])\r\n",
        "inv(arr)"
      ],
      "execution_count": 10,
      "outputs": [
        {
          "output_type": "stream",
          "text": [
            "[[ 0.17647059 -0.00326797 -0.02287582]\n",
            " [ 0.05882353 -0.13071895  0.08496732]\n",
            " [-0.11764706  0.1503268   0.05228758]]\n"
          ],
          "name": "stdout"
        }
      ]
    },
    {
      "cell_type": "markdown",
      "metadata": {
        "id": "cvbd_QCLo58G"
      },
      "source": [
        "Question-5"
      ]
    },
    {
      "cell_type": "code",
      "metadata": {
        "colab": {
          "base_uri": "https://localhost:8080/"
        },
        "id": "xl3cyzUVo7D6",
        "outputId": "c2c225dd-aaae-443c-c771-98d6bd7c5c44"
      },
      "source": [
        "import numpy as np\r\n",
        "def lin_eqn(a,b):\r\n",
        "    '''\r\n",
        "    Solve the system of linear equations\r\n",
        "    of the form ax = b\r\n",
        "    \r\n",
        "    Eg. \r\n",
        "    \r\n",
        "    Solve the system of linear equation\r\n",
        "    \r\n",
        "    x + 2*y = 8\r\n",
        "    3*x + 4*y = 18\r\n",
        "    \r\n",
        "    Given inputs a and b represent coefficients and constant of linear equation respectively\r\n",
        "    \r\n",
        "    coefficients: \r\n",
        "    a = np.array([[1, 2], [3, 4]]) \r\n",
        "    \r\n",
        "    constants: \r\n",
        "    b = np.array([8, 18])\r\n",
        "    \r\n",
        "    Desired Output: [2,3]\r\n",
        "    \r\n",
        "\r\n",
        "    '''\r\n",
        "    print(X)\r\n",
        "a = np.array([[1, 2], [3, 4]])\r\n",
        "inv_A = np.linalg.inv(a)\r\n",
        "b = np.array([8, 18])\r\n",
        "X = np.linalg.inv(a).dot(b)\r\n",
        "lin_eqn(a,b)"
      ],
      "execution_count": 9,
      "outputs": [
        {
          "output_type": "stream",
          "text": [
            "[2. 3.]\n"
          ],
          "name": "stdout"
        }
      ]
    },
    {
      "cell_type": "markdown",
      "metadata": {
        "id": "RZ2CleOKo7dA"
      },
      "source": [
        "Question-6"
      ]
    },
    {
      "cell_type": "code",
      "metadata": {
        "colab": {
          "base_uri": "https://localhost:8080/"
        },
        "id": "PVPz44oao8yt",
        "outputId": "1994afc8-8503-4481-a4ce-849cdf049c21"
      },
      "source": [
        "import numpy as np\r\n",
        "def rankArray(arr):\r\n",
        "    '''\r\n",
        "    Input:\r\n",
        "        arr: Numpy array of arbitrary dimensions \r\n",
        "    Output:\r\n",
        "        numpy array of same shape as arr but with elements replaced by their ranks\r\n",
        "    '''\r\n",
        "    print(arr.ravel().argsort().argsort().reshape(arr.shape))\r\n",
        "\r\n",
        "arr=np.array([[9, 4, 15, 0, 17], [16,17,8,9,0]])\r\n",
        "rankArray(arr)"
      ],
      "execution_count": 14,
      "outputs": [
        {
          "output_type": "stream",
          "text": [
            "[[4 2 6 0 8]\n",
            " [7 9 3 5 1]]\n"
          ],
          "name": "stdout"
        }
      ]
    },
    {
      "cell_type": "markdown",
      "metadata": {
        "id": "jEbxWSOhpjwW"
      },
      "source": [
        "***Assignment-3***\r\n",
        "\r\n",
        "---\r\n",
        "\r\n"
      ]
    },
    {
      "cell_type": "markdown",
      "metadata": {
        "id": "yN7M1WkQpoPN"
      },
      "source": [
        "Question-1"
      ]
    },
    {
      "cell_type": "code",
      "metadata": {
        "colab": {
          "base_uri": "https://localhost:8080/",
          "height": 295
        },
        "id": "MnGmmPuaphi6",
        "outputId": "46b3d09c-b63e-4dd7-a792-ccb8bea08c8d"
      },
      "source": [
        "import matplotlib.pyplot as plt\r\n",
        "import numpy as np\r\n",
        "x = np.array([1,2,3,4,5,6,7,8,9,10,11,12,13,14,15,16])\r\n",
        "y = np.array([5,7,8,3,5,6,3,7,2,12,5,7,2,6,9,2])\r\n",
        "plt.plot(x,y,\"r-\")\r\n",
        "plt.title(\"epic info\")\r\n",
        "plt.xlabel(\"x-axis\")\r\n",
        "plt.ylabel(\"y-axis\")\r\n",
        "plt.show()"
      ],
      "execution_count": 23,
      "outputs": [
        {
          "output_type": "display_data",
          "data": {
            "image/png": "[encoded data removed]",
            "text/plain": [
              "<Figure size 432x288 with 1 Axes>"
            ]
          },
          "metadata": {
            "tags": [],
            "needs_background": "light"
          }
        }
      ]
    }
  ]
}