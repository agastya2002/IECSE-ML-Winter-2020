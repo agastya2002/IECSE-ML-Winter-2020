{
  "nbformat": 4,
  "nbformat_minor": 0,
  "metadata": {
    "colab": {
      "name": "Untitled7.ipynb",
      "provenance": [],
      "collapsed_sections": []
    },
    "kernelspec": {
      "name": "python3",
      "display_name": "Python 3"
    }
  },
  "cells": [
    {
      "cell_type": "code",
      "metadata": {
        "id": "1XGKeSg34V1Y"
      },
      "source": [
        "###Importing Required Libraries\r\n",
        "\r\n",
        "import numpy as np\r\n",
        "import pandas as pd\r\n",
        "import matplotlib.pyplot as plt\r\n",
        "\r\n",
        "%matplotlib inline"
      ],
      "execution_count": 1,
      "outputs": []
    },
    {
      "cell_type": "code",
      "metadata": {
        "colab": {
          "base_uri": "https://localhost:8080/",
          "height": 195
        },
        "id": "OSFD_KZlBhXe",
        "outputId": "19e00b96-7f9e-4c42-df2d-4124062025ff"
      },
      "source": [
        "###Importing Data from a CSV File to a DataFrame\r\n",
        "\r\n",
        "boston = pd.read_csv('BostonHousing.csv')\r\n",
        "boston.head()"
      ],
      "execution_count": 2,
      "outputs": [
        {
          "output_type": "execute_result",
          "data": {
            "text/html": [
              "<div>\n",
              "<style scoped>\n",
              "    .dataframe tbody tr th:only-of-type {\n",
              "        vertical-align: middle;\n",
              "    }\n",
              "\n",
              "    .dataframe tbody tr th {\n",
              "        vertical-align: top;\n",
              "    }\n",
              "\n",
              "    .dataframe thead th {\n",
              "        text-align: right;\n",
              "    }\n",
              "</style>\n",
              "<table border=\"1\" class=\"dataframe\">\n",
              "  <thead>\n",
              "    <tr style=\"text-align: right;\">\n",
              "      <th></th>\n",
              "      <th>crim</th>\n",
              "      <th>zn</th>\n",
              "      <th>indus</th>\n",
              "      <th>chas</th>\n",
              "      <th>nox</th>\n",
              "      <th>rm</th>\n",
              "      <th>age</th>\n",
              "      <th>dis</th>\n",
              "      <th>rad</th>\n",
              "      <th>tax</th>\n",
              "      <th>ptratio</th>\n",
              "      <th>b</th>\n",
              "      <th>lstat</th>\n",
              "      <th>medv</th>\n",
              "    </tr>\n",
              "  </thead>\n",
              "  <tbody>\n",
              "    <tr>\n",
              "      <th>0</th>\n",
              "      <td>0.00632</td>\n",
              "      <td>18.0</td>\n",
              "      <td>2.31</td>\n",
              "      <td>0</td>\n",
              "      <td>0.538</td>\n",
              "      <td>6.575</td>\n",
              "      <td>65.2</td>\n",
              "      <td>4.0900</td>\n",
              "      <td>1</td>\n",
              "      <td>296</td>\n",
              "      <td>15.3</td>\n",
              "      <td>396.90</td>\n",
              "      <td>4.98</td>\n",
              "      <td>24.0</td>\n",
              "    </tr>\n",
              "    <tr>\n",
              "      <th>1</th>\n",
              "      <td>0.02731</td>\n",
              "      <td>0.0</td>\n",
              "      <td>7.07</td>\n",
              "      <td>0</td>\n",
              "      <td>0.469</td>\n",
              "      <td>6.421</td>\n",
              "      <td>78.9</td>\n",
              "      <td>4.9671</td>\n",
              "      <td>2</td>\n",
              "      <td>242</td>\n",
              "      <td>17.8</td>\n",
              "      <td>396.90</td>\n",
              "      <td>9.14</td>\n",
              "      <td>21.6</td>\n",
              "    </tr>\n",
              "    <tr>\n",
              "      <th>2</th>\n",
              "      <td>0.02729</td>\n",
              "      <td>0.0</td>\n",
              "      <td>7.07</td>\n",
              "      <td>0</td>\n",
              "      <td>0.469</td>\n",
              "      <td>7.185</td>\n",
              "      <td>61.1</td>\n",
              "      <td>4.9671</td>\n",
              "      <td>2</td>\n",
              "      <td>242</td>\n",
              "      <td>17.8</td>\n",
              "      <td>392.83</td>\n",
              "      <td>4.03</td>\n",
              "      <td>34.7</td>\n",
              "    </tr>\n",
              "    <tr>\n",
              "      <th>3</th>\n",
              "      <td>0.03237</td>\n",
              "      <td>0.0</td>\n",
              "      <td>2.18</td>\n",
              "      <td>0</td>\n",
              "      <td>0.458</td>\n",
              "      <td>6.998</td>\n",
              "      <td>45.8</td>\n",
              "      <td>6.0622</td>\n",
              "      <td>3</td>\n",
              "      <td>222</td>\n",
              "      <td>18.7</td>\n",
              "      <td>394.63</td>\n",
              "      <td>2.94</td>\n",
              "      <td>33.4</td>\n",
              "    </tr>\n",
              "    <tr>\n",
              "      <th>4</th>\n",
              "      <td>0.06905</td>\n",
              "      <td>0.0</td>\n",
              "      <td>2.18</td>\n",
              "      <td>0</td>\n",
              "      <td>0.458</td>\n",
              "      <td>7.147</td>\n",
              "      <td>54.2</td>\n",
              "      <td>6.0622</td>\n",
              "      <td>3</td>\n",
              "      <td>222</td>\n",
              "      <td>18.7</td>\n",
              "      <td>396.90</td>\n",
              "      <td>5.33</td>\n",
              "      <td>36.2</td>\n",
              "    </tr>\n",
              "  </tbody>\n",
              "</table>\n",
              "</div>"
            ],
            "text/plain": [
              "      crim    zn  indus  chas    nox  ...  tax  ptratio       b  lstat  medv\n",
              "0  0.00632  18.0   2.31     0  0.538  ...  296     15.3  396.90   4.98  24.0\n",
              "1  0.02731   0.0   7.07     0  0.469  ...  242     17.8  396.90   9.14  21.6\n",
              "2  0.02729   0.0   7.07     0  0.469  ...  242     17.8  392.83   4.03  34.7\n",
              "3  0.03237   0.0   2.18     0  0.458  ...  222     18.7  394.63   2.94  33.4\n",
              "4  0.06905   0.0   2.18     0  0.458  ...  222     18.7  396.90   5.33  36.2\n",
              "\n",
              "[5 rows x 14 columns]"
            ]
          },
          "metadata": {
            "tags": []
          },
          "execution_count": 2
        }
      ]
    },
    {
      "cell_type": "code",
      "metadata": {
        "colab": {
          "base_uri": "https://localhost:8080/"
        },
        "id": "6IGtExa4BhaZ",
        "outputId": "d5d2155a-c2d9-4a75-fee6-bc78712c6cb4"
      },
      "source": [
        "\r\n",
        "##Splitting the Data into X and Y DataFrames\r\n",
        "X = boston.iloc[:,:-1]\r\n",
        "Y = boston['medv']\r\n",
        "\r\n",
        "print(\"X\")\r\n",
        "print(\"\")\r\n",
        "print(X.head())\r\n",
        "print(\"\")\r\n",
        "print(\"\")\r\n",
        "print(\"Y\")\r\n",
        "print(Y.head())"
      ],
      "execution_count": 3,
      "outputs": [
        {
          "output_type": "stream",
          "text": [
            "X\n",
            "\n",
            "      crim    zn  indus  chas    nox  ...  rad  tax  ptratio       b  lstat\n",
            "0  0.00632  18.0   2.31     0  0.538  ...    1  296     15.3  396.90   4.98\n",
            "1  0.02731   0.0   7.07     0  0.469  ...    2  242     17.8  396.90   9.14\n",
            "2  0.02729   0.0   7.07     0  0.469  ...    2  242     17.8  392.83   4.03\n",
            "3  0.03237   0.0   2.18     0  0.458  ...    3  222     18.7  394.63   2.94\n",
            "4  0.06905   0.0   2.18     0  0.458  ...    3  222     18.7  396.90   5.33\n",
            "\n",
            "[5 rows x 13 columns]\n",
            "\n",
            "\n",
            "Y\n",
            "0    24.0\n",
            "1    21.6\n",
            "2    34.7\n",
            "3    33.4\n",
            "4    36.2\n",
            "Name: medv, dtype: float64\n"
          ],
          "name": "stdout"
        }
      ]
    },
    {
      "cell_type": "code",
      "metadata": {
        "colab": {
          "base_uri": "https://localhost:8080/"
        },
        "id": "gkhJ_ylXBhdG",
        "outputId": "a11f03a4-420a-42e2-c020-068ce8bcf5a2"
      },
      "source": [
        "##Converting X into an Array\r\n",
        "\r\n",
        "X = np.array(X)\r\n",
        "print(X[:5,:])\r\n",
        "print(\"\")\r\n",
        "print(X.shape)"
      ],
      "execution_count": 4,
      "outputs": [
        {
          "output_type": "stream",
          "text": [
            "[[6.3200e-03 1.8000e+01 2.3100e+00 0.0000e+00 5.3800e-01 6.5750e+00\n",
            "  6.5200e+01 4.0900e+00 1.0000e+00 2.9600e+02 1.5300e+01 3.9690e+02\n",
            "  4.9800e+00]\n",
            " [2.7310e-02 0.0000e+00 7.0700e+00 0.0000e+00 4.6900e-01 6.4210e+00\n",
            "  7.8900e+01 4.9671e+00 2.0000e+00 2.4200e+02 1.7800e+01 3.9690e+02\n",
            "  9.1400e+00]\n",
            " [2.7290e-02 0.0000e+00 7.0700e+00 0.0000e+00 4.6900e-01 7.1850e+00\n",
            "  6.1100e+01 4.9671e+00 2.0000e+00 2.4200e+02 1.7800e+01 3.9283e+02\n",
            "  4.0300e+00]\n",
            " [3.2370e-02 0.0000e+00 2.1800e+00 0.0000e+00 4.5800e-01 6.9980e+00\n",
            "  4.5800e+01 6.0622e+00 3.0000e+00 2.2200e+02 1.8700e+01 3.9463e+02\n",
            "  2.9400e+00]\n",
            " [6.9050e-02 0.0000e+00 2.1800e+00 0.0000e+00 4.5800e-01 7.1470e+00\n",
            "  5.4200e+01 6.0622e+00 3.0000e+00 2.2200e+02 1.8700e+01 3.9690e+02\n",
            "  5.3300e+00]]\n",
            "\n",
            "(506, 13)\n"
          ],
          "name": "stdout"
        }
      ]
    },
    {
      "cell_type": "code",
      "metadata": {
        "colab": {
          "base_uri": "https://localhost:8080/"
        },
        "id": "csA2lqTnBhgu",
        "outputId": "6a788ff4-f213-45c9-df8a-225d895309b3"
      },
      "source": [
        "##Converting Y into an array\r\n",
        "\r\n",
        "Y = np.array(Y)\r\n",
        "print(Y.shape)\r\n",
        "Y = Y.reshape((506,1))\r\n",
        "print(Y.shape)"
      ],
      "execution_count": 5,
      "outputs": [
        {
          "output_type": "stream",
          "text": [
            "(506,)\n",
            "(506, 1)\n"
          ],
          "name": "stdout"
        }
      ]
    },
    {
      "cell_type": "code",
      "metadata": {
        "colab": {
          "base_uri": "https://localhost:8080/"
        },
        "id": "jSYcgWRPBhjg",
        "outputId": "235f44af-4776-49c5-d74a-a150b100ca38"
      },
      "source": [
        "###Making Data suitable for Linear Regression\r\n",
        "m=X.shape[0]\r\n",
        "print(\"m:\",m)\r\n",
        "##Padding X array with ones for the bias term\r\n",
        "o = np.ones((m,1))\r\n",
        "X = np.hstack((o,X))\r\n",
        "print(X.shape)\r\n",
        "print(\"\")\r\n",
        "print(X[:5,:])"
      ],
      "execution_count": 6,
      "outputs": [
        {
          "output_type": "stream",
          "text": [
            "m: 506\n",
            "(506, 14)\n",
            "\n",
            "[[1.0000e+00 6.3200e-03 1.8000e+01 2.3100e+00 0.0000e+00 5.3800e-01\n",
            "  6.5750e+00 6.5200e+01 4.0900e+00 1.0000e+00 2.9600e+02 1.5300e+01\n",
            "  3.9690e+02 4.9800e+00]\n",
            " [1.0000e+00 2.7310e-02 0.0000e+00 7.0700e+00 0.0000e+00 4.6900e-01\n",
            "  6.4210e+00 7.8900e+01 4.9671e+00 2.0000e+00 2.4200e+02 1.7800e+01\n",
            "  3.9690e+02 9.1400e+00]\n",
            " [1.0000e+00 2.7290e-02 0.0000e+00 7.0700e+00 0.0000e+00 4.6900e-01\n",
            "  7.1850e+00 6.1100e+01 4.9671e+00 2.0000e+00 2.4200e+02 1.7800e+01\n",
            "  3.9283e+02 4.0300e+00]\n",
            " [1.0000e+00 3.2370e-02 0.0000e+00 2.1800e+00 0.0000e+00 4.5800e-01\n",
            "  6.9980e+00 4.5800e+01 6.0622e+00 3.0000e+00 2.2200e+02 1.8700e+01\n",
            "  3.9463e+02 2.9400e+00]\n",
            " [1.0000e+00 6.9050e-02 0.0000e+00 2.1800e+00 0.0000e+00 4.5800e-01\n",
            "  7.1470e+00 5.4200e+01 6.0622e+00 3.0000e+00 2.2200e+02 1.8700e+01\n",
            "  3.9690e+02 5.3300e+00]]\n"
          ],
          "name": "stdout"
        }
      ]
    },
    {
      "cell_type": "code",
      "metadata": {
        "id": "WzEUaY3YBhmc"
      },
      "source": [
        "def FeatureNormalization(x):\r\n",
        "    x = x[:,1:]\r\n",
        "    m = x.shape[0]\r\n",
        "    mean = np.mean(x,axis=0)\r\n",
        "    std = np.std(x,axis=0)\r\n",
        "    x_norm = (x-mean)/std\r\n",
        "    o = np.ones((m,1))\r\n",
        "    x_norm = np.hstack((o,x_norm))\r\n",
        "    return x_norm,mean,std"
      ],
      "execution_count": 9,
      "outputs": []
    },
    {
      "cell_type": "code",
      "metadata": {
        "colab": {
          "base_uri": "https://localhost:8080/"
        },
        "id": "GfdMFDKyBho1",
        "outputId": "79193a9d-8ab0-47e4-bf7e-f4b53e886b34"
      },
      "source": [
        "##Normalizing the array\r\n",
        "X_norm,mean,std = FeatureNormalization(X)\r\n",
        "X_norm[:5,:]"
      ],
      "execution_count": 10,
      "outputs": [
        {
          "output_type": "execute_result",
          "data": {
            "text/plain": [
              "array([[ 1.        , -0.41978194,  0.28482986, -1.2879095 , -0.27259857,\n",
              "        -0.14421743,  0.41367189, -0.12001342,  0.1402136 , -0.98284286,\n",
              "        -0.66660821, -1.45900038,  0.44105193, -1.0755623 ],\n",
              "       [ 1.        , -0.41733926, -0.48772236, -0.59338101, -0.27259857,\n",
              "        -0.74026221,  0.19427445,  0.36716642,  0.55715988, -0.8678825 ,\n",
              "        -0.98732948, -0.30309415,  0.44105193, -0.49243937],\n",
              "       [ 1.        , -0.41734159, -0.48772236, -0.59338101, -0.27259857,\n",
              "        -0.74026221,  1.28271368, -0.26581176,  0.55715988, -0.8678825 ,\n",
              "        -0.98732948, -0.30309415,  0.39642699, -1.2087274 ],\n",
              "       [ 1.        , -0.41675042, -0.48772236, -1.30687771, -0.27259857,\n",
              "        -0.83528384,  1.01630251, -0.80988851,  1.07773662, -0.75292215,\n",
              "        -1.10611514,  0.1130321 ,  0.41616284, -1.36151682],\n",
              "       [ 1.        , -0.41248185, -0.48772236, -1.30687771, -0.27259857,\n",
              "        -0.83528384,  1.22857665, -0.51117971,  1.07773662, -0.75292215,\n",
              "        -1.10611514,  0.1130321 ,  0.44105193, -1.02650148]])"
            ]
          },
          "metadata": {
            "tags": []
          },
          "execution_count": 10
        }
      ]
    },
    {
      "cell_type": "code",
      "metadata": {
        "colab": {
          "base_uri": "https://localhost:8080/"
        },
        "id": "NwgGTKP8Bhrs",
        "outputId": "8a43c039-f568-4425-97a1-43ac57f62314"
      },
      "source": [
        "###Spitting Data into Training and Testing Set\r\n",
        "\r\n",
        "from sklearn.model_selection import train_test_split\r\n",
        "\r\n",
        "X_train,X_test,Y_train,Y_test = train_test_split(X_norm,Y,test_size=0.2,random_state=5)\r\n",
        "print(X_train.shape)\r\n",
        "print(X_test.shape)\r\n",
        "print(Y_train.shape)\r\n",
        "print(Y_test.shape)"
      ],
      "execution_count": 11,
      "outputs": [
        {
          "output_type": "stream",
          "text": [
            "(404, 14)\n",
            "(102, 14)\n",
            "(404, 1)\n",
            "(102, 1)\n"
          ],
          "name": "stdout"
        }
      ]
    },
    {
      "cell_type": "code",
      "metadata": {
        "id": "kN6jpOy3BhuU"
      },
      "source": [
        "###Making the Regression Model\r\n",
        "\r\n",
        "##Initializing the Parameters\r\n",
        "def InitialParameters(x):\r\n",
        "    n = x.shape[1]\r\n",
        "    ### Start code here\r\n",
        "    ### initialize numpy with zeros of shape (n,1)\r\n",
        "    theta = np.zeros((n,1))\r\n",
        "    ### End code here\r\n",
        "    return theta"
      ],
      "execution_count": 15,
      "outputs": []
    },
    {
      "cell_type": "code",
      "metadata": {
        "id": "tDGDlGtaBhxJ"
      },
      "source": [
        "##Cost Function \r\n",
        "\r\n",
        "def CostFunction(x,y,theta):\r\n",
        "    ### Start code here\r\n",
        "    h = np.dot(x,theta)\r\n",
        "    m = float(x.shape[0])\r\n",
        "    J = (1/2*m)*np.sum((h-y)**2)\r\n",
        "    ### End code here\r\n",
        "    return J,h"
      ],
      "execution_count": 16,
      "outputs": []
    },
    {
      "cell_type": "code",
      "metadata": {
        "id": "XE5V3NQPBhzv"
      },
      "source": [
        "##Gradient Descent\r\n",
        "\r\n",
        "def GradDescent(x,y,theta,h):\r\n",
        "    ### Start code here\r\n",
        "    m = float(x.shape[0])\r\n",
        "    d_theta = (1/m)*np.dot(x.T,(h-y))\r\n",
        "    ### End code here\r\n",
        "    return d_theta"
      ],
      "execution_count": 17,
      "outputs": []
    },
    {
      "cell_type": "code",
      "metadata": {
        "id": "E6p-oqQVBh25"
      },
      "source": [
        "##Training the model\r\n",
        "\r\n",
        "alpha = 0.1\r\n",
        "itr = 50000\r\n",
        "\r\n",
        "theta = InitialParameters(X_train)\r\n",
        "\r\n",
        "J_history = []\r\n",
        "I_history = []\r\n",
        "\r\n",
        "for i in range(itr):\r\n",
        "    J,h = CostFunction(X_train,Y_train,theta) # Call cost funtion\r\n",
        "    J_history.append(J)\r\n",
        "    d_theta = GradDescent(X_train,Y_train,theta,h) # Call gradient Descent\r\n",
        "    theta = theta-alpha*d_theta # Update parameters\r\n",
        "    I_history.append(i)"
      ],
      "execution_count": 26,
      "outputs": []
    },
    {
      "cell_type": "code",
      "metadata": {
        "colab": {
          "base_uri": "https://localhost:8080/",
          "height": 276
        },
        "id": "YPqHJORaBh6U",
        "outputId": "8ea9fabc-7671-48fa-b9f2-6350165c04fb"
      },
      "source": [
        "###Checking for working of Gradient Descent\r\n",
        "\r\n",
        "J_history = np.array(J_history)\r\n",
        "J_history = J_history.reshape((50000,1))\r\n",
        "J_history.shape\r\n",
        "\r\n",
        "I_history = np.array(I_history)\r\n",
        "I_history = I_history.reshape((50000,1))\r\n",
        "I_history.shape\r\n",
        "\r\n",
        "plt.plot(I_history[:500],J_history[:500])\r\n",
        "plt.show()"
      ],
      "execution_count": 19,
      "outputs": [
        {
          "output_type": "display_data",
          "data": {
            "image/png": "[encoded data removed]",
            "text/plain": [
              "<Figure size 432x288 with 1 Axes>"
            ]
          },
          "metadata": {
            "tags": [],
            "needs_background": "light"
          }
        }
      ]
    },
    {
      "cell_type": "code",
      "metadata": {
        "colab": {
          "base_uri": "https://localhost:8080/"
        },
        "id": "cwvj9p0_Gduy",
        "outputId": "2d9f5953-520e-4597-8e67-e2524898dfd2"
      },
      "source": [
        "theta"
      ],
      "execution_count": 20,
      "outputs": [
        {
          "output_type": "execute_result",
          "data": {
            "text/plain": [
              "array([[ 2.24153206e+01],\n",
              "       [-1.12396854e+00],\n",
              "       [ 1.15106059e+00],\n",
              "       [ 7.50706160e-03],\n",
              "       [ 6.86467569e-01],\n",
              "       [-1.84723787e+00],\n",
              "       [ 2.39634474e+00],\n",
              "       [ 3.14639682e-02],\n",
              "       [-3.14088803e+00],\n",
              "       [ 3.16998313e+00],\n",
              "       [-2.21774509e+00],\n",
              "       [-2.05979006e+00],\n",
              "       [ 1.07158201e+00],\n",
              "       [-4.23813979e+00]])"
            ]
          },
          "metadata": {
            "tags": []
          },
          "execution_count": 20
        }
      ]
    },
    {
      "cell_type": "code",
      "metadata": {
        "id": "WFVrJYV6GdyL"
      },
      "source": [
        "def mape(y_true,y_pred):\r\n",
        "    return np.mean(np.abs((y_true - y_pred) / y_true)) *100"
      ],
      "execution_count": 22,
      "outputs": []
    },
    {
      "cell_type": "code",
      "metadata": {
        "colab": {
          "base_uri": "https://localhost:8080/"
        },
        "id": "4sYqtMO0Gmis",
        "outputId": "4ea37529-e4c5-42aa-ffd2-c9e63909242f"
      },
      "source": [
        "#Testing Set\r\n",
        "\r\n",
        "Y_test_predict= np.dot(X_test,theta)\r\n",
        "mse_test = np.square(np.subtract(Y_test,Y_test_predict)).mean()\r\n",
        "print(\"The model performance for testing set\")\r\n",
        "print(\"--------------------------------------\")\r\n",
        "print('MSE is',mse_test)\r\n",
        "print(\"MAPE:\",mape(Y_test,Y_test_predict))"
      ],
      "execution_count": 25,
      "outputs": [
        {
          "output_type": "stream",
          "text": [
            "The model performance for testing set\n",
            "--------------------------------------\n",
            "MSE is 20.869292183770803\n",
            "MAPE: 17.232298968410085\n"
          ],
          "name": "stdout"
        }
      ]
    }
  ]
}