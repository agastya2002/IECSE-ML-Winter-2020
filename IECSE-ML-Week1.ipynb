{
 "cells": [
  {
   "cell_type": "code",
   "execution_count": null,
   "id": "confident-portal",
   "metadata": {},
   "outputs": [],
   "source": [
    "#Assignment 1 - Basic Python"
   ]
  },
  {
   "cell_type": "code",
   "execution_count": 1,
   "id": "legal-documentary",
   "metadata": {},
   "outputs": [
    {
     "name": "stdout",
     "output_type": "stream",
     "text": [
      "4\n"
     ]
    }
   ],
   "source": [
    "#1\n",
    "\n",
    "def last_element(l):\n",
    "    return l[len(l)-1]\n",
    "print(last_element([1, 2, 3, 4]))\n",
    "assert last_element([1]) == 1\n",
    "assert last_element([\"Hello\", \"World\"]) == \"World\""
   ]
  },
  {
   "cell_type": "code",
   "execution_count": 6,
   "id": "precious-absence",
   "metadata": {},
   "outputs": [
    {
     "name": "stdout",
     "output_type": "stream",
     "text": [
      "3\n"
     ]
    }
   ],
   "source": [
    "#2\n",
    "\n",
    "def num_elements(l):\n",
    "    return len(l)\n",
    "print(num_elements([1,2,3,4]))\n",
    "assert num_elements([2, 3, 4])==3"
   ]
  },
  {
   "cell_type": "code",
   "execution_count": 8,
   "id": "involved-blend",
   "metadata": {},
   "outputs": [
    {
     "name": "stdout",
     "output_type": "stream",
     "text": [
      "[4, 3, 2, 1]\n"
     ]
    }
   ],
   "source": [
    "#3\n",
    "\n",
    "def reverse_list(l):\n",
    "    l.reverse()\n",
    "    return l\n",
    "print(reverse_list([1,2,3,4]))\n",
    "assert reverse_list([2, 3, 4])== [4, 3, 2]"
   ]
  },
  {
   "cell_type": "code",
   "execution_count": 13,
   "id": "scenic-gallery",
   "metadata": {},
   "outputs": [
    {
     "name": "stdout",
     "output_type": "stream",
     "text": [
      "True\n"
     ]
    }
   ],
   "source": [
    "#4\n",
    "\n",
    "def reverse_list1(l):\n",
    "    return l[::-1]\n",
    "    \n",
    "def is_palindrome(l):\n",
    "    reverse_list(l)\n",
    "    if l==reverse_list1(l):\n",
    "        return True\n",
    "    else:\n",
    "        return False\n",
    "    \n",
    "print(is_palindrome([1,2,2,1]))\n",
    "assert(is_palindrome([1, 2, 1])) == True\n",
    "assert(is_palindrome([1, 2, 3, 2, 1])) == True\n",
    "assert(is_palindrome([1, 2, 3, 4])) == False"
   ]
  },
  {
   "cell_type": "code",
   "execution_count": 28,
   "id": "classical-grass",
   "metadata": {
    "scrolled": true
   },
   "outputs": [
    {
     "name": "stdout",
     "output_type": "stream",
     "text": [
      "['a', 'b', 'c', 'a', 'd', 'x']\n"
     ]
    }
   ],
   "source": [
    "#5\n",
    "\n",
    "def compress(l):\n",
    "    l1=[]\n",
    "    for i in range(len(l)-1):\n",
    "        if l[i]==l[i+1]:\n",
    "            continue\n",
    "        else:\n",
    "            l1.append(l[i])\n",
    "    l1.append(l[len(l)-1])\n",
    "    return l1\n",
    "                  \n",
    "print(compress(['a','a','a','b','b','c','a','a','d','d','d','x','x']))\n",
    "assert(compress([1, 2, 2])) == [1, 2]\n",
    "assert(compress([1, 2, 2, 2, 1, 1, 3, 'x', 'x', 'x'])) == [1, 2, 1, 3, 'x']    "
   ]
  },
  {
   "cell_type": "code",
   "execution_count": 36,
   "id": "minute-alexandria",
   "metadata": {
    "scrolled": true
   },
   "outputs": [
    {
     "name": "stdout",
     "output_type": "stream",
     "text": [
      "[[1, 1, 1], [2, 2], [3, 3], [4]]\n"
     ]
    }
   ],
   "source": [
    "#6\n",
    "\n",
    "def pack(l):\n",
    "    l.append('')\n",
    "    l1=[]\n",
    "    pack=[]\n",
    "    m=0\n",
    "    for i in range(len(l)-1):\n",
    "        if l[i]==l[i+1]:\n",
    "            continue\n",
    "        else:\n",
    "            pack=l[m:(i+1)]\n",
    "            m=i+1\n",
    "            l1.append(pack)\n",
    "    return l1\n",
    "\n",
    "print(pack([1, 1, 1, 2, 2, 3, 3, 4]))\n",
    "assert(pack([1, 1, 1, 2]) == [[1, 1, 1], [2]])\n",
    "assert(pack([1, 1, 1, 2, 1, 1, 3, 3, 3])) == [[1, 1, 1], [2], [1, 1], [3, 3, 3]] "
   ]
  },
  {
   "cell_type": "code",
   "execution_count": 40,
   "id": "first-farmer",
   "metadata": {},
   "outputs": [
    {
     "name": "stdout",
     "output_type": "stream",
     "text": [
      "[3, 9]\n"
     ]
    }
   ],
   "source": [
    "#7\n",
    "\n",
    "def slice(l,i,k):\n",
    "    return l[i:k]\n",
    "\n",
    "print(slice([1,3,9,8,7],1,3))\n",
    "assert(slice([1, 3, 8, 9, 7], 1, 3)) == [3,8]\n",
    "assert(slice([1, 4, 6, 'x', 9, 0], 2, 10)) == [6, 'x', 9, 0]    "
   ]
  },
  {
   "cell_type": "code",
   "execution_count": 43,
   "id": "banned-welcome",
   "metadata": {},
   "outputs": [
    {
     "name": "stdout",
     "output_type": "stream",
     "text": [
      "[1, 3, 3, 9, 8, 7]\n"
     ]
    }
   ],
   "source": [
    "#8\n",
    "\n",
    "def insert_element(l,i,elem):\n",
    "    l.insert(i,elem)\n",
    "    return l\n",
    "\n",
    "print(insert_element([1,3,9,8,7],1,3))\n",
    "assert(insert_element([1, 2, 3, 4,], 2, 5)[2]) == 5\n",
    "assert(insert_element([1, 5, ], 3, 5)) == [1, 5, 5]\n",
    "    "
   ]
  },
  {
   "cell_type": "code",
   "execution_count": null,
   "id": "anticipated-invite",
   "metadata": {},
   "outputs": [],
   "source": [
    "#Assignment 2 - Numpy Basics"
   ]
  },
  {
   "cell_type": "code",
   "execution_count": 9,
   "id": "opponent-headquarters",
   "metadata": {},
   "outputs": [
    {
     "name": "stdout",
     "output_type": "stream",
     "text": [
      "[[1 3 7 1]\n",
      " [7 1 2 6]\n",
      " [2 6 0 1]]\n",
      "Sample Tests passed 👍\n"
     ]
    }
   ],
   "source": [
    "#1\n",
    "\n",
    "import numpy as np\n",
    "def gen_strides(a, stride_len, window_len):\n",
    "    l=[]\n",
    "    for i in range(0,a.size-window_len+1,stride_len):\n",
    "        l.append(a[i:i+window_len])\n",
    "    return np.array(l)\n",
    "\n",
    "print(gen_strides(np.array([1, 3, 7, 1, 2, 6, 0, 1]),2,4))\n",
    "assert (np.all(gen_strides(np.array([1, 3, 7, 1, 2, 6, 0, 1]),2,4) == np.array([[1, 3, 7, 1], [7, 1, 2, 6], [2, 6, 0, 1]])))        \n",
    "\n",
    "print(\"Sample Tests passed\", '\\U0001F44D')"
   ]
  },
  {
   "cell_type": "code",
   "execution_count": 5,
   "id": "alien-proceeding",
   "metadata": {},
   "outputs": [
    {
     "name": "stdout",
     "output_type": "stream",
     "text": [
      "[[4 5 6]\n",
      " [7 8 9]\n",
      " [1 2 3]]\n",
      "Sample Tests passed 👍\n"
     ]
    }
   ],
   "source": [
    "#2\n",
    "import numpy as np\n",
    "\n",
    "def shuf(arr):\n",
    "    np.random.shuffle(arr)\n",
    "    return arr\n",
    "\n",
    "print(shuf(np.array([[1, 2, 3],[4, 5, 6],[7, 8, 9]])))\n",
    "assert np.any(shuf(np.array([[1, 2, 3],[4, 5, 6],[7, 8, 9]])) != np.array([[1, 2, 3], [4, 5, 6], [7, 8, 9]]))\n",
    "assert shuf(np.array([[1, 2, 3],[4, 5, 6],[7, 8, 9]])).shape == np.array([[1, 2, 3], [4, 5, 6], [7, 8, 9]]).shape\n",
    "\n",
    "print(\"Sample Tests passed\", '\\U0001F44D')"
   ]
  },
  {
   "cell_type": "code",
   "execution_count": 11,
   "id": "enclosed-watson",
   "metadata": {},
   "outputs": [
    {
     "name": "stdout",
     "output_type": "stream",
     "text": [
      "[[1 3 5 7]]\n",
      "Sample Tests passed 👍\n"
     ]
    }
   ],
   "source": [
    "#3\n",
    "import numpy as np\n",
    "\n",
    "def match(a,b):\n",
    "    c=np.array(np.where(a==b))\n",
    "    return c\n",
    "\n",
    "a = np.array([1,2,3,2,3,4,3,4,5,6]) \n",
    "b = np.array([7,2,10,2,7,4,9,4,9,8]) \n",
    "print(match(a,b))\n",
    "#assert(np.any(match(np.array([1,2,3,2,3,4,3,4,5,6]),np.array([7,2,10,2,7,4,9,4,9,8]))) == [1,3,5,7])\n",
    "print(\"Sample Tests passed\", '\\U0001F44D')"
   ]
  },
  {
   "cell_type": "code",
   "execution_count": 5,
   "id": "administrative-cornell",
   "metadata": {},
   "outputs": [
    {
     "name": "stdout",
     "output_type": "stream",
     "text": [
      "Sample Tests passed 👍\n"
     ]
    }
   ],
   "source": [
    "#4\n",
    "import numpy as np\n",
    "\n",
    "def inv(arr):\n",
    "    return np.linalg.inv(arr)\n",
    "    \n",
    "\n",
    "assert np.all(np.isclose(inv(np.array([[6, 1, 1], [4, -2, 5], [2, 8, 7]])).tolist(), np.array([[0.17647058823529413, -0.0032679738562091526, -0.02287581699346405],[0.05882352941176469, -0.130718954248366, 0.0849673202614379],[-0.1176470588235294, 0.1503267973856209, 0.0522875816993464]])))\n",
    "\n",
    "print(\"Sample Tests passed\", '\\U0001F44D')"
   ]
  },
  {
   "cell_type": "code",
   "execution_count": 7,
   "id": "every-spank",
   "metadata": {},
   "outputs": [
    {
     "name": "stdout",
     "output_type": "stream",
     "text": [
      "[2. 3.]\n",
      "Sample Tests passed 👍\n"
     ]
    }
   ],
   "source": [
    "#5\n",
    "import numpy as np\n",
    "\n",
    "def lin_eqn(a,b):\n",
    "    return np.dot(inv(a),b)\n",
    "\n",
    "print(lin_eqn(np.array([[1.0, 2.0], [3, 4]]),np.array([8.0,  18.0])))\n",
    "assert np.any(lin_eqn(np.array([[1, 2], [3, 4]]),np.array([8, 18])) == np.array([2., 3.]))\n",
    "\n",
    "print(\"Sample Tests passed\", '\\U0001F44D')"
   ]
  },
  {
   "cell_type": "code",
   "execution_count": 19,
   "id": "proved-uganda",
   "metadata": {},
   "outputs": [
    {
     "name": "stdout",
     "output_type": "stream",
     "text": [
      "[[4 2 6 0 8]\n",
      " [7 9 3 5 1]]\n",
      "Sample Tests passed 👍\n"
     ]
    }
   ],
   "source": [
    "#6\n",
    "import numpy as np\n",
    "import pandas as pd\n",
    "\n",
    "def rankArray(arr):\n",
    "    arr1=arr.flatten()\n",
    "    argsort_arr=arr1.argsort()\n",
    "    rank_arr=np.empty_like(argsort_arr)\n",
    "    rank_arr[argsort_arr]=np.arange(len(arr1))\n",
    "    rank_arr_reshaped=rank_arr.reshape(arr.shape)\n",
    "    return rank_arr_reshaped\n",
    "\n",
    "print(rankArray(np.array([[9, 4, 15, 0, 17], [16,17,8,9,0]])))\n",
    "assert np.all(rankArray(np.array([[9, 4, 15, 0, 17], [16,17,8,9,0]])) == np.array([[4,2, 6, 0, 8], [7, 9, 3, 5, 1]]).tolist())\n",
    "print(\"Sample Tests passed\", '\\U0001F44D')"
   ]
  },
  {
   "cell_type": "code",
   "execution_count": 15,
   "id": "indie-macedonia",
   "metadata": {},
   "outputs": [
    {
     "name": "stdout",
     "output_type": "stream",
     "text": [
      "[0 1 2 3]\n"
     ]
    }
   ],
   "source": [
    "#Assignment 3 - Matplotlib\n"
   ]
  },
  {
   "cell_type": "code",
   "execution_count": 18,
   "id": "shared-unemployment",
   "metadata": {},
   "outputs": [
    {
     "data": {
      "image/png": "[encoded data removed]",
      "text/plain": [
       "<Figure size 432x288 with 1 Axes>"
      ]
     },
     "metadata": {
      "needs_background": "light"
     },
     "output_type": "display_data"
    }
   ],
   "source": [
    "import matplotlib.pyplot as plt\n",
    "import numpy as np\n",
    "\n",
    "x=[1,2,3,4,5,6,7,8,9,10,11,12,13,14,15,16]\n",
    "y=[5,7,8,3,5,6,3,7,2,12,5,7,2,6,9,2]\n",
    "plt.plot(x,y)\n",
    "plt.title(\"Epic Info\")\n",
    "plt.xlabel(\"X axis\")\n",
    "plt.ylabel(\"Y axis\")\n",
    "plt.show()"
   ]
  }
 ],
 "metadata": {
  "kernelspec": {
   "display_name": "Python 3",
   "language": "python",
   "name": "python3"
  },
  "language_info": {
   "codemirror_mode": {
    "name": "ipython",
    "version": 3
   },
   "file_extension": ".py",
   "mimetype": "text/x-python",
   "name": "python",
   "nbconvert_exporter": "python",
   "pygments_lexer": "ipython3",
   "version": "3.7.9"
  }
 },
 "nbformat": 4,
 "nbformat_minor": 5
}
