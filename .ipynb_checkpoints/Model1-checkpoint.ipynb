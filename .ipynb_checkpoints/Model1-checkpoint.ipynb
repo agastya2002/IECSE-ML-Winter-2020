{
 "cells": [
  {
   "cell_type": "code",
   "execution_count": 13,
   "metadata": {},
   "outputs": [
    {
     "name": "stderr",
     "output_type": "stream",
     "text": [
      " * Running on http://localhost:5000/ (Press CTRL+C to quit)\n",
      "127.0.0.1 - - [26/Apr/2021 13:58:38] \"\u001b[37mGET / HTTP/1.1\u001b[0m\" 200 -\n",
      "127.0.0.1 - - [26/Apr/2021 13:58:38] \"\u001b[33mGET /favicon.ico HTTP/1.1\u001b[0m\" 404 -\n"
     ]
    }
   ],
   "source": [
    "\n",
    "\n",
    "from flask import Flask\n",
    "from werkzeug.serving import run_simple\n",
    "\n",
    "app = Flask(__name__)\n",
    "app.debug = True\n",
    "\n",
    "@app.route('/')\n",
    "def hello_world():\n",
    "    return 'Hello World!'\n",
    "\n",
    "if __name__ == '__main__':\n",
    "    from werkzeug.serving import run_simple\n",
    "    run_simple('localhost', 5000,app)\n",
    "    "
   ]
  },
  {
   "cell_type": "code",
   "execution_count": 239,
   "metadata": {},
   "outputs": [],
   "source": [
    "from tensorflow import keras\n",
    "from tensorflow.keras.models import Sequential\n",
    "from tensorflow.keras.layers import Dense,Activation\n",
    "from sklearn.model_selection import train_test_split\n",
    "from tensorflow.keras.callbacks import EarlyStopping\n",
    "import pandas as pd\n",
    "import os\n",
    "import requests\n",
    "import numpy as np\n",
    "from sklearn import metrics"
   ]
  },
  {
   "cell_type": "code",
   "execution_count": 240,
   "metadata": {},
   "outputs": [],
   "source": [
    "df = pd.read_csv('https://raw.githubusercontent.com/shourya2002-geek/ML-and-Data-analytics/Datasets/auto-mpg.csv',na_values=['NA','?'])"
   ]
  },
  {
   "cell_type": "code",
   "execution_count": 241,
   "metadata": {},
   "outputs": [
    {
     "data": {
      "text/plain": [
       "mpg             0\n",
       "cylinders       0\n",
       "displacement    0\n",
       "horsepower      6\n",
       "weight          0\n",
       "acceleration    0\n",
       "model year      0\n",
       "origin          0\n",
       "car name        0\n",
       "dtype: int64"
      ]
     },
     "execution_count": 241,
     "metadata": {},
     "output_type": "execute_result"
    }
   ],
   "source": [
    "df.isnull().sum()"
   ]
  },
  {
   "cell_type": "code",
   "execution_count": 242,
   "metadata": {},
   "outputs": [],
   "source": [
    "df['horsepower']=df['horsepower'].fillna(df['horsepower'].median())"
   ]
  },
  {
   "cell_type": "code",
   "execution_count": 243,
   "metadata": {
    "scrolled": true
   },
   "outputs": [
    {
     "data": {
      "text/html": [
       "<div>\n",
       "<style scoped>\n",
       "    .dataframe tbody tr th:only-of-type {\n",
       "        vertical-align: middle;\n",
       "    }\n",
       "\n",
       "    .dataframe tbody tr th {\n",
       "        vertical-align: top;\n",
       "    }\n",
       "\n",
       "    .dataframe thead th {\n",
       "        text-align: right;\n",
       "    }\n",
       "</style>\n",
       "<table border=\"1\" class=\"dataframe\">\n",
       "  <thead>\n",
       "    <tr style=\"text-align: right;\">\n",
       "      <th></th>\n",
       "      <th>mpg</th>\n",
       "      <th>cylinders</th>\n",
       "      <th>displacement</th>\n",
       "      <th>horsepower</th>\n",
       "      <th>weight</th>\n",
       "      <th>acceleration</th>\n",
       "      <th>model year</th>\n",
       "      <th>origin</th>\n",
       "      <th>car name</th>\n",
       "    </tr>\n",
       "  </thead>\n",
       "  <tbody>\n",
       "    <tr>\n",
       "      <th>0</th>\n",
       "      <td>18.0</td>\n",
       "      <td>8</td>\n",
       "      <td>307.0</td>\n",
       "      <td>130.0</td>\n",
       "      <td>3504</td>\n",
       "      <td>12.0</td>\n",
       "      <td>70</td>\n",
       "      <td>1</td>\n",
       "      <td>chevrolet chevelle malibu</td>\n",
       "    </tr>\n",
       "    <tr>\n",
       "      <th>1</th>\n",
       "      <td>15.0</td>\n",
       "      <td>8</td>\n",
       "      <td>350.0</td>\n",
       "      <td>165.0</td>\n",
       "      <td>3693</td>\n",
       "      <td>11.5</td>\n",
       "      <td>70</td>\n",
       "      <td>1</td>\n",
       "      <td>buick skylark 320</td>\n",
       "    </tr>\n",
       "    <tr>\n",
       "      <th>2</th>\n",
       "      <td>18.0</td>\n",
       "      <td>8</td>\n",
       "      <td>318.0</td>\n",
       "      <td>150.0</td>\n",
       "      <td>3436</td>\n",
       "      <td>11.0</td>\n",
       "      <td>70</td>\n",
       "      <td>1</td>\n",
       "      <td>plymouth satellite</td>\n",
       "    </tr>\n",
       "    <tr>\n",
       "      <th>3</th>\n",
       "      <td>16.0</td>\n",
       "      <td>8</td>\n",
       "      <td>304.0</td>\n",
       "      <td>150.0</td>\n",
       "      <td>3433</td>\n",
       "      <td>12.0</td>\n",
       "      <td>70</td>\n",
       "      <td>1</td>\n",
       "      <td>amc rebel sst</td>\n",
       "    </tr>\n",
       "    <tr>\n",
       "      <th>4</th>\n",
       "      <td>17.0</td>\n",
       "      <td>8</td>\n",
       "      <td>302.0</td>\n",
       "      <td>140.0</td>\n",
       "      <td>3449</td>\n",
       "      <td>10.5</td>\n",
       "      <td>70</td>\n",
       "      <td>1</td>\n",
       "      <td>ford torino</td>\n",
       "    </tr>\n",
       "  </tbody>\n",
       "</table>\n",
       "</div>"
      ],
      "text/plain": [
       "    mpg  cylinders  displacement  horsepower  weight  acceleration  \\\n",
       "0  18.0          8         307.0       130.0    3504          12.0   \n",
       "1  15.0          8         350.0       165.0    3693          11.5   \n",
       "2  18.0          8         318.0       150.0    3436          11.0   \n",
       "3  16.0          8         304.0       150.0    3433          12.0   \n",
       "4  17.0          8         302.0       140.0    3449          10.5   \n",
       "\n",
       "   model year  origin                   car name  \n",
       "0          70       1  chevrolet chevelle malibu  \n",
       "1          70       1          buick skylark 320  \n",
       "2          70       1         plymouth satellite  \n",
       "3          70       1              amc rebel sst  \n",
       "4          70       1                ford torino  "
      ]
     },
     "execution_count": 243,
     "metadata": {},
     "output_type": "execute_result"
    }
   ],
   "source": [
    "df.head()"
   ]
  },
  {
   "cell_type": "code",
   "execution_count": 244,
   "metadata": {},
   "outputs": [],
   "source": [
    "df1=df.drop(['car name'],axis=1)"
   ]
  },
  {
   "cell_type": "code",
   "execution_count": 268,
   "metadata": {},
   "outputs": [
    {
     "data": {
      "text/plain": [
       "0    18.0\n",
       "1    15.0\n",
       "2    18.0\n",
       "3    16.0\n",
       "4    17.0\n",
       "Name: mpg, dtype: float64"
      ]
     },
     "execution_count": 268,
     "metadata": {},
     "output_type": "execute_result"
    }
   ],
   "source": [
    "\n",
    "X = df1.iloc[:,1:]\n",
    "Y = df1.iloc[:,0]\n",
    "\n",
    "X_train,X_valid,Y_train,Y_valid = train_test_split(X,Y,test_size=0.25,random_state=42)\n",
    "df1.isnull().sum()\n",
    "\n",
    "Y.head()\n",
    "\n"
   ]
  },
  {
   "cell_type": "code",
   "execution_count": 246,
   "metadata": {},
   "outputs": [],
   "source": [
    "model = Sequential()"
   ]
  },
  {
   "cell_type": "code",
   "execution_count": 247,
   "metadata": {},
   "outputs": [
    {
     "name": "stdout",
     "output_type": "stream",
     "text": [
      "Epoch 1/1000\n",
      "10/10 - 0s - loss: 149137.9688 - val_loss: 81653.6016\n",
      "Epoch 2/1000\n",
      "10/10 - 0s - loss: 53142.5703 - val_loss: 21205.5156\n",
      "Epoch 3/1000\n",
      "10/10 - 0s - loss: 11934.8643 - val_loss: 3338.9778\n",
      "Epoch 4/1000\n",
      "10/10 - 0s - loss: 1435.0287 - val_loss: 354.9787\n",
      "Epoch 5/1000\n",
      "10/10 - 0s - loss: 497.4808 - val_loss: 686.5349\n",
      "Epoch 6/1000\n",
      "10/10 - 0s - loss: 712.2141 - val_loss: 529.3820\n",
      "Epoch 7/1000\n",
      "10/10 - 0s - loss: 417.2958 - val_loss: 248.9621\n",
      "Epoch 8/1000\n",
      "10/10 - 0s - loss: 236.9932 - val_loss: 230.4646\n",
      "Epoch 9/1000\n",
      "10/10 - 0s - loss: 241.6020 - val_loss: 233.5307\n",
      "Epoch 10/1000\n",
      "10/10 - 0s - loss: 229.4397 - val_loss: 208.1812\n",
      "Epoch 11/1000\n",
      "10/10 - 0s - loss: 213.0734 - val_loss: 198.5707\n",
      "Epoch 12/1000\n",
      "10/10 - 0s - loss: 208.3281 - val_loss: 193.3043\n",
      "Epoch 13/1000\n",
      "10/10 - 0s - loss: 204.2701 - val_loss: 189.4209\n",
      "Epoch 14/1000\n",
      "10/10 - 0s - loss: 200.7373 - val_loss: 185.8502\n",
      "Epoch 15/1000\n",
      "10/10 - 0s - loss: 197.8299 - val_loss: 183.1266\n",
      "Epoch 16/1000\n",
      "10/10 - 0s - loss: 195.3030 - val_loss: 180.2566\n",
      "Epoch 17/1000\n",
      "10/10 - 0s - loss: 193.4202 - val_loss: 178.5144\n",
      "Epoch 18/1000\n",
      "10/10 - 0s - loss: 191.6267 - val_loss: 174.1023\n",
      "Epoch 19/1000\n",
      "10/10 - 0s - loss: 187.3144 - val_loss: 172.9158\n",
      "Epoch 20/1000\n",
      "10/10 - 0s - loss: 185.8520 - val_loss: 170.7959\n",
      "Epoch 21/1000\n",
      "10/10 - 0s - loss: 183.3872 - val_loss: 166.1922\n",
      "Epoch 22/1000\n",
      "10/10 - 0s - loss: 180.2702 - val_loss: 163.4217\n",
      "Epoch 23/1000\n",
      "10/10 - 0s - loss: 178.0741 - val_loss: 160.6054\n",
      "Epoch 24/1000\n",
      "10/10 - 0s - loss: 175.5176 - val_loss: 159.0437\n",
      "Epoch 25/1000\n",
      "10/10 - 0s - loss: 172.8972 - val_loss: 156.6093\n",
      "Epoch 26/1000\n",
      "10/10 - 0s - loss: 170.7097 - val_loss: 152.7593\n",
      "Epoch 27/1000\n",
      "10/10 - 0s - loss: 168.3469 - val_loss: 151.1955\n",
      "Epoch 28/1000\n",
      "10/10 - 0s - loss: 165.7461 - val_loss: 147.1897\n",
      "Epoch 29/1000\n",
      "10/10 - 0s - loss: 162.7216 - val_loss: 144.9091\n",
      "Epoch 30/1000\n",
      "10/10 - 0s - loss: 160.8666 - val_loss: 143.7308\n",
      "Epoch 31/1000\n",
      "10/10 - 0s - loss: 157.2759 - val_loss: 139.4422\n",
      "Epoch 32/1000\n",
      "10/10 - 0s - loss: 155.0601 - val_loss: 136.5618\n",
      "Epoch 33/1000\n",
      "10/10 - 0s - loss: 152.7897 - val_loss: 134.4970\n",
      "Epoch 34/1000\n",
      "10/10 - 0s - loss: 149.7052 - val_loss: 132.3161\n",
      "Epoch 35/1000\n",
      "10/10 - 0s - loss: 147.2247 - val_loss: 129.3498\n",
      "Epoch 36/1000\n",
      "10/10 - 0s - loss: 144.6344 - val_loss: 126.1357\n",
      "Epoch 37/1000\n",
      "10/10 - 0s - loss: 142.0660 - val_loss: 124.0999\n",
      "Epoch 38/1000\n",
      "10/10 - 0s - loss: 139.4658 - val_loss: 121.6330\n",
      "Epoch 39/1000\n",
      "10/10 - 0s - loss: 137.7240 - val_loss: 118.7170\n",
      "Epoch 40/1000\n",
      "10/10 - 0s - loss: 134.9848 - val_loss: 117.2053\n",
      "Epoch 41/1000\n",
      "10/10 - 0s - loss: 132.5296 - val_loss: 113.7347\n",
      "Epoch 42/1000\n",
      "10/10 - 0s - loss: 129.9869 - val_loss: 110.8703\n",
      "Epoch 43/1000\n",
      "10/10 - 0s - loss: 127.4318 - val_loss: 109.2433\n",
      "Epoch 44/1000\n",
      "10/10 - 0s - loss: 125.7281 - val_loss: 108.8115\n",
      "Epoch 45/1000\n",
      "10/10 - 0s - loss: 122.5275 - val_loss: 103.4945\n",
      "Epoch 46/1000\n",
      "10/10 - 0s - loss: 120.5715 - val_loss: 101.5451\n",
      "Epoch 47/1000\n",
      "10/10 - 0s - loss: 118.1008 - val_loss: 100.8541\n",
      "Epoch 48/1000\n",
      "10/10 - 0s - loss: 116.0272 - val_loss: 96.5415\n",
      "Epoch 49/1000\n",
      "10/10 - 0s - loss: 113.4656 - val_loss: 94.8107\n",
      "Epoch 50/1000\n",
      "10/10 - 0s - loss: 111.2204 - val_loss: 92.4786\n",
      "Epoch 51/1000\n",
      "10/10 - 0s - loss: 109.3729 - val_loss: 92.2788\n",
      "Epoch 52/1000\n",
      "10/10 - 0s - loss: 107.2363 - val_loss: 87.9705\n",
      "Epoch 53/1000\n",
      "10/10 - 0s - loss: 105.7540 - val_loss: 85.0680\n",
      "Epoch 54/1000\n",
      "10/10 - 0s - loss: 102.7344 - val_loss: 87.7960\n",
      "Epoch 55/1000\n",
      "10/10 - 0s - loss: 100.6126 - val_loss: 81.7101\n",
      "Epoch 56/1000\n",
      "10/10 - 0s - loss: 99.2903 - val_loss: 78.5588\n",
      "Epoch 57/1000\n",
      "10/10 - 0s - loss: 96.6209 - val_loss: 80.6967\n",
      "Epoch 58/1000\n",
      "10/10 - 0s - loss: 94.3525 - val_loss: 76.0586\n",
      "Epoch 59/1000\n",
      "10/10 - 0s - loss: 92.3670 - val_loss: 72.9520\n",
      "Epoch 60/1000\n",
      "10/10 - 0s - loss: 90.2056 - val_loss: 73.6016\n",
      "Epoch 61/1000\n",
      "10/10 - 0s - loss: 88.1646 - val_loss: 69.5653\n",
      "Epoch 62/1000\n",
      "10/10 - 0s - loss: 86.3649 - val_loss: 67.4824\n",
      "Epoch 63/1000\n",
      "10/10 - 0s - loss: 84.6691 - val_loss: 66.3040\n",
      "Epoch 64/1000\n",
      "10/10 - 0s - loss: 82.7365 - val_loss: 64.5131\n",
      "Epoch 65/1000\n",
      "10/10 - 0s - loss: 81.0818 - val_loss: 63.0914\n",
      "Epoch 66/1000\n",
      "10/10 - 0s - loss: 80.4930 - val_loss: 63.1337\n",
      "Epoch 67/1000\n",
      "10/10 - 0s - loss: 77.6413 - val_loss: 59.2317\n",
      "Epoch 68/1000\n",
      "10/10 - 0s - loss: 76.3109 - val_loss: 59.3451\n",
      "Epoch 69/1000\n",
      "10/10 - 0s - loss: 74.5463 - val_loss: 57.7573\n",
      "Epoch 70/1000\n",
      "10/10 - 0s - loss: 72.9646 - val_loss: 56.9123\n",
      "Epoch 71/1000\n",
      "10/10 - 0s - loss: 71.4817 - val_loss: 53.9071\n",
      "Epoch 72/1000\n",
      "10/10 - 0s - loss: 69.7555 - val_loss: 52.1619\n",
      "Epoch 73/1000\n",
      "10/10 - 0s - loss: 68.5773 - val_loss: 50.9485\n",
      "Epoch 74/1000\n",
      "10/10 - 0s - loss: 66.7753 - val_loss: 51.2711\n",
      "Epoch 75/1000\n",
      "10/10 - 0s - loss: 66.1385 - val_loss: 50.0628\n",
      "Epoch 76/1000\n",
      "10/10 - 0s - loss: 64.7715 - val_loss: 46.9671\n",
      "Epoch 77/1000\n",
      "10/10 - 0s - loss: 63.8146 - val_loss: 48.7922\n",
      "Epoch 78/1000\n",
      "10/10 - 0s - loss: 61.8309 - val_loss: 44.1521\n",
      "Epoch 79/1000\n",
      "10/10 - 0s - loss: 61.2629 - val_loss: 46.2800\n",
      "Epoch 80/1000\n",
      "10/10 - 0s - loss: 59.7148 - val_loss: 42.8433\n",
      "Epoch 81/1000\n",
      "10/10 - 0s - loss: 58.5460 - val_loss: 44.1296\n",
      "Epoch 82/1000\n",
      "10/10 - 0s - loss: 57.2919 - val_loss: 41.4829\n",
      "Epoch 83/1000\n",
      "10/10 - 0s - loss: 56.2173 - val_loss: 41.7756\n",
      "Epoch 84/1000\n",
      "10/10 - 0s - loss: 55.4849 - val_loss: 40.2727\n",
      "Epoch 85/1000\n",
      "10/10 - 0s - loss: 55.0824 - val_loss: 39.7677\n",
      "Epoch 86/1000\n",
      "10/10 - 0s - loss: 53.5752 - val_loss: 39.1845\n",
      "Epoch 87/1000\n",
      "10/10 - 0s - loss: 52.9779 - val_loss: 37.7123\n",
      "Epoch 88/1000\n",
      "10/10 - 0s - loss: 51.7145 - val_loss: 37.0578\n",
      "Epoch 89/1000\n",
      "10/10 - 0s - loss: 50.8671 - val_loss: 36.5911\n",
      "Epoch 90/1000\n",
      "10/10 - 0s - loss: 49.9826 - val_loss: 36.6333\n",
      "Epoch 91/1000\n",
      "10/10 - 0s - loss: 49.4079 - val_loss: 35.2722\n",
      "Epoch 92/1000\n",
      "10/10 - 0s - loss: 49.0495 - val_loss: 33.3479\n",
      "Epoch 93/1000\n",
      "10/10 - 0s - loss: 47.6260 - val_loss: 35.4670\n",
      "Epoch 94/1000\n",
      "10/10 - 0s - loss: 47.0798 - val_loss: 33.5106\n",
      "Epoch 95/1000\n",
      "10/10 - 0s - loss: 47.1049 - val_loss: 32.5771\n",
      "Epoch 96/1000\n",
      "10/10 - 0s - loss: 45.7502 - val_loss: 32.9776\n",
      "Epoch 97/1000\n",
      "10/10 - 0s - loss: 44.7937 - val_loss: 30.7239\n",
      "Epoch 98/1000\n",
      "10/10 - 0s - loss: 44.3898 - val_loss: 32.1834\n",
      "Epoch 99/1000\n",
      "10/10 - 0s - loss: 44.0314 - val_loss: 30.9214\n",
      "Epoch 100/1000\n",
      "10/10 - 0s - loss: 43.0127 - val_loss: 30.8894\n",
      "Epoch 101/1000\n",
      "10/10 - 0s - loss: 42.3516 - val_loss: 29.5516\n",
      "Epoch 102/1000\n",
      "10/10 - 0s - loss: 41.9101 - val_loss: 29.6131\n",
      "Epoch 103/1000\n",
      "10/10 - 0s - loss: 41.3772 - val_loss: 29.3603\n",
      "Epoch 104/1000\n",
      "10/10 - 0s - loss: 41.2266 - val_loss: 28.9082\n",
      "Epoch 105/1000\n",
      "10/10 - 0s - loss: 40.3169 - val_loss: 29.6705\n",
      "Epoch 106/1000\n",
      "10/10 - 0s - loss: 40.2383 - val_loss: 27.9834\n",
      "Epoch 107/1000\n",
      "10/10 - 0s - loss: 39.4811 - val_loss: 28.0495\n",
      "Epoch 108/1000\n",
      "10/10 - 0s - loss: 39.0312 - val_loss: 28.1642\n",
      "Epoch 109/1000\n",
      "10/10 - 0s - loss: 38.5488 - val_loss: 27.6832\n",
      "Epoch 110/1000\n",
      "10/10 - 0s - loss: 38.3132 - val_loss: 26.9839\n",
      "Epoch 111/1000\n",
      "10/10 - 0s - loss: 37.9240 - val_loss: 27.7306\n",
      "Epoch 112/1000\n",
      "10/10 - 0s - loss: 37.4499 - val_loss: 28.3308\n",
      "Epoch 113/1000\n",
      "10/10 - 0s - loss: 36.9783 - val_loss: 26.0922\n",
      "Epoch 114/1000\n",
      "10/10 - 0s - loss: 37.0368 - val_loss: 26.0011\n",
      "Epoch 115/1000\n",
      "10/10 - 0s - loss: 37.0026 - val_loss: 26.2553\n",
      "Epoch 116/1000\n",
      "10/10 - 0s - loss: 36.2324 - val_loss: 24.7039\n",
      "Epoch 117/1000\n",
      "10/10 - 0s - loss: 36.1799 - val_loss: 25.7024\n",
      "Epoch 118/1000\n",
      "10/10 - 0s - loss: 35.7645 - val_loss: 24.7559\n",
      "Epoch 119/1000\n",
      "10/10 - 0s - loss: 35.4849 - val_loss: 26.1913\n",
      "Epoch 120/1000\n",
      "10/10 - 0s - loss: 34.6480 - val_loss: 24.7196\n",
      "Epoch 121/1000\n",
      "10/10 - 0s - loss: 34.7858 - val_loss: 26.2768\n",
      "Restoring model weights from the end of the best epoch.\n",
      "Epoch 00121: early stopping\n"
     ]
    },
    {
     "data": {
      "text/plain": [
       "<tensorflow.python.keras.callbacks.History at 0x7ff71a79ed90>"
      ]
     },
     "execution_count": 247,
     "metadata": {},
     "output_type": "execute_result"
    }
   ],
   "source": [
    "model.add(Dense(25,input_dim=X_train.shape[1],activation='relu'))\n",
    "model.add(Dense(10,activation='relu'))\n",
    "model.add(Dense(1))\n",
    "model.compile(loss='mean_squared_error',optimizer='adam')\n",
    "\n",
    "monitor = EarlyStopping(monitor='val_loss',min_delta=1e-3,patience=5,verbose=1,mode='auto',restore_best_weights=True)\n",
    "model.fit(X_train,Y_train,validation_data=(X_valid,Y_valid),callbacks=[monitor],verbose=2,epochs=1000)"
   ]
  },
  {
   "cell_type": "code",
   "execution_count": 248,
   "metadata": {},
   "outputs": [
    {
     "data": {
      "text/plain": [
       "4.970302251797317"
      ]
     },
     "execution_count": 248,
     "metadata": {},
     "output_type": "execute_result"
    }
   ],
   "source": [
    "pred = model.predict(X_valid)\n",
    "score = np.sqrt(metrics.mean_squared_error(pred,Y_valid))\n",
    "score"
   ]
  },
  {
   "cell_type": "code",
   "execution_count": 249,
   "metadata": {},
   "outputs": [],
   "source": [
    "os.chdir('/Users/ashutosh/Desktop/FLASK ML')"
   ]
  },
  {
   "cell_type": "code",
   "execution_count": 250,
   "metadata": {},
   "outputs": [
    {
     "data": {
      "text/plain": [
       "'/Users/ashutosh/Desktop/FLASK ML'"
      ]
     },
     "execution_count": 250,
     "metadata": {},
     "output_type": "execute_result"
    }
   ],
   "source": [
    "os.getcwd()"
   ]
  },
  {
   "cell_type": "code",
   "execution_count": 251,
   "metadata": {},
   "outputs": [],
   "source": [
    "model.save(os.path.join(os.getcwd(),\"mpg2_model.h5\"))"
   ]
  },
  {
   "cell_type": "code",
   "execution_count": 261,
   "metadata": {},
   "outputs": [
    {
     "data": {
      "text/plain": [
       "7"
      ]
     },
     "execution_count": 261,
     "metadata": {},
     "output_type": "execute_result"
    }
   ],
   "source": [
    "arr=np.array(X_train.columns)\n",
    "len(arr)"
   ]
  },
  {
   "cell_type": "code",
   "execution_count": 265,
   "metadata": {},
   "outputs": [],
   "source": [
    "Expected = {\n",
    "    \"cylinders\" :{\"min\":3,\"max\":8},\n",
    "    \"displacement\" :{\"min\":68,\"max\":455},\n",
    "    \"horsepower\" :{\"min\":46.0,\"max\":230.0},\n",
    "    \"weight\" :{\"min\":1613,\"max\":5140},\n",
    "    \"acceleration\" :{\"min\":8,\"max\":24.8},\n",
    "    \"year\" :{\"min\":70,\"max\":82},\n",
    "    \n",
    "}"
   ]
  },
  {
   "cell_type": "code",
   "execution_count": null,
   "metadata": {},
   "outputs": [],
   "source": []
  }
 ],
 "metadata": {
  "kernelspec": {
   "display_name": "Python 3",
   "language": "python",
   "name": "python3"
  },
  "language_info": {
   "codemirror_mode": {
    "name": "ipython",
    "version": 3
   },
   "file_extension": ".py",
   "mimetype": "text/x-python",
   "name": "python",
   "nbconvert_exporter": "python",
   "pygments_lexer": "ipython3",
   "version": "3.8.5"
  }
 },
 "nbformat": 4,
 "nbformat_minor": 4
}
